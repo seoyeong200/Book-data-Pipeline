{
 "cells": [
  {
   "cell_type": "code",
   "execution_count": 1,
   "id": "b760856f-7836-41cb-9127-176b2b5a09f5",
   "metadata": {},
   "outputs": [
    {
     "name": "stderr",
     "output_type": "stream",
     "text": [
      "22/01/25 15:35:11 WARN NativeCodeLoader: Unable to load native-hadoop library for your platform... using builtin-java classes where applicable\n",
      "Using Spark's default log4j profile: org/apache/spark/log4j-defaults.properties\n",
      "Setting default log level to \"WARN\".\n",
      "To adjust logging level use sc.setLogLevel(newLevel). For SparkR, use setLogLevel(newLevel).\n"
     ]
    },
    {
     "data": {
      "text/html": [
       "\n",
       "            <div>\n",
       "                <p><b>SparkSession - in-memory</b></p>\n",
       "                \n",
       "        <div>\n",
       "            <p><b>SparkContext</b></p>\n",
       "\n",
       "            <p><a href=\"http://de9f72b18b33:4040\">Spark UI</a></p>\n",
       "\n",
       "            <dl>\n",
       "              <dt>Version</dt>\n",
       "                <dd><code>v3.1.2</code></dd>\n",
       "              <dt>Master</dt>\n",
       "                <dd><code>local[*]</code></dd>\n",
       "              <dt>AppName</dt>\n",
       "                <dd><code>Data Engineer Training Course</code></dd>\n",
       "            </dl>\n",
       "        </div>\n",
       "        \n",
       "            </div>\n",
       "        "
      ],
      "text/plain": [
       "<pyspark.sql.session.SparkSession at 0x7fe380f93760>"
      ]
     },
     "execution_count": 1,
     "metadata": {},
     "output_type": "execute_result"
    }
   ],
   "source": [
    "# 코어 스파크 라이브러리를 임포트 합니다\n",
    "from pyspark.sql import SparkSession\n",
    "from pyspark.sql.functions import *\n",
    "from pyspark.sql.types import *\n",
    "\n",
    "spark = (\n",
    "    SparkSession\n",
    "    .builder\n",
    "    .appName(\"Data Engineer Training Course\")\n",
    "    .config(\"spark.sql.session.timeZone\", \"Asia/Seoul\")\n",
    "    .getOrCreate()\n",
    ")\n",
    "\n",
    "# 노트북에서 테이블 형태로 데이터 프레임 출력을 위한 설정을 합니다\n",
    "from IPython.display import display, display_pretty, clear_output, JSON\n",
    "spark.conf.set(\"spark.sql.repl.eagerEval.enabled\", True) # display enabled\n",
    "spark.conf.set(\"spark.sql.repl.eagerEval.truncate\", 100) # display output columns size\n",
    "spark"
   ]
  },
  {
   "cell_type": "code",
   "execution_count": 3,
   "id": "7a968768-e6cc-4781-925a-0c20c48998f4",
   "metadata": {},
   "outputs": [
    {
     "name": "stdout",
     "output_type": "stream",
     "text": [
      "root\n",
      " |-- book_id: integer (nullable = true)\n",
      " |-- title: string (nullable = true)\n",
      " |-- author: string (nullable = true)\n",
      " |-- image: string (nullable = true)\n",
      " |-- ranking: integer (nullable = true)\n",
      " |-- description: string (nullable = true)\n",
      "\n"
     ]
    },
    {
     "data": {
      "text/html": [
       "<table border='1'>\n",
       "<tr><th>book_id</th><th>title</th><th>author</th><th>image</th><th>ranking</th><th>description</th></tr>\n",
       "<tr><td>180589</td><td>자전거 도둑</td><td>박완서</td><td>https://bookthumb-phinf.pstatic.net/cover/001/805/00180589.jpg?type=m5</td><td>63</td><td>소설가 박완서의 단편동화 모음집 전기 용품 도매상의 꼬마 점원인 수남이가 도둑질도 나쁘지만 사람의 마음 속에 도사리고 있는 부도덕성이 얼마나 무서운지를 깨닫는 이야기인 표제작...</td></tr>\n",
       "<tr><td>7010932</td><td>사람이 보인다! 관상백과</td><td>한국관상학연구회</td><td>https://bookthumb-phinf.pstatic.net/cover/070/109/07010932.jpg?type=m5</td><td>61</td><td>관상은 유전적 요소와 환경에서 오는 마음의 상태에 따른 소산이다. 『관상백과』는 인상, 수상, 행동심리의 관점에서 관상을 읽어내는 방법을 제시함으로써 인간관계를 이해하는 폭을...</td></tr>\n",
       "<tr><td>7252663</td><td>망원동 브라더스</td><td>김호연</td><td>https://bookthumb-phinf.pstatic.net/cover/072/526/07252663.jpg?type=m5</td><td>59</td><td>상처받은 이들이여 연체된 인생들이 모여 사는 8평 옥탑방으로 오라김호연의 장편소설 『망원동 브라더스』 제9회 세계문학상 우수상을 수상한 작품으로 코딱지만 한 망원동 옥탑방에서...</td></tr>\n",
       "<tr><td>7290748</td><td>부의 추월차선</td><td>엠제이 드마코</td><td>https://bookthumb-phinf.pstatic.net/cover/072/907/07290748.jpg?type=m5</td><td>79</td><td>저자는 조금이라도 젊을 때 인생을 즐길 수 있을 때 부자가 되어야 한다고 주장한다 이 책은 ‘돈 나무’를 심고 단시간 내에 기하급수적으로 돈을 버는 방법에 대해 수학공식처럼 ...</td></tr>\n",
       "<tr><td>8883507</td><td>구의 증명</td><td>최진영</td><td>https://bookthumb-phinf.pstatic.net/cover/088/835/08883507.jpg?type=m5</td><td>19</td><td>누군가의 삶 한가운데 놓인 지독한 사랑젊은 감성을 위한 테이크아웃 소설 시리즈 「은행나무 노벨라」 제7권 『구의 증명』 도서출판 은행나무에서 200자 원고지 300매400매 ...</td></tr>\n",
       "<tr><td>9576588</td><td>돈, 뜨겁게 사랑하고 차갑게 다루어라</td><td>앙드레 코스톨라니</td><td>https://bookthumb-phinf.pstatic.net/cover/095/765/09576588.jpg?type=m5</td><td>52</td><td>유럽 증권계의 ‘위대한 유산’, 앙드레 코스톨라니 최후의 역작\r",
       "\r",
       "유럽 제일의 투자자 코스톨라니가 넘치는 기지와 유머로 돈의 매력을 탐지하며 증권 거래와 투자심리에 중요한 변수...</td></tr>\n",
       "<tr><td>11824574</td><td>옷소매 붉은 끝동 세트</td><td>강미강</td><td>https://bookthumb-phinf.pstatic.net/cover/118/245/11824574.jpg?type=m5</td><td>72</td><td>강미강 장편소설 도깨비보다 무섭다는 왕이 있었다 가늘고 길게 살고픈 궁녀도 있었다 이상스레 서로가 눈에 거슬렸다 그래서 다가섰다 그래도 다가서지 않았다 어렵고 애매한 한 발자...</td></tr>\n",
       "<tr><td>11824702</td><td>송사무장의 부동산 경매의 기술</td><td>송사무장</td><td>https://bookthumb-phinf.pstatic.net/cover/118/247/11824702.jpg?type=m5</td><td>64</td><td>경매 고수 송사무장이 10년은 유용하게 써먹을 경매의 기술을 알려준다『송사무장의 부동산 경매의 기술』은 이론으로 무장하고 현장을 생생하게 그려내어 실전에서 유용하게 써먹을 수...</td></tr>\n",
       "<tr><td>12109278</td><td>은행이 멈추는 날</td><td>제임스 리카즈</td><td>https://bookthumb-phinf.pstatic.net/cover/121/092/12109278.jpg?type=m5</td><td>65</td><td>사상 최악의 경제 빙하기에 어떻게 살아남을 것인가세계경제는 2008년 금융위기 이후 놀라운 회생을 이뤄낸 것처럼 보인다 하지만 지난 몇 년간의 경기회복 추세는 허울에 불과하다...</td></tr>\n",
       "<tr><td>13347349</td><td>부자 아빠 가난한 아빠</td><td>로버트 기요사키</td><td>https://bookthumb-phinf.pstatic.net/cover/133/473/13347349.jpg?type=m5</td><td>23</td><td>전 세계에서 가장 많이 팔린 경제경영서\r",
       "‘부자 아빠 가난한 아빠’ 20주년 기념 \r",
       "업그레이드 에디션 출간!\r",
       "\r",
       "- 세계 금융 변화에 맞춘 41개의 NEW 코멘트\r",
       "- 토론과 실천...</td></tr>\n",
       "<tr><td>14031714</td><td>악의 마음을 읽는 자들</td><td>권일용, 고나무</td><td>https://bookthumb-phinf.pstatic.net/cover/140/317/14031714.jpg?type=m5</td><td>60</td><td>프로파일링의 살아 있는 역사 권일용, \r",
       "그가 지나온 ‘진짜’ 범죄심리분석의 세계\r",
       "\r",
       "대한민국 1호 프로파일러 권일용 전 경정의 이야기를 담은 논픽션 『악의 마음을 읽는 자들』이...</td></tr>\n",
       "<tr><td>14111684</td><td>감옥으로부터의 사색</td><td>신영복</td><td>https://bookthumb-phinf.pstatic.net/cover/141/116/14111684.jpg?type=m5</td><td>64</td><td>“그 세월 자체로도 우리의 가슴을 저미는 20년 징역살이 동안 땅에 묻은 살이 삭고 삭아 하얗게 빛나는 뼛섬을 꺼내놓듯이 한 젊음이 삭고 녹아내려 키워낸 반짝이는 사색의 기록...</td></tr>\n",
       "<tr><td>14342664</td><td>해커스 토익 기출 보카 TOEIC VOCA 영단어</td><td>David Cho</td><td>https://bookthumb-phinf.pstatic.net/cover/143/426/14342664.jpg?type=m5</td><td>19</td><td>1. 토익 기출 보카 30일 완성! 2. 주제별 연상암기로 쉽고 재미있게 단어 학습 3. 최신 기출 단어 및 출제포인트 수록 4. 목표 점수대별 필수 단어로 맞춤 학습 가능 ...</td></tr>\n",
       "<tr><td>14384887</td><td>오은영의 화해</td><td>오은영</td><td>https://bookthumb-phinf.pstatic.net/cover/143/848/14384887.jpg?type=m5</td><td>62</td><td>상처받아 울고 있는 나에게 그런 자신을 미워했던 내가 화해의 손을 내밀다국민 육아 멘토로 잘 알려진 정신건강의학과 전문의 오은영 박사가 우리가 잘 몰랐던 어쩌면 모른 척하고 ...</td></tr>\n",
       "<tr><td>14450674</td><td>경매 권리분석 이렇게 쉬웠어?</td><td>박희철</td><td>https://bookthumb-phinf.pstatic.net/cover/144/506/14450674.jpg?type=m5</td><td>60</td><td>이 책 한 권만 읽어도 쉬운 물건으로 수익내기가 가능하다대한민국에서 가장 쉽고 체계적인 권리분석 책권리분석이 어렵다고실전 투자자가 알려주는 가장 쉽고 가장 체계적인 초간단 권...</td></tr>\n",
       "<tr><td>14959538</td><td>기초영문법 영어독학 교재, 영어회화 영어작문 영어독해 동시학습 해커스 그래머 게이트웨이 베이직(Grammar Gateway Basic)</td><td>David Cho</td><td>https://bookthumb-phinf.pstatic.net/cover/149/595/14959538.jpg?type=m5</td><td>20</td><td>p1 초보를 위한 기초 영문법 한 달 완성brbr2 어려운 문법 용어가 없는 쉬운 기초 영문법brbr 1 초보도 이해하기 쉬운 문법 설명brbr 2 문법 내용이 한 눈에 보이...</td></tr>\n",
       "<tr><td>15512454</td><td>데일 카네기 인간관계론</td><td>데일 카네기</td><td>https://bookthumb-phinf.pstatic.net/cover/155/124/15512454.jpg?type=m5</td><td>66</td><td>사람의 마음을 사로잡는 가장 빠르고 확실한 방법데일 카네기가 전하는 성공하는 인간관계의 비밀인간관계는 친구를 만들고 적을 만들지 않는 것에서 시작된다 『데일 카네기 인간관계론...</td></tr>\n",
       "<tr><td>15911386</td><td>해커스 토익 RC READING 리딩</td><td>David Cho</td><td>https://bookthumb-phinf.pstatic.net/cover/159/113/15911386.jpg?type=m5</td><td>53</td><td>토익 리딩의 기본서문법독해어휘에서 실전까지1 토익 시험 최신기출경향 완벽 분석 및 반영2 토익 READING 최신 출제 경향 한눈에 보기 제공3 한 권으로 기본부터 실전까지 ...</td></tr>\n",
       "<tr><td>16710402</td><td>안녕, 소중한 사람</td><td>정한경</td><td>https://bookthumb-phinf.pstatic.net/cover/167/104/16710402.jpg?type=m5</td><td>53</td><td>입소문으로 증명해낸 ‘위로와 사랑의 책’ 《안녕 소중한 사람》 15만부 기념 러브레터 에디션 출시2020년 출간된 정한경 작가의 첫 번째 에세이 《안녕 소중한 사람》이 202...</td></tr>\n",
       "<tr><td>16823099</td><td>어떻게 말해줘야 할까</td><td>오은영</td><td>https://bookthumb-phinf.pstatic.net/cover/168/230/16823099.jpg?type=m5</td><td>68</td><td>p채널A 〈요즘 육아 금쪽같은 내 새끼〉 span classworddic enSBSspan 〈우리 아이가 달라졌어요〉brbr국민 육아멘토 오은영 박사가 알려주는 ‘부모의 말’...</td></tr>\n",
       "</table>\n",
       "only showing top 20 rows\n"
      ],
      "text/plain": [
       "+--------+--------------------------------------------------------------------------------------------------------------------+-----------------+----------------------------------------------------------------------+-------+--------------------------------------------------------------------------------------------------------------------------------------------------------------------------------+\n",
       "| book_id|                                                                                                               title|           author|                                                                 image|ranking|                                                                                                                                                                     description|\n",
       "+--------+--------------------------------------------------------------------------------------------------------------------+-----------------+----------------------------------------------------------------------+-------+--------------------------------------------------------------------------------------------------------------------------------------------------------------------------------+\n",
       "|  180589|                                                                                                         자전거 도둑|           박완서|https://bookthumb-phinf.pstatic.net/cover/001/805/00180589.jpg?type=m5|     63| 소설가 박완서의 단편동화 모음집 전기 용품 도매상의 꼬마 점원인 수남이가 도둑질도 나쁘지만 사람의 마음 속에 도사리고 있는 부도덕성이 얼마나 무서운지를 깨닫는 이야기인 표제작...|\n",
       "| 7010932|                                                                                             사람이 보인다! 관상백과| 한국관상학연구회|https://bookthumb-phinf.pstatic.net/cover/070/109/07010932.jpg?type=m5|     61|  관상은 유전적 요소와 환경에서 오는 마음의 상태에 따른 소산이다. 『관상백과』는 인상, 수상, 행동심리의 관점에서 관상을 읽어내는 방법을 제시함으로써 인간관계를 이해하는 폭을...|\n",
       "| 7252663|                                                                                                     망원동 브라더스|           김호연|https://bookthumb-phinf.pstatic.net/cover/072/526/07252663.jpg?type=m5|     59| 상처받은 이들이여 연체된 인생들이 모여 사는 8평 옥탑방으로 오라김호연의 장편소설 『망원동 브라더스』 제9회 세계문학상 우수상을 수상한 작품으로 코딱지만 한 망원동 옥탑방에서...|\n",
       "| 7290748|                                                                                                       부의 추월차선|    엠제이 드마코|https://bookthumb-phinf.pstatic.net/cover/072/907/07290748.jpg?type=m5|     79|       저자는 조금이라도 젊을 때 인생을 즐길 수 있을 때 부자가 되어야 한다고 주장한다 이 책은 ‘돈 나무’를 심고 단시간 내에 기하급수적으로 돈을 버는 방법에 대해 수학공식처럼 ...|\n",
       "| 8883507|                                                                                                           구의 증명|           최진영|https://bookthumb-phinf.pstatic.net/cover/088/835/08883507.jpg?type=m5|     19|          누군가의 삶 한가운데 놓인 지독한 사랑젊은 감성을 위한 테이크아웃 소설 시리즈 「은행나무 노벨라」 제7권 『구의 증명』 도서출판 은행나무에서 200자 원고지 300매400매 ...|\n",
       "| 9576588|                                                                                 돈, 뜨겁게 사랑하고 차갑게 다루어라|앙드레 코스톨라니|https://bookthumb-phinf.pstatic.net/cover/095/765/09576588.jpg?type=m5|     52|     유럽 증권계의 ‘위대한 유산’, 앙드레 코스톨라니 최후의 역작\n",
       "\n",
       "유럽 제일의 투자자 코스톨라니가 넘치는 기지와 유머로 돈의 매력을 탐지하며 증권 거래와 투자심리에 중요한 변수...|\n",
       "|11824574|                                                                                               옷소매 붉은 끝동 세트|           강미강|https://bookthumb-phinf.pstatic.net/cover/118/245/11824574.jpg?type=m5|     72|  강미강 장편소설 도깨비보다 무섭다는 왕이 있었다 가늘고 길게 살고픈 궁녀도 있었다 이상스레 서로가 눈에 거슬렸다 그래서 다가섰다 그래도 다가서지 않았다 어렵고 애매한 한 발자...|\n",
       "|11824702|                                                                                       송사무장의 부동산 경매의 기술|         송사무장|https://bookthumb-phinf.pstatic.net/cover/118/247/11824702.jpg?type=m5|     64| 경매 고수 송사무장이 10년은 유용하게 써먹을 경매의 기술을 알려준다『송사무장의 부동산 경매의 기술』은 이론으로 무장하고 현장을 생생하게 그려내어 실전에서 유용하게 써먹을 수...|\n",
       "|12109278|                                                                                                    은행이 멈추는 날|    제임스 리카즈|https://bookthumb-phinf.pstatic.net/cover/121/092/12109278.jpg?type=m5|     65|     사상 최악의 경제 빙하기에 어떻게 살아남을 것인가세계경제는 2008년 금융위기 이후 놀라운 회생을 이뤄낸 것처럼 보인다 하지만 지난 몇 년간의 경기회복 추세는 허울에 불과하다...|\n",
       "|13347349|                                                                                               부자 아빠 가난한 아빠|  로버트 기요사키|https://bookthumb-phinf.pstatic.net/cover/133/473/13347349.jpg?type=m5|     23|                  전 세계에서 가장 많이 팔린 경제경영서\n",
       "‘부자 아빠 가난한 아빠’ 20주년 기념 \n",
       "업그레이드 에디션 출간!\n",
       "\n",
       "- 세계 금융 변화에 맞춘 41개의 NEW 코멘트\n",
       "- 토론과 실천...|\n",
       "|14031714|                                                                                               악의 마음을 읽는 자들|   권일용, 고나무|https://bookthumb-phinf.pstatic.net/cover/140/317/14031714.jpg?type=m5|     60|       프로파일링의 살아 있는 역사 권일용, \n",
       "그가 지나온 ‘진짜’ 범죄심리분석의 세계\n",
       "\n",
       "대한민국 1호 프로파일러 권일용 전 경정의 이야기를 담은 논픽션 『악의 마음을 읽는 자들』이...|\n",
       "|14111684|                                                                                                 감옥으로부터의 사색|           신영복|https://bookthumb-phinf.pstatic.net/cover/141/116/14111684.jpg?type=m5|     64|       “그 세월 자체로도 우리의 가슴을 저미는 20년 징역살이 동안 땅에 묻은 살이 삭고 삭아 하얗게 빛나는 뼛섬을 꺼내놓듯이 한 젊음이 삭고 녹아내려 키워낸 반짝이는 사색의 기록...|\n",
       "|14342664|                                                                             해커스 토익 기출 보카 TOEIC VOCA 영단어|        David Cho|https://bookthumb-phinf.pstatic.net/cover/143/426/14342664.jpg?type=m5|     19|                  1. 토익 기출 보카 30일 완성! 2. 주제별 연상암기로 쉽고 재미있게 단어 학습 3. 최신 기출 단어 및 출제포인트 수록 4. 목표 점수대별 필수 단어로 맞춤 학습 가능 ...|\n",
       "|14384887|                                                                                                       오은영의 화해|           오은영|https://bookthumb-phinf.pstatic.net/cover/143/848/14384887.jpg?type=m5|     62|    상처받아 울고 있는 나에게 그런 자신을 미워했던 내가 화해의 손을 내밀다국민 육아 멘토로 잘 알려진 정신건강의학과 전문의 오은영 박사가 우리가 잘 몰랐던 어쩌면 모른 척하고 ...|\n",
       "|14450674|                                                                                        경매 권리분석 이렇게 쉬웠어?|           박희철|https://bookthumb-phinf.pstatic.net/cover/144/506/14450674.jpg?type=m5|     60| 이 책 한 권만 읽어도 쉬운 물건으로 수익내기가 가능하다대한민국에서 가장 쉽고 체계적인 권리분석 책권리분석이 어렵다고실전 투자자가 알려주는 가장 쉽고 가장 체계적인 초간단 권...|\n",
       "|14959538|기초영문법 영어독학 교재, 영어회화 영어작문 영어독해 동시학습 해커스 그래머 게이트웨이 베이직(Grammar Gateway Basic)|        David Cho|https://bookthumb-phinf.pstatic.net/cover/149/595/14959538.jpg?type=m5|     20|                      p1 초보를 위한 기초 영문법 한 달 완성brbr2 어려운 문법 용어가 없는 쉬운 기초 영문법brbr 1 초보도 이해하기 쉬운 문법 설명brbr 2 문법 내용이 한 눈에 보이...|\n",
       "|15512454|                                                                                              데일 카네기 인간관계론|      데일 카네기|https://bookthumb-phinf.pstatic.net/cover/155/124/15512454.jpg?type=m5|     66|사람의 마음을 사로잡는 가장 빠르고 확실한 방법데일 카네기가 전하는 성공하는 인간관계의 비밀인간관계는 친구를 만들고 적을 만들지 않는 것에서 시작된다 『데일 카네기 인간관계론...|\n",
       "|15911386|                                                                                         해커스 토익 RC READING 리딩|        David Cho|https://bookthumb-phinf.pstatic.net/cover/159/113/15911386.jpg?type=m5|     53|            토익 리딩의 기본서문법독해어휘에서 실전까지1 토익 시험 최신기출경향 완벽 분석 및 반영2 토익 READING 최신 출제 경향 한눈에 보기 제공3 한 권으로 기본부터 실전까지 ...|\n",
       "|16710402|                                                                                                   안녕, 소중한 사람|           정한경|https://bookthumb-phinf.pstatic.net/cover/167/104/16710402.jpg?type=m5|     53|            입소문으로 증명해낸 ‘위로와 사랑의 책’ 《안녕 소중한 사람》 15만부 기념 러브레터 에디션 출시2020년 출간된 정한경 작가의 첫 번째 에세이 《안녕 소중한 사람》이 202...|\n",
       "|16823099|                                                                                                어떻게 말해줘야 할까|           오은영|https://bookthumb-phinf.pstatic.net/cover/168/230/16823099.jpg?type=m5|     68|                             p채널A 〈요즘 육아 금쪽같은 내 새끼〉 span classworddic enSBSspan 〈우리 아이가 달라졌어요〉brbr국민 육아멘토 오은영 박사가 알려주는 ‘부모의 말’...|\n",
       "+--------+--------------------------------------------------------------------------------------------------------------------+-----------------+----------------------------------------------------------------------+-------+--------------------------------------------------------------------------------------------------------------------------------------------------------------------------------+\n",
       "only showing top 20 rows"
      ]
     },
     "metadata": {},
     "output_type": "display_data"
    }
   ],
   "source": [
    "book = spark.read.parquet(\"book_table/*.parquet\")\n",
    "book.printSchema()\n",
    "# book.show(truncate=False)\n",
    "display(book)"
   ]
  },
  {
   "cell_type": "code",
   "execution_count": 4,
   "id": "31c1803e-62b1-4f6d-a746-15c5f47f191f",
   "metadata": {},
   "outputs": [
    {
     "data": {
      "text/html": [
       "<table border='1'>\n",
       "<tr><th>database</th><th>tableName</th><th>isTemporary</th></tr>\n",
       "<tr><td></td><td>book</td><td>true</td></tr>\n",
       "</table>\n"
      ],
      "text/plain": [
       "+--------+---------+-----------+\n",
       "|database|tableName|isTemporary|\n",
       "+--------+---------+-----------+\n",
       "|        |     book|       true|\n",
       "+--------+---------+-----------+"
      ]
     },
     "execution_count": 4,
     "metadata": {},
     "output_type": "execute_result"
    }
   ],
   "source": [
    "book.createOrReplaceTempView(\"book\")\n",
    "spark.sql(\"show tables 'book'\")"
   ]
  },
  {
   "cell_type": "code",
   "execution_count": 24,
   "id": "e48f385a-4ccb-44b0-82ac-cdcbd67682d8",
   "metadata": {},
   "outputs": [
    {
     "name": "stdout",
     "output_type": "stream",
     "text": [
      "\u001b[33mWARNING: The directory '/home/jovyan/.cache/pip' or its parent directory is not owned or is not writable by the current user. The cache has been disabled. Check the permissions and owner of that directory. If executing pip with sudo, you should use sudo's -H flag.\u001b[0m\n",
      "Collecting gensim==3.8.3\n",
      "  Downloading gensim-3.8.3.tar.gz (23.4 MB)\n",
      "\u001b[K     |████████████████████████████████| 23.4 MB 6.6 MB/s eta 0:00:01    |██▏                             | 1.6 MB 2.5 MB/s eta 0:00:09     |██████████                      | 7.2 MB 3.9 MB/s eta 0:00:05\n",
      "\u001b[?25hRequirement already satisfied: numpy>=1.11.3 in /opt/conda/lib/python3.9/site-packages (from gensim==3.8.3) (1.21.1)\n",
      "Requirement already satisfied: scipy>=0.18.1 in /opt/conda/lib/python3.9/site-packages (from gensim==3.8.3) (1.7.1)\n",
      "Requirement already satisfied: six>=1.5.0 in /opt/conda/lib/python3.9/site-packages (from gensim==3.8.3) (1.16.0)\n",
      "Requirement already satisfied: smart_open>=1.8.1 in /opt/conda/lib/python3.9/site-packages (from gensim==3.8.3) (5.2.1)\n",
      "Building wheels for collected packages: gensim\n",
      "  Building wheel for gensim (setup.py) ... \u001b[?25ldone\n",
      "\u001b[?25h  Created wheel for gensim: filename=gensim-3.8.3-cp39-cp39-linux_x86_64.whl size=24328203 sha256=f6524bbf7a349fcd7271c0c33bbcf0121bb1f8a115370510a10f6dae6462214f\n",
      "  Stored in directory: /tmp/pip-ephem-wheel-cache-f8ghvv6v/wheels/ca/5d/af/618594ec2f28608c1d6ee7d2b7e95a3e9b06551e3b80a491d6\n",
      "Successfully built gensim\n",
      "Installing collected packages: gensim\n",
      "  Attempting uninstall: gensim\n",
      "    Found existing installation: gensim 3.8.1\n",
      "    Uninstalling gensim-3.8.1:\n",
      "      Successfully uninstalled gensim-3.8.1\n",
      "Successfully installed gensim-3.8.3\n",
      "\u001b[33mWARNING: Running pip as the 'root' user can result in broken permissions and conflicting behaviour with the system package manager. It is recommended to use a virtual environment instead: https://pip.pypa.io/warnings/venv\u001b[0m\n",
      "\u001b[33mWARNING: The directory '/home/jovyan/.cache/pip' or its parent directory is not owned or is not writable by the current user. The cache has been disabled. Check the permissions and owner of that directory. If executing pip with sudo, you should use sudo's -H flag.\u001b[0m\n",
      "gensim==3.8.3\n"
     ]
    }
   ],
   "source": [
    "#!pip install koalas\n",
    "!pip install gensim==3.8.3\n",
    "!pip freeze | grep gensim"
   ]
  },
  {
   "cell_type": "code",
   "execution_count": 6,
   "id": "d363387f-6def-4f54-b1a4-610a44633876",
   "metadata": {},
   "outputs": [
    {
     "name": "stderr",
     "output_type": "stream",
     "text": [
      "WARNING:root:'PYARROW_IGNORE_TIMEZONE' environment variable was not set. It is required to set this environment variable to '1' in both driver and executor sides if you use pyarrow>=2.0.0. Koalas will set it for you but it does not work if there is a Spark context already launched.\n"
     ]
    }
   ],
   "source": [
    "import databricks.koalas as ks"
   ]
  },
  {
   "cell_type": "code",
   "execution_count": 7,
   "id": "06f1c8a6-ba78-43fa-984a-0d7403e28ea5",
   "metadata": {},
   "outputs": [
    {
     "data": {
      "text/plain": [
       "databricks.koalas.frame.DataFrame"
      ]
     },
     "execution_count": 7,
     "metadata": {},
     "output_type": "execute_result"
    }
   ],
   "source": [
    "# book spark DataFrmae 을 Koalas DataFrame으로 변경\n",
    "# 다시 바꾸기 : to_spark()\n",
    "bookdf = book.to_koalas()\n",
    "type(bookdf)"
   ]
  },
  {
   "cell_type": "code",
   "execution_count": 9,
   "id": "757f75c3-72e3-4e84-ad5e-c686610f8b75",
   "metadata": {},
   "outputs": [
    {
     "name": "stderr",
     "output_type": "stream",
     "text": [
      "22/01/26 17:28:08 WARN WindowExec: No Partition Defined for Window operation! Moving all data to a single partition, this can cause serious performance degradation.\n"
     ]
    },
    {
     "data": {
      "text/html": [
       "<div>\n",
       "<style scoped>\n",
       "    .dataframe tbody tr th:only-of-type {\n",
       "        vertical-align: middle;\n",
       "    }\n",
       "\n",
       "    .dataframe tbody tr th {\n",
       "        vertical-align: top;\n",
       "    }\n",
       "\n",
       "    .dataframe thead th {\n",
       "        text-align: right;\n",
       "    }\n",
       "</style>\n",
       "<table border=\"1\" class=\"dataframe\">\n",
       "  <thead>\n",
       "    <tr style=\"text-align: right;\">\n",
       "      <th></th>\n",
       "      <th>book_id</th>\n",
       "      <th>title</th>\n",
       "      <th>author</th>\n",
       "      <th>image</th>\n",
       "      <th>ranking</th>\n",
       "      <th>description</th>\n",
       "    </tr>\n",
       "  </thead>\n",
       "  <tbody>\n",
       "    <tr>\n",
       "      <th>0</th>\n",
       "      <td>180589</td>\n",
       "      <td>자전거 도둑</td>\n",
       "      <td>박완서</td>\n",
       "      <td>https://bookthumb-phinf.pstatic.net/cover/001/...</td>\n",
       "      <td>63</td>\n",
       "      <td>소설가 박완서의 단편동화 모음집 전기 용품 도매상의 꼬마 점원인 수남이가 도둑질도 ...</td>\n",
       "    </tr>\n",
       "    <tr>\n",
       "      <th>1</th>\n",
       "      <td>7010932</td>\n",
       "      <td>사람이 보인다! 관상백과</td>\n",
       "      <td>한국관상학연구회</td>\n",
       "      <td>https://bookthumb-phinf.pstatic.net/cover/070/...</td>\n",
       "      <td>61</td>\n",
       "      <td>관상은 유전적 요소와 환경에서 오는 마음의 상태에 따른 소산이다. 『관상백과』는 인...</td>\n",
       "    </tr>\n",
       "    <tr>\n",
       "      <th>2</th>\n",
       "      <td>7252663</td>\n",
       "      <td>망원동 브라더스</td>\n",
       "      <td>김호연</td>\n",
       "      <td>https://bookthumb-phinf.pstatic.net/cover/072/...</td>\n",
       "      <td>59</td>\n",
       "      <td>상처받은 이들이여 연체된 인생들이 모여 사는 8평 옥탑방으로 오라김호연의 장편소설 ...</td>\n",
       "    </tr>\n",
       "    <tr>\n",
       "      <th>3</th>\n",
       "      <td>7290748</td>\n",
       "      <td>부의 추월차선</td>\n",
       "      <td>엠제이 드마코</td>\n",
       "      <td>https://bookthumb-phinf.pstatic.net/cover/072/...</td>\n",
       "      <td>79</td>\n",
       "      <td>저자는 조금이라도 젊을 때 인생을 즐길 수 있을 때 부자가 되어야 한다고 주장한다 ...</td>\n",
       "    </tr>\n",
       "    <tr>\n",
       "      <th>4</th>\n",
       "      <td>8883507</td>\n",
       "      <td>구의 증명</td>\n",
       "      <td>최진영</td>\n",
       "      <td>https://bookthumb-phinf.pstatic.net/cover/088/...</td>\n",
       "      <td>19</td>\n",
       "      <td>누군가의 삶 한가운데 놓인 지독한 사랑젊은 감성을 위한 테이크아웃 소설 시리즈 「은...</td>\n",
       "    </tr>\n",
       "  </tbody>\n",
       "</table>\n",
       "</div>"
      ],
      "text/plain": [
       "   book_id          title    author                                                                   image  ranking                                                                                                                                                                                                                                                                                                                                                                                                                                                                                                                                                                                                                                                                                                                                                                                                                                                                                                                         description\n",
       "0   180589         자전거 도둑       박완서  https://bookthumb-phinf.pstatic.net/cover/001/805/00180589.jpg?type=m5       63  소설가 박완서의 단편동화 모음집 전기 용품 도매상의 꼬마 점원인 수남이가 도둑질도 나쁘지만 사람의 마음 속에 도사리고 있는 부도덕성이 얼마나 무서운지를 깨닫는 이야기인 표제작 lt자전거 도둑gt을 비롯해 총 6편의 단편동화가 실려 있다 함께 실린 그림은 이야기를 한층 빛나도록 도와준다☞ 전문가 추천사독서지도전문가 이소영 선생님이 추천하는 4학년 추천 필독서lt추천사유이런 점이 좋아요gt부당한 주장과 억울한 사건에서도 용기와 희망을 주는 따뜻한 마음의 신뢰와 공정한 생활태도의 중요함을 알게 해주는 책입니다 lt부모님 지도gt아이들이 의사결정을 하고 판단을 하는 데에는 가치관이 크게 작용합니다 아버지의 가르침을 마음에 새기고 지키려는 수남이의 노력하는 모습에서 배울 점이 무엇인지 스스로 발견하도록 해주세요lt도서설명 및 활용방법gt전기용품 도매점의 꼬마점원 수남이는 자전거를 타고 심부름을 하다 자동차를 들이받습니다 자동차 주인은 물어내라며 자전거를 못 가져가게 합니다 수남이는 자전거를 타고 도망치고 이런 얘기를 들은 주인영감은 잘했다면 칭찬을 합니다 책을 읽은 후 수남이가 살았던 가난한 시절의 내용을 시간과 공간을 생각하며 내용을 요약해 봅니다 그리고 수남이와 자동차 주인 주인 영감의 입장에서 이야기를 나누어봅니다 그리고 누구의 주장이 타당한지에 대해서 의견을 나누어봅니다 각 인물에 따라 내용을 재구성해 보고 인물의 성격과 생활모습을 정리해 봅니다 또 나라면 이렇게 억울한 상황에서 어떻게 대처할 지를 생각해 보고주제를 파악하고 독후감을 써 봅니다 lt교과서연계도서를 읽으면 좋은 이유gt친절과 양보의 의미를 알고 실천하며 친구 간의 믿음과 우정의 소중함을 배우는 시기입니다 어려움 환경에서 수남이를 지지하고 격려하는 주인영감을 통해 나이를 뛰어넘어 서로를 믿어주는 마음을 배울 수 있습니다\n",
       "1  7010932  사람이 보인다! 관상백과  한국관상학연구회  https://bookthumb-phinf.pstatic.net/cover/070/109/07010932.jpg?type=m5       61                                                                                                                                                                                                                                                                                                                                                                                                                                                                                                                                                                                                                                                                                                                                                                                                                관상은 유전적 요소와 환경에서 오는 마음의 상태에 따른 소산이다. 『관상백과』는 인상, 수상, 행동심리의 관점에서 관상을 읽어내는 방법을 제시함으로써 인간관계를 이해하는 폭을 넓히도록 유익을 주는 미니북이다.\n",
       "2  7252663       망원동 브라더스       김호연  https://bookthumb-phinf.pstatic.net/cover/072/526/07252663.jpg?type=m5       59                                                                                                                                                                                                                                                                                                                                                                                                                                                                 상처받은 이들이여 연체된 인생들이 모여 사는 8평 옥탑방으로 오라김호연의 장편소설 『망원동 브라더스』 제9회 세계문학상 우수상을 수상한 작품으로 코딱지만 한 망원동 옥탑방에서 기묘한 동거를 시작한 찌질한 네 남자의 이야기를 담고 있다 20대 만년 고시생 30대 백수 40대 기러기 아빠 50대 황혼이혼남까지 세대별 문제 남성들이 종류별로 진열되어 있는 옥탑방에서 펼쳐지는 고군분투 재기 프로젝트를 만나볼 수 있다두 계절 동안 8평 좁은 공간에서 처절하게 유쾌한 시간을 보내는 포 트러블 브라더스의 좌절과 재기 격려와 배신 여행과 추억 사랑과 우정을 생생하게 그려냈다 영화 만화 소설 장르를 넘나들며 글을 쓰는 저자 특유의 찰진 입담과 영화 장면처럼 그려지는 에피소드들을 통해 현실은 어둡지만 그에 굴하거나 분노하지 않고 각자 자신의 길을 열심히 찾아가는 이들의 유쾌한 이야기를 들어보고 위안을 얻을 수 있다\n",
       "3  7290748        부의 추월차선   엠제이 드마코  https://bookthumb-phinf.pstatic.net/cover/072/907/07290748.jpg?type=m5       79                                                                                                                                                                                                                                                                                                                                                                                                                                                                                                                                                                                                                                                                                                                                                                                                                저자는 조금이라도 젊을 때 인생을 즐길 수 있을 때 부자가 되어야 한다고 주장한다 이 책은 ‘돈 나무’를 심고 단시간 내에 기하급수적으로 돈을 버는 방법에 대해 수학공식처럼 치밀하고 잘 다져진 방법을 제시한다\n",
       "4  8883507          구의 증명       최진영  https://bookthumb-phinf.pstatic.net/cover/088/835/08883507.jpg?type=m5       19                                                                                                                                                                                                                                                                                                                                                                                                                                                                                                                                            누군가의 삶 한가운데 놓인 지독한 사랑젊은 감성을 위한 테이크아웃 소설 시리즈 「은행나무 노벨라」 제7권 『구의 증명』 도서출판 은행나무에서 200자 원고지 300매400매 분량으로 한두 시간이면 읽을 수 있을 만큼 속도감 있고 날렵하며 트렌드에 민감한 젊은 독자들을 대상으로 한 형식과 스타일을 콘셉트로 한 작품들을 선보인다『구의 증명』은 사랑하는 연인의 갑작스러운 죽음 이후 겪게 되는 상실과 애도의 과정을 통해 삶의 의미 혹은 죽음의 의미를 되묻는 작품이다 저자는 퇴색하지 않는 사랑의 가치를 전면에 내세운 이 소설에서 세련된 감성과 탁월한 문체 아름다운 문장과 감성적이며 애절한 감수성을 통해 젊고 아름다운 남녀의 열정적인 사랑과 냉정한 죽음에 대해 이야기하고 있다"
      ]
     },
     "execution_count": 9,
     "metadata": {},
     "output_type": "execute_result"
    }
   ],
   "source": [
    "bookdf.head(5)"
   ]
  },
  {
   "cell_type": "code",
   "execution_count": 26,
   "id": "a54dcedf-654a-4744-8b84-0e9aad836727",
   "metadata": {},
   "outputs": [
    {
     "data": {
      "text/plain": [
       "109"
      ]
     },
     "execution_count": 26,
     "metadata": {},
     "output_type": "execute_result"
    }
   ],
   "source": [
    "len(bookdf)"
   ]
  },
  {
   "cell_type": "code",
   "execution_count": 25,
   "id": "b49bc633-4294-435d-9e6c-96bc88d250a6",
   "metadata": {},
   "outputs": [
    {
     "name": "stderr",
     "output_type": "stream",
     "text": [
      "ERROR:gensim.models.word2vec:Model load error. Was model saved using code from an older Gensim Version? Try loading older model using gensim-3.8.3, then re-saving, to restore compatibility with current code.\n"
     ]
    },
    {
     "ename": "AttributeError",
     "evalue": "Can't get attribute 'Vocab' on <module 'gensim.models.word2vec' from '/opt/conda/lib/python3.9/site-packages/gensim/models/word2vec.py'>",
     "output_type": "error",
     "traceback": [
      "\u001b[0;31m---------------------------------------------------------------------------\u001b[0m",
      "\u001b[0;31mAttributeError\u001b[0m                            Traceback (most recent call last)",
      "\u001b[0;32m/tmp/ipykernel_53/1020194349.py\u001b[0m in \u001b[0;36m<module>\u001b[0;34m\u001b[0m\n\u001b[1;32m      3\u001b[0m \u001b[0;32mfrom\u001b[0m \u001b[0mgensim\u001b[0m\u001b[0;34m.\u001b[0m\u001b[0mmodels\u001b[0m\u001b[0;34m.\u001b[0m\u001b[0mword2vec\u001b[0m \u001b[0;32mimport\u001b[0m \u001b[0mWord2Vec\u001b[0m\u001b[0;34m\u001b[0m\u001b[0;34m\u001b[0m\u001b[0m\n\u001b[1;32m      4\u001b[0m \u001b[0;34m\u001b[0m\u001b[0m\n\u001b[0;32m----> 5\u001b[0;31m \u001b[0mkovec\u001b[0m \u001b[0;34m=\u001b[0m \u001b[0mWord2Vec\u001b[0m\u001b[0;34m.\u001b[0m\u001b[0mload\u001b[0m\u001b[0;34m(\u001b[0m\u001b[0;34m'./pretrained-W2V/ko.bin'\u001b[0m\u001b[0;34m)\u001b[0m\u001b[0;34m\u001b[0m\u001b[0;34m\u001b[0m\u001b[0m\n\u001b[0m",
      "\u001b[0;32m/opt/conda/lib/python3.9/site-packages/gensim/models/word2vec.py\u001b[0m in \u001b[0;36mload\u001b[0;34m(cls, rethrow, *args, **kwargs)\u001b[0m\n",
      "\u001b[0;32m/opt/conda/lib/python3.9/site-packages/gensim/models/word2vec.py\u001b[0m in \u001b[0;36mload\u001b[0;34m(cls, rethrow, *args, **kwargs)\u001b[0m\n",
      "\u001b[0;32m/opt/conda/lib/python3.9/site-packages/gensim/utils.py\u001b[0m in \u001b[0;36mload\u001b[0;34m(cls, fname, mmap)\u001b[0m\n\u001b[1;32m    483\u001b[0m         \u001b[0;32mfor\u001b[0m \u001b[0mattrib\u001b[0m \u001b[0;32min\u001b[0m \u001b[0mgetattr\u001b[0m\u001b[0;34m(\u001b[0m\u001b[0mself\u001b[0m\u001b[0;34m,\u001b[0m \u001b[0;34m'__scipys'\u001b[0m\u001b[0;34m,\u001b[0m \u001b[0;34m[\u001b[0m\u001b[0;34m]\u001b[0m\u001b[0;34m)\u001b[0m\u001b[0;34m:\u001b[0m\u001b[0;34m\u001b[0m\u001b[0;34m\u001b[0m\u001b[0m\n\u001b[1;32m    484\u001b[0m             \u001b[0mlogger\u001b[0m\u001b[0;34m.\u001b[0m\u001b[0minfo\u001b[0m\u001b[0;34m(\u001b[0m\u001b[0;34m\"loading %s from %s with mmap=%s\"\u001b[0m\u001b[0;34m,\u001b[0m \u001b[0mattrib\u001b[0m\u001b[0;34m,\u001b[0m \u001b[0msubname\u001b[0m\u001b[0;34m(\u001b[0m\u001b[0mfname\u001b[0m\u001b[0;34m,\u001b[0m \u001b[0mattrib\u001b[0m\u001b[0;34m)\u001b[0m\u001b[0;34m,\u001b[0m \u001b[0mmmap\u001b[0m\u001b[0;34m)\u001b[0m\u001b[0;34m\u001b[0m\u001b[0;34m\u001b[0m\u001b[0m\n\u001b[0;32m--> 485\u001b[0;31m             \u001b[0msparse\u001b[0m \u001b[0;34m=\u001b[0m \u001b[0munpickle\u001b[0m\u001b[0;34m(\u001b[0m\u001b[0msubname\u001b[0m\u001b[0;34m(\u001b[0m\u001b[0mfname\u001b[0m\u001b[0;34m,\u001b[0m \u001b[0mattrib\u001b[0m\u001b[0;34m)\u001b[0m\u001b[0;34m)\u001b[0m\u001b[0;34m\u001b[0m\u001b[0;34m\u001b[0m\u001b[0m\n\u001b[0m\u001b[1;32m    486\u001b[0m             \u001b[0;32mif\u001b[0m \u001b[0mcompress\u001b[0m\u001b[0;34m:\u001b[0m\u001b[0;34m\u001b[0m\u001b[0;34m\u001b[0m\u001b[0m\n\u001b[1;32m    487\u001b[0m                 \u001b[0;32mif\u001b[0m \u001b[0mmmap\u001b[0m\u001b[0;34m:\u001b[0m\u001b[0;34m\u001b[0m\u001b[0;34m\u001b[0m\u001b[0m\n",
      "\u001b[0;32m/opt/conda/lib/python3.9/site-packages/gensim/utils.py\u001b[0m in \u001b[0;36munpickle\u001b[0;34m(fname)\u001b[0m\n\u001b[1;32m   1458\u001b[0m                     \u001b[0mcategory\u001b[0m\u001b[0;34m=\u001b[0m\u001b[0mDeprecationWarning\u001b[0m\u001b[0;34m,\u001b[0m\u001b[0;34m\u001b[0m\u001b[0;34m\u001b[0m\u001b[0m\n\u001b[1;32m   1459\u001b[0m                     \u001b[0mstacklevel\u001b[0m\u001b[0;34m=\u001b[0m\u001b[0;36m2\u001b[0m\u001b[0;34m\u001b[0m\u001b[0;34m\u001b[0m\u001b[0m\n\u001b[0;32m-> 1460\u001b[0;31m                 )\n\u001b[0m\u001b[1;32m   1461\u001b[0m                 \u001b[0;32mreturn\u001b[0m \u001b[0mfunc\u001b[0m\u001b[0;34m(\u001b[0m\u001b[0;34m*\u001b[0m\u001b[0margs\u001b[0m\u001b[0;34m,\u001b[0m \u001b[0;34m**\u001b[0m\u001b[0mkwargs\u001b[0m\u001b[0;34m)\u001b[0m\u001b[0;34m\u001b[0m\u001b[0;34m\u001b[0m\u001b[0m\n\u001b[1;32m   1462\u001b[0m \u001b[0;34m\u001b[0m\u001b[0m\n",
      "\u001b[0;31mAttributeError\u001b[0m: Can't get attribute 'Vocab' on <module 'gensim.models.word2vec' from '/opt/conda/lib/python3.9/site-packages/gensim/models/word2vec.py'>"
     ]
    }
   ],
   "source": [
    "import gensim\n",
    "import numpy\n",
    "from gensim.models.word2vec import Word2Vec\n",
    "\n",
    "kovec = Word2Vec.load('./pretrained-W2V/ko.bin')"
   ]
  },
  {
   "cell_type": "code",
   "execution_count": null,
   "id": "72cfa2ee-9d5d-490e-aa90-dae532f02836",
   "metadata": {},
   "outputs": [],
   "source": [
    "new_foods = set()\n",
    "for food in foods:\n",
    "    for word, _ in kovec.most_similar(food):\n",
    "        new_foods.add(word)\n",
    "foods |= new_foods\n",
    "\n",
    "kovec.wv.most_similar(positive=['일본', '서울'], negative=['한국'])"
   ]
  },
  {
   "cell_type": "code",
   "execution_count": null,
   "id": "294c9e54-8339-48eb-98b8-60acdcf97036",
   "metadata": {},
   "outputs": [],
   "source": []
  },
  {
   "cell_type": "code",
   "execution_count": null,
   "id": "6c2da9ea-6ae6-4f35-81a4-a444a5fc647e",
   "metadata": {},
   "outputs": [],
   "source": []
  },
  {
   "cell_type": "code",
   "execution_count": null,
   "id": "cdcad6cc-c07a-44ed-a744-af264aebde7b",
   "metadata": {},
   "outputs": [],
   "source": []
  },
  {
   "cell_type": "code",
   "execution_count": null,
   "id": "2755797a-d821-48cc-96db-5bfa0fca9bba",
   "metadata": {},
   "outputs": [],
   "source": []
  }
 ],
 "metadata": {
  "kernelspec": {
   "display_name": "Python 3 (ipykernel)",
   "language": "python",
   "name": "python3"
  },
  "language_info": {
   "codemirror_mode": {
    "name": "ipython",
    "version": 3
   },
   "file_extension": ".py",
   "mimetype": "text/x-python",
   "name": "python",
   "nbconvert_exporter": "python",
   "pygments_lexer": "ipython3",
   "version": "3.9.6"
  }
 },
 "nbformat": 4,
 "nbformat_minor": 5
}
