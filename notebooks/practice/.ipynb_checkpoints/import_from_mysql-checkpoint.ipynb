{
 "cells": [
  {
   "cell_type": "markdown",
   "id": "469b8051-451f-4354-a6c9-56ce27112f72",
   "metadata": {},
   "source": [
    "# mysql -> spark\n",
    "mysql에 items 테이블에 있는 데이터를 모두 spark에서 가져와서 워드임베딩합니다."
   ]
  },
  {
   "cell_type": "code",
   "execution_count": 1,
   "id": "9566b7eb-a5b3-493b-8ae8-814186a0128e",
   "metadata": {},
   "outputs": [],
   "source": [
    "from pyspark.sql import *\n",
    "from pyspark.sql.functions import *\n",
    "from pyspark.sql.types import *\n",
    "from IPython.display import display, display_pretty, clear_output, JSON"
   ]
  },
  {
   "cell_type": "code",
   "execution_count": 2,
   "id": "9b53a9bd-9115-48e4-89b9-171aa85a9005",
   "metadata": {},
   "outputs": [
    {
     "name": "stderr",
     "output_type": "stream",
     "text": [
      "22/03/30 04:23:48 WARN NativeCodeLoader: Unable to load native-hadoop library for your platform... using builtin-java classes where applicable\n",
      "Using Spark's default log4j profile: org/apache/spark/log4j-defaults.properties\n",
      "Setting default log level to \"WARN\".\n",
      "To adjust logging level use sc.setLogLevel(newLevel). For SparkR, use setLogLevel(newLevel).\n"
     ]
    },
    {
     "data": {
      "text/html": [
       "\n",
       "            <div>\n",
       "                <p><b>SparkSession - in-memory</b></p>\n",
       "                \n",
       "        <div>\n",
       "            <p><b>SparkContext</b></p>\n",
       "\n",
       "            <p><a href=\"http://b5e712a82dbc:4040\">Spark UI</a></p>\n",
       "\n",
       "            <dl>\n",
       "              <dt>Version</dt>\n",
       "                <dd><code>v3.1.2</code></dd>\n",
       "              <dt>Master</dt>\n",
       "                <dd><code>local[*]</code></dd>\n",
       "              <dt>AppName</dt>\n",
       "                <dd><code>pyspark-shell</code></dd>\n",
       "            </dl>\n",
       "        </div>\n",
       "        \n",
       "            </div>\n",
       "        "
      ],
      "text/plain": [
       "<pyspark.sql.session.SparkSession at 0x7f7d55a78bb0>"
      ]
     },
     "execution_count": 2,
     "metadata": {},
     "output_type": "execute_result"
    }
   ],
   "source": [
    "spark = (\n",
    "    SparkSession\n",
    "    .builder\n",
    "    .config(\"spark.sql.session.timeZone\", \"Asia/Seoul\")\n",
    "    .getOrCreate()\n",
    ")\n",
    "\n",
    "# 노트북에서 테이블 형태로 데이터 프레임 출력을 위한 설정을 합니다\n",
    "spark.conf.set(\"spark.sql.repl.eagerEval.enabled\", True) # display enabled\n",
    "spark.conf.set(\"spark.sql.repl.eagerEval.truncate\", 100) # display output columns size\n",
    "\n",
    "# 공통 데이터 위치\n",
    "home_jovyan = \"/home/jovyan\"\n",
    "work_data = f\"{home_jovyan}/work/data\"\n",
    "work_dir=!pwd\n",
    "work_dir = work_dir[0]\n",
    "\n",
    "# 로컬 환경 최적화\n",
    "spark.conf.set(\"spark.sql.shuffle.partitions\", 5) # the number of partitions to use when shuffling data for joins or aggregations.\n",
    "spark.conf.set(\"spark.sql.streaming.forceDeleteTempCheckpointLocation\", \"true\")\n",
    "spark"
   ]
  },
  {
   "cell_type": "markdown",
   "id": "8088ae55-5a02-4442-8f0b-3ba5242dbbd3",
   "metadata": {},
   "source": [
    "## mysql 접속"
   ]
  },
  {
   "cell_type": "code",
   "execution_count": 3,
   "id": "2eca0640-43cd-42ee-8c8a-3889d0a6745a",
   "metadata": {},
   "outputs": [],
   "source": [
    "from pyspark.sql.context import SQLContext\n",
    "sc = spark.sparkContext\n",
    "sqlContext = SQLContext(sc)\n",
    "book = (\n",
    "    sqlContext.read.format(\"jdbc\")\n",
    "    .option(\"url\", \"jdbc:mysql://mysql:3306/Book\")\n",
    "    .option(\"driver\", \"com.mysql.jdbc.Driver\")\n",
    "    .option(\"dbtable\", \"items\")\n",
    "    .option(\"user\", \"root\")\n",
    "    .option(\"password\", \"root\")\n",
    ")"
   ]
  },
  {
   "cell_type": "markdown",
   "id": "a450bf1d-24a4-4e49-ab5d-6336899de955",
   "metadata": {},
   "source": [
    "#### 이렇게도 접속 가능"
   ]
  },
  {
   "cell_type": "code",
   "execution_count": 62,
   "id": "a090be82-cff3-444a-9c86-8f647f72df4d",
   "metadata": {},
   "outputs": [],
   "source": [
    "connect = \"jdbc:mysql://mysql:3306/Book\"\n",
    "table = \"items\"\n",
    "access = {\"user\":\"root\", \"password\":\"root\"}\n",
    "book = spark.read.jdbc(connect, table, properties=access)"
   ]
  },
  {
   "cell_type": "code",
   "execution_count": 63,
   "id": "441fd2df-1977-47df-abc8-156c7985610d",
   "metadata": {},
   "outputs": [
    {
     "name": "stdout",
     "output_type": "stream",
     "text": [
      "root\n",
      " |-- book_id: integer (nullable = true)\n",
      " |-- title: string (nullable = true)\n",
      " |-- author: string (nullable = true)\n",
      " |-- image: string (nullable = true)\n",
      " |-- ranking: integer (nullable = true)\n",
      " |-- description: string (nullable = true)\n",
      " |-- category: string (nullable = true)\n",
      " |-- date: timestamp (nullable = true)\n",
      "\n"
     ]
    }
   ],
   "source": [
    "book.printSchema()"
   ]
  },
  {
   "cell_type": "code",
   "execution_count": 64,
   "id": "673de665-1744-4e4a-8b40-908277d0f1fa",
   "metadata": {},
   "outputs": [
    {
     "name": "stdout",
     "output_type": "stream",
     "text": [
      "+-------+------------------------------+-----------------+--------------------+-------+----------------------------------+-------------+-------------------+\n",
      "|book_id|                         title|           author|               image|ranking|                       description|     category|               date|\n",
      "+-------+------------------------------+-----------------+--------------------+-------+----------------------------------+-------------+-------------------+\n",
      "|   2855|중학생이 보는 그리스 로마 신화|    토마스 불핀치|https://bookthumb...|     34| 중학생 독후감 필독선 시리즈 제...|         신화|2022-03-28 14:58:34|\n",
      "|  40565|             소가구 & 수납가구|효성출판사 편집부|https://bookthumb...|     37|분위기기능에 따른 가구선택과 배...|     가구/DIY|2022-03-28 15:36:41|\n",
      "|  66769|내 손으로 더 예쁘게 페인팅 DIY|   중앙M&B 편집부|https://bookthumb...|     36| 실내 벽에서 소품가구까지 활용 ...|     가구/DIY|2022-03-28 15:36:41|\n",
      "| 118837|                     수소 혁명|    제레미 리프킨|https://bookthumb...|     27|  산업 시대 초기에 석탄과 증기 ...|    경제/경영|               null|\n",
      "| 149663|                   비즈 캐릭터|           편집부|https://bookthumb...|     39|스와롭스키 비즈로 귀엽고 깜찍한...|비즈/구슬공예|2022-03-28 15:34:29|\n",
      "+-------+------------------------------+-----------------+--------------------+-------+----------------------------------+-------------+-------------------+\n",
      "only showing top 5 rows\n",
      "\n"
     ]
    }
   ],
   "source": [
    "book.show(5) # top 20 rows"
   ]
  },
  {
   "cell_type": "markdown",
   "id": "307f06b2-a50a-4c66-8585-5071c7446946",
   "metadata": {},
   "source": [
    "## Querying"
   ]
  },
  {
   "cell_type": "code",
   "execution_count": 7,
   "id": "1124fdae-e7af-4de9-8d02-3ff0f9567b82",
   "metadata": {},
   "outputs": [],
   "source": [
    "from pyspark.sql.functions import *"
   ]
  },
  {
   "cell_type": "code",
   "execution_count": 8,
   "id": "1e235ca6-ab9f-4f1f-90ce-fceec6fa0424",
   "metadata": {},
   "outputs": [
    {
     "data": {
      "text/html": [
       "<table border='1'>\n",
       "<tr><th>count(1)</th></tr>\n",
       "<tr><td>4703</td></tr>\n",
       "</table>\n"
      ],
      "text/plain": [
       "+--------+\n",
       "|count(1)|\n",
       "+--------+\n",
       "|    4703|\n",
       "+--------+"
      ]
     },
     "execution_count": 8,
     "metadata": {},
     "output_type": "execute_result"
    }
   ],
   "source": [
    "book.createOrReplaceTempView(\"b_view\")\n",
    "spark.sql(\"\"\"\n",
    "    select count(*)\n",
    "    from b_view\n",
    "\"\"\")"
   ]
  },
  {
   "cell_type": "code",
   "execution_count": 9,
   "id": "387c56a7-c7ef-4013-bbab-73b45fe61700",
   "metadata": {},
   "outputs": [
    {
     "data": {
      "text/html": [
       "<table border='1'>\n",
       "<tr><th>category</th><th>count(1)</th></tr>\n",
       "<tr><td>경제/경영</td><td>475</td></tr>\n",
       "<tr><td>외국시</td><td>39</td></tr>\n",
       "<tr><td>도시/토목/건설</td><td>39</td></tr>\n",
       "<tr><td>한국시</td><td>27</td></tr>\n",
       "<tr><td>화학</td><td>28</td></tr>\n",
       "</table>\n"
      ],
      "text/plain": [
       "+--------------+--------+\n",
       "|      category|count(1)|\n",
       "+--------------+--------+\n",
       "|     경제/경영|     475|\n",
       "|        외국시|      39|\n",
       "|도시/토목/건설|      39|\n",
       "|        한국시|      27|\n",
       "|          화학|      28|\n",
       "+--------------+--------+"
      ]
     },
     "execution_count": 9,
     "metadata": {},
     "output_type": "execute_result"
    }
   ],
   "source": [
    "# 카테고리 별로 데이터 얼마나 있는지 확인\n",
    "spark.sql(\"select category, count(*) from b_view group by category limit 5\")"
   ]
  },
  {
   "cell_type": "markdown",
   "id": "b4e83cc6-8aa3-4961-bc4e-5aceca9f028e",
   "metadata": {
    "tags": []
   },
   "source": [
    "## Pyspark mllib - Word2Vec"
   ]
  },
  {
   "cell_type": "markdown",
   "id": "0698d984-4318-4693-a67c-fef1a383bf2d",
   "metadata": {},
   "source": [
    "description preprocessing"
   ]
  },
  {
   "cell_type": "code",
   "execution_count": 69,
   "id": "d8f016a4-db2b-462e-9047-a7c076ec58dc",
   "metadata": {},
   "outputs": [
    {
     "data": {
      "text/html": [
       "<table border='1'>\n",
       "<tr><th>book_id</th><th>description</th></tr>\n",
       "<tr><td>2855</td><td>중학생 독후감 필독선 시리즈 제13권 토마스 불핀치의 명작 그리스 로마 신화를 작품 알고 들어가기 내용 훑어보기 작품 분석하기 작가 들여다보기 시대와 연관짓기 작품 토론하기 ...</td></tr>\n",
       "<tr><td>40565</td><td>분위기기능에 따른 가구선택과 배치 주문가구 정보전국 5대 가구시장을 컬러화보 위주로 엮은 인테리어 무크지</td></tr>\n",
       "<tr><td>66769</td><td>실내 벽에서 소품가구까지 활용 가능한 페인팅 기법 을 컬러사진과 함께 설명한 생활무크 페인팅에 필요 한 도구와 재료설명을 비롯해 색다르게 칠하는 페인팅기법리폼 및 장식 아이디...</td></tr>\n",
       "<tr><td>118837</td><td>산업 시대 초기에 석탄과 증기 기관이 새로운 경제 패러다임을 마련했듯이 이제 수소 에너지가 기존의 경제 정치 사회를 근본적으로 바꿀 것이라고 예견하는 경제서 노동의 종말 소유...</td></tr>\n",
       "<tr><td>149663</td><td>스와롭스키 비즈로 귀엽고 깜찍한 동물들을 만든다 꿰는 방법을 쉽게 이해하도록 평면도로 그려 놓았으며 완성된 크기와 사용할 비즈 낚싯줄 길이 공정도 꿰는 방법 등을 세세하게 기...</td></tr>\n",
       "</table>\n"
      ],
      "text/plain": [
       "+-------+------------------------------------------------------------------------------------------------------------------------------------------------------------------------------+\n",
       "|book_id|                                                                                                                                                                   description|\n",
       "+-------+------------------------------------------------------------------------------------------------------------------------------------------------------------------------------+\n",
       "|   2855|   중학생 독후감 필독선 시리즈 제13권 토마스 불핀치의 명작 그리스 로마 신화를 작품 알고 들어가기 내용 훑어보기 작품 분석하기 작가 들여다보기 시대와 연관짓기 작품 토론하기 ...|\n",
       "|  40565|                                                                       분위기기능에 따른 가구선택과 배치 주문가구 정보전국 5대 가구시장을 컬러화보 위주로 엮은 인테리어 무크지|\n",
       "|  66769|실내 벽에서 소품가구까지 활용 가능한 페인팅 기법 을 컬러사진과 함께 설명한 생활무크 페인팅에 필요 한 도구와 재료설명을 비롯해 색다르게 칠하는 페인팅기법리폼 및 장식 아이디...|\n",
       "| 118837| 산업 시대 초기에 석탄과 증기 기관이 새로운 경제 패러다임을 마련했듯이 이제 수소 에너지가 기존의 경제 정치 사회를 근본적으로 바꿀 것이라고 예견하는 경제서 노동의 종말 소유...|\n",
       "| 149663| 스와롭스키 비즈로 귀엽고 깜찍한 동물들을 만든다 꿰는 방법을 쉽게 이해하도록 평면도로 그려 놓았으며 완성된 크기와 사용할 비즈 낚싯줄 길이 공정도 꿰는 방법 등을 세세하게 기...|\n",
       "+-------+------------------------------------------------------------------------------------------------------------------------------------------------------------------------------+"
      ]
     },
     "execution_count": 69,
     "metadata": {},
     "output_type": "execute_result"
    }
   ],
   "source": [
    "spark.sql(\"select book_id, description from b_view limit 5\")"
   ]
  },
  {
   "cell_type": "code",
   "execution_count": 71,
   "id": "b7c19125-fe42-49c4-b02c-b291418aa76e",
   "metadata": {},
   "outputs": [
    {
     "data": {
      "text/html": [
       "<table border='1'>\n",
       "<tr><th>book_id</th><th>title</th><th>author</th><th>image</th><th>ranking</th><th>description</th><th>category</th><th>date</th><th>book_id</th><th>descArray</th></tr>\n",
       "<tr><td>40565</td><td>소가구 &amp; 수납가구</td><td>효성출판사 편집부</td><td>https://bookthumb-phinf.pstatic.net/cover/000/405/00040565.jpg?type=m5</td><td>37</td><td>분위기기능에 따른 가구선택과 배치 주문가구 정보전국 5대 가구시장을 컬러화보 위주로 엮은 인테리어 무크지</td><td>가구/DIY</td><td>2022-03-28 15:36:41</td><td>40565</td><td>[분위기기능에, 따른, 가구선택과, 배치, 주문가구, 정보전국, 5대, 가구시장을, 컬러화보, 위주로, 엮은, 인테리어, 무크지]</td></tr>\n",
       "<tr><td>149664</td><td>비즈 주얼리</td><td>노경민</td><td>https://bookthumb-phinf.pstatic.net/cover/001/496/00149664.jpg?type=m5</td><td>38</td><td>비즈 공예 입문서이자 전문서 PART 1에서는 시작 마무리 규칙적인 기법 비즈의 기본적인 종류와 명칭 간단한 도구들에 대해 알아보며 PART 2에서는 진주 PART 3에서는 ...</td><td>비즈/구슬공예</td><td>2022-03-28 15:34:28</td><td>149664</td><td>[비즈, 공예, 입문서이자, 전문서, PART, 1에서는, 시작, 마무리, 규칙적인, 기법, 비즈의, 기본적인, 종류와, 명칭, 간단한, 도구들에, 대해, 알아보며, PART...</td></tr>\n",
       "<tr><td>150897</td><td>토탈 비즈 컬렉션</td><td>편집부</td><td>https://bookthumb-phinf.pstatic.net/cover/001/508/00150897.jpg?type=m5</td><td>40</td><td>비즈 만드는 법 303가지를 모아 엮었다 반지 목걸이 팔찌 귀걸이 등 다양한 악세사리 제작 방법과 비즈의 종류 등에 대하여 일목요연하게 기술하고 있으며 부재료 사용법과 게재작...</td><td>비즈/구슬공예</td><td>2022-03-28 15:34:30</td><td>150897</td><td>[비즈, 만드는, 법, 303가지를, 모아, 엮었다, 반지, 목걸이, 팔찌, 귀걸이, 등, 다양한, 악세사리, 제작, 방법과, 비즈의, 종류, 등에, 대하여, 일목요연하게, ...</td></tr>\n",
       "<tr><td>155381</td><td>행운 부르는 비즈</td><td>서울문화사 편집부</td><td>https://bookthumb-phinf.pstatic.net/cover/001/553/00155381.jpg?type=m5</td><td>36</td><td>탄생석 목걸이 · 귀고리 96가지 이 책은 비즈로 목걸이와 귀고리를 제작할 수 있도록 구성되었다 목걸이 귀고리 목걸이  귀고리 세트로 구별해 놓아 찾기 쉽게 해 놓았으며 작품...</td><td>비즈/구슬공예</td><td>2022-03-28 15:34:27</td><td>155381</td><td>[탄생석, 목걸이, ·, 귀고리, 96가지, 이, 책은, 비즈로, 목걸이와, 귀고리를, 제작할, 수, 있도록, 구성되었다, 목걸이, 귀고리, 목걸이, , 귀고리, 세트로, 구...</td></tr>\n",
       "<tr><td>158126</td><td>내 손으로 만드는 명품 아이옷 DIY</td><td>배효숙</td><td>https://bookthumb-phinf.pstatic.net/cover/001/581/00158126.jpg?type=m5</td><td>35</td><td>엄마가 직접 만들어주는 아이옷 DIY 소개서 주부인 저자가 주부의 시점에서 원피스나 멜빵바지 셔츠와 같이 간편하고 멋있게 만들 수 있는 아이옷을 만드는 방법을 사진과 함께 소...</td><td>가구/DIY</td><td>2022-03-28 15:36:40</td><td>158126</td><td>[엄마가, 직접, 만들어주는, 아이옷, DIY, 소개서, 주부인, 저자가, 주부의, 시점에서, 원피스나, 멜빵바지, 셔츠와, 같이, 간편하고, 멋있게, 만들, 수, 있는, 아...</td></tr>\n",
       "<tr><td>158881</td><td>비즈 인테리어 소품 55</td><td>편집부</td><td>https://bookthumb-phinf.pstatic.net/cover/001/588/00158881.jpg?type=m5</td><td>34</td><td>개성있는 비즈 인테리어 소품을 통해 집안 분위기를 로맨틱하게 꾸미는 방법을 소개한 책 꽃병 전등 갓 커튼 발 샹들리에 등 총 55개의 비즈 공예 만드는 법을 상세히 설명했다 ...</td><td>비즈/구슬공예</td><td>2022-03-28 15:34:26</td><td>158881</td><td>[개성있는, 비즈, 인테리어, 소품을, 통해, 집안, 분위기를, 로맨틱하게, 꾸미는, 방법을, 소개한, 책, 꽃병, 전등, 갓, 커튼, 발, 샹들리에, 등, 총, 55개의, ...</td></tr>\n",
       "<tr><td>1512880</td><td>비즈 공예 대백과</td><td>편집부</td><td>https://bookthumb-phinf.pstatic.net/cover/015/128/01512880.jpg?type=m5</td><td>30</td><td>현재 국내에 알려지거나 사용하고 있는 기본 비즈와 표준 용어를 사진과 함께 총망라한 샘플북</td><td>비즈/구슬공예</td><td>2022-03-28 15:34:23</td><td>1512880</td><td>[현재, 국내에, 알려지거나, 사용하고, 있는, 기본, 비즈와, 표준, 용어를, 사진과, 함께, 총망라한, 샘플북]</td></tr>\n",
       "<tr><td>1874332</td><td>뉴욕 5번가도 놀란 5500원 비즈 MAKING</td><td>엄주영</td><td>https://bookthumb-phinf.pstatic.net/cover/018/743/01874332.jpg?type=m5</td><td>21</td><td>아름다운 비즈 악세사리를 만드는 법을 소개하는 책 만들기 쉬우면서도 6000원이 안되는 가격으로 만들 수 있는 실용적인 아이템 60여 가지가 자세한 사진과 함께 소개되어 있다...</td><td>비즈/구슬공예</td><td>2022-03-28 15:34:16</td><td>1874332</td><td>[아름다운, 비즈, 악세사리를, 만드는, 법을, 소개하는, 책, 만들기, 쉬우면서도, 6000원이, 안되는, 가격으로, 만들, 수, 있는, 실용적인, 아이템, 60여, 가지가...</td></tr>\n",
       "<tr><td>2913797</td><td>행복한 날 비즈 주얼리</td><td>오연림</td><td>https://bookthumb-phinf.pstatic.net/cover/029/137/02913797.jpg?type=m5</td><td>12</td><td>비즈 주얼리 입문서 이 책은 크리스털 시드비즈 진주 등을 이용한 비즈 액세서리를 만드는 방법을 담았다 실제 일상생활에서 착용할 수 있는 목걸이 귀걸이 팔찌 등을 만드는 방법과...</td><td>비즈/구슬공예</td><td>2022-03-28 15:34:09</td><td>2913797</td><td>[비즈, 주얼리, 입문서, 이, 책은, 크리스털, 시드비즈, 진주, 등을, 이용한, 비즈, 액세서리를, 만드는, 방법을, 담았다, 실제, 일상생활에서, 착용할, 수, 있는, ...</td></tr>\n",
       "<tr><td>3121233</td><td>컨츄리 가구만들기</td><td>김춘희</td><td>https://bookthumb-phinf.pstatic.net/cover/031/212/03121233.jpg?type=m5</td><td>31</td><td>이 세상에서 단 하나뿐인 나만의 아름다운 가구 만드는 법 공개 누구나 쉽게 따라서 할 수 있다 세상에 하나밖에 없는 나만의 가구 만드는 방법을 담은『컨츄리 가구만들기』 이 책...</td><td>가구/DIY</td><td>2022-03-28 15:36:35</td><td>3121233</td><td>[이, 세상에서, 단, 하나뿐인, 나만의, 아름다운, 가구, 만드는, 법, 공개, 누구나, 쉽게, 따라서, 할, 수, 있다, 세상에, 하나밖에, 없는, 나만의, 가구, 만드는...</td></tr>\n",
       "<tr><td>3311437</td><td>비즈맵 2</td><td>이종경</td><td>https://bookthumb-phinf.pstatic.net/cover/033/114/03311437.jpg?type=m5</td><td>7</td><td>비즈 공예 전문서 이 책은 구슬 공예 도안 읽는 법과 기본 도구 사용법 55가지 비즈 공예 만드는 방법을 담아 소개한다</td><td>비즈/구슬공예</td><td>2022-03-28 15:34:06</td><td>3311437</td><td>[비즈, 공예, 전문서, 이, 책은, 구슬, 공예, 도안, 읽는, 법과, 기본, 도구, 사용법, 55가지, 비즈, 공예, 만드는, 방법을, 담아, 소개한다]</td></tr>\n",
       "<tr><td>4588104</td><td>생물과 무생물 사이</td><td>후쿠오카 신이치</td><td>https://bookthumb-phinf.pstatic.net/cover/045/881/04588104.jpg?type=m5</td><td>40</td><td>일본 산토리학예상 수상 일본 신문ㆍ잡지 서평담당자가 뽑은 2007 최고의 책 2위생명이란 무엇인가에 관하여 분자 생물학적인 내용을 쉽게 풀어낸 책 분자생물학 교수이자 연구가인...</td><td>생물학</td><td>2022-03-28 15:09:19</td><td>4588104</td><td>[일본, 산토리학예상, 수상, 일본, 신문ㆍ잡지, 서평담당자가, 뽑은, 2007, 최고의, 책, 2위생명이란, 무엇인가에, 관하여, 분자, 생물학적인, 내용을, 쉽게, 풀어낸...</td></tr>\n",
       "<tr><td>5967734</td><td>DIY 교회데코</td><td>이슬기, 이윤경</td><td>https://bookthumb-phinf.pstatic.net/cover/059/677/05967734.jpg?type=m5</td><td>30</td><td>아름다운 데코로 더 감사하게 되는 교회를 만드는 『 DIY 교회데코  사순절 부활절편』 교회환경 장식 포인트 장식 게시판 장식으로 구성한 책으로 사순절과 부활절에 맞추어 추수...</td><td>가구/DIY</td><td>2022-03-28 15:36:34</td><td>5967734</td><td>[아름다운, 데코로, 더, 감사하게, 되는, 교회를, 만드는, 『, DIY, 교회데코, , 사순절, 부활절편』, 교회환경, 장식, 포인트, 장식, 게시판, 장식으로, 구성한,...</td></tr>\n",
       "<tr><td>6182037</td><td>눈먼 자들의 도시 (100쇄 기념 에디션)</td><td>주제 사라마구</td><td>https://bookthumb-phinf.pstatic.net/cover/061/820/06182037.jpg?type=m5</td><td>29</td><td>노벨문학상 수상 작가 주제 사라마구의 대표작 『눈먼 자들의 도시』 100쇄 기념 스페셜 에디션“가장 두려운 것은 오직 나만이 볼 수 있다는 사실이다”주제 사라마구 인간성의 본...</td><td>소설</td><td>null</td><td>6182037</td><td>[노벨문학상, 수상, 작가, 주제, 사라마구의, 대표작, 『눈먼, 자들의, 도시』, 100쇄, 기념, 스페셜, 에디션“가장, 두려운, 것은, 오직, 나만이, 볼, 수, 있다는...</td></tr>\n",
       "<tr><td>6196101</td><td>타샤 튜더 인형의 집</td><td>해리 데이비스</td><td>https://bookthumb-phinf.pstatic.net/cover/061/961/06196101.jpg?type=m5</td><td>36</td><td>자연에 기반한 생태적인 삶의 방식으로 자신만의 독자적인 세계를 창조한 타샤 튜더 그녀의 집에는 또 하나의 작은 집이 있다 바로 인형의 집 이 책은 인형의 집을 매력적인 대형 ...</td><td>선물포장/리본공예</td><td>2022-03-28 15:35:16</td><td>6196101</td><td>[자연에, 기반한, 생태적인, 삶의, 방식으로, 자신만의, 독자적인, 세계를, 창조한, 타샤, 튜더, 그녀의, 집에는, 또, 하나의, 작은, 집이, 있다, 바로, 인형의, 집...</td></tr>\n",
       "<tr><td>6257702</td><td>희나네집 만만한 인테리어</td><td>비주언니</td><td>https://bookthumb-phinf.pstatic.net/cover/062/577/06257702.jpg?type=m5</td><td>27</td><td>셀프 인테리어를 위한 공구 사용법부터 공간에 알맞은 인테리어 팁까지파워블로거 희나맘이 알려주는 리폼 amp DIY 인테리어 리얼 노하우 네이버 파워블로거 희나맘이 공개한 기초...</td><td>가구/DIY</td><td>2022-03-28 15:36:31</td><td>6257702</td><td>[셀프, 인테리어를, 위한, 공구, 사용법부터, 공간에, 알맞은, 인테리어, 팁까지파워블로거, 희나맘이, 알려주는, 리폼, amp, DIY, 인테리어, 리얼, 노하우, 네이버...</td></tr>\n",
       "<tr><td>6282333</td><td>베다</td><td>박지명, 이서경</td><td>https://bookthumb-phinf.pstatic.net/cover/062/823/06282333.jpg?type=m5</td><td>18</td><td>‘베다’란 산스크리트어로 ‘앎’ 또는 ‘지식’ 또는 ‘지혜’ 또는 ‘종교적 지식’을 의미한다 베다는 리그베다 사마베다 야주르베다 아타르바베다 이렇게 총 4개의 베다가 있다 이...</td><td>종교학</td><td>2022-03-28 14:57:42</td><td>6282333</td><td>[‘베다’란, 산스크리트어로, ‘앎’, 또는, ‘지식’, 또는, ‘지혜’, 또는, ‘종교적, 지식’을, 의미한다, 베다는, 리그베다, 사마베다, 야주르베다, 아타르바베다, 이...</td></tr>\n",
       "<tr><td>6441048</td><td>바람마녀의 선물포장 토크</td><td>최주희</td><td>https://bookthumb-phinf.pstatic.net/cover/064/410/06441048.jpg?type=m5</td><td>33</td><td>『바람마녀의 선물포장 토크』는 선물포장을 전문으로 소개하는 블로그 ‘바람마녀의 행복한 선물포장 토크’의 주인인 저자가 들려주는 선물포장 이야기다 캐러멜포장 보자기식포장 리본장...</td><td>선물포장/리본공예</td><td>2022-03-28 15:35:12</td><td>6441048</td><td>[『바람마녀의, 선물포장, 토크』는, 선물포장을, 전문으로, 소개하는, 블로그, ‘바람마녀의, 행복한, 선물포장, 토크’의, 주인인, 저자가, 들려주는, 선물포장, 이야기다,...</td></tr>\n",
       "<tr><td>6590442</td><td>효재처럼 보자기 선물</td><td>이효재</td><td>https://bookthumb-phinf.pstatic.net/cover/065/904/06590442.jpg?type=m5</td><td>35</td><td>‘자연으로 상 차리고 살림하고 효재처럼’의 작가 효재의 두번째 책『효재처럼 보자기 선물』 대한민국 여자들의 살림 멘토이자 한국의 타샤투터인 이효재가 보자기를 통한 친환경 포장...</td><td>선물포장/리본공예</td><td>2022-03-28 15:35:15</td><td>6590442</td><td>[‘자연으로, 상, 차리고, 살림하고, 효재처럼’의, 작가, 효재의, 두번째, 책『효재처럼, 보자기, 선물』, 대한민국, 여자들의, 살림, 멘토이자, 한국의, 타샤투터인, 이...</td></tr>\n",
       "<tr><td>6709026</td><td>비즈 액세서리</td><td>테라니시 에리코</td><td>https://bookthumb-phinf.pstatic.net/cover/067/090/06709026.jpg?type=m5</td><td>3</td><td>나만의 헬로키티 비즈 액서서리 만드는 법을 한 권의 책으로 엮었다 누구나 만드는 평범한 꽃이나 동물이 아닌 예쁜 헬로키티와 캐릭터 친구들을 예쁜 비즈로 직접 만드는 다양한 방...</td><td>비즈/구슬공예</td><td>2022-03-28 15:34:03</td><td>6709026</td><td>[나만의, 헬로키티, 비즈, 액서서리, 만드는, 법을, 한, 권의, 책으로, 엮었다, 누구나, 만드는, 평범한, 꽃이나, 동물이, 아닌, 예쁜, 헬로키티와, 캐릭터, 친구들을...</td></tr>\n",
       "</table>\n",
       "only showing top 20 rows\n"
      ],
      "text/plain": [
       "+-------+------------------------------------+-----------------+----------------------------------------------------------------------+-------+---------------------------------------------------------------------------------------------------------------------------------------------------------------------------------+-----------------+-------------------+-------+-------------------------------------------------------------------------------------------------------------------------------------------------------------------+\n",
       "|book_id|                               title|           author|                                                                 image|ranking|                                                                                                                                                                      description|         category|               date|book_id|                                                                                                                                                          descArray|\n",
       "+-------+------------------------------------+-----------------+----------------------------------------------------------------------+-------+---------------------------------------------------------------------------------------------------------------------------------------------------------------------------------+-----------------+-------------------+-------+-------------------------------------------------------------------------------------------------------------------------------------------------------------------+\n",
       "|  40565|                   소가구 & 수납가구|효성출판사 편집부|https://bookthumb-phinf.pstatic.net/cover/000/405/00040565.jpg?type=m5|     37|                                                                          분위기기능에 따른 가구선택과 배치 주문가구 정보전국 5대 가구시장을 컬러화보 위주로 엮은 인테리어 무크지|         가구/DIY|2022-03-28 15:36:41|  40565|                                              [분위기기능에, 따른, 가구선택과, 배치, 주문가구, 정보전국, 5대, 가구시장을, 컬러화보, 위주로, 엮은, 인테리어, 무크지]|\n",
       "| 149664|                         비즈 주얼리|           노경민|https://bookthumb-phinf.pstatic.net/cover/001/496/00149664.jpg?type=m5|     38|                  비즈 공예 입문서이자 전문서 PART 1에서는 시작 마무리 규칙적인 기법 비즈의 기본적인 종류와 명칭 간단한 도구들에 대해 알아보며 PART 2에서는 진주 PART 3에서는 ...|    비즈/구슬공예|2022-03-28 15:34:28| 149664|            [비즈, 공예, 입문서이자, 전문서, PART, 1에서는, 시작, 마무리, 규칙적인, 기법, 비즈의, 기본적인, 종류와, 명칭, 간단한, 도구들에, 대해, 알아보며, PART...|\n",
       "| 150897|                    토탈 비즈 컬렉션|           편집부|https://bookthumb-phinf.pstatic.net/cover/001/508/00150897.jpg?type=m5|     40|       비즈 만드는 법 303가지를 모아 엮었다 반지 목걸이 팔찌 귀걸이 등 다양한 악세사리 제작 방법과 비즈의 종류 등에 대하여 일목요연하게 기술하고 있으며 부재료 사용법과 게재작...|    비즈/구슬공예|2022-03-28 15:34:30| 150897|          [비즈, 만드는, 법, 303가지를, 모아, 엮었다, 반지, 목걸이, 팔찌, 귀걸이, 등, 다양한, 악세사리, 제작, 방법과, 비즈의, 종류, 등에, 대하여, 일목요연하게, ...|\n",
       "| 155381|                    행운 부르는 비즈|서울문화사 편집부|https://bookthumb-phinf.pstatic.net/cover/001/553/00155381.jpg?type=m5|     36|         탄생석 목걸이 · 귀고리 96가지 이 책은 비즈로 목걸이와 귀고리를 제작할 수 있도록 구성되었다 목걸이 귀고리 목걸이  귀고리 세트로 구별해 놓아 찾기 쉽게 해 놓았으며 작품...|    비즈/구슬공예|2022-03-28 15:34:27| 155381|          [탄생석, 목걸이, ·, 귀고리, 96가지, 이, 책은, 비즈로, 목걸이와, 귀고리를, 제작할, 수, 있도록, 구성되었다, 목걸이, 귀고리, 목걸이, , 귀고리, 세트로, 구...|\n",
       "| 158126|    내 손으로 만드는 명품 아이옷 DIY|           배효숙|https://bookthumb-phinf.pstatic.net/cover/001/581/00158126.jpg?type=m5|     35|       엄마가 직접 만들어주는 아이옷 DIY 소개서 주부인 저자가 주부의 시점에서 원피스나 멜빵바지 셔츠와 같이 간편하고 멋있게 만들 수 있는 아이옷을 만드는 방법을 사진과 함께 소...|         가구/DIY|2022-03-28 15:36:40| 158126|        [엄마가, 직접, 만들어주는, 아이옷, DIY, 소개서, 주부인, 저자가, 주부의, 시점에서, 원피스나, 멜빵바지, 셔츠와, 같이, 간편하고, 멋있게, 만들, 수, 있는, 아...|\n",
       "| 158881|               비즈 인테리어 소품 55|           편집부|https://bookthumb-phinf.pstatic.net/cover/001/588/00158881.jpg?type=m5|     34|         개성있는 비즈 인테리어 소품을 통해 집안 분위기를 로맨틱하게 꾸미는 방법을 소개한 책 꽃병 전등 갓 커튼 발 샹들리에 등 총 55개의 비즈 공예 만드는 법을 상세히 설명했다 ...|    비즈/구슬공예|2022-03-28 15:34:26| 158881|           [개성있는, 비즈, 인테리어, 소품을, 통해, 집안, 분위기를, 로맨틱하게, 꾸미는, 방법을, 소개한, 책, 꽃병, 전등, 갓, 커튼, 발, 샹들리에, 등, 총, 55개의, ...|\n",
       "|1512880|                    비즈 공예 대백과|           편집부|https://bookthumb-phinf.pstatic.net/cover/015/128/01512880.jpg?type=m5|     30|                                                                                         현재 국내에 알려지거나 사용하고 있는 기본 비즈와 표준 용어를 사진과 함께 총망라한 샘플북|    비즈/구슬공예|2022-03-28 15:34:23|1512880|                                                             [현재, 국내에, 알려지거나, 사용하고, 있는, 기본, 비즈와, 표준, 용어를, 사진과, 함께, 총망라한, 샘플북]|\n",
       "|1874332|뉴욕 5번가도 놀란 5500원 비즈 MAKING|           엄주영|https://bookthumb-phinf.pstatic.net/cover/018/743/01874332.jpg?type=m5|     21|         아름다운 비즈 악세사리를 만드는 법을 소개하는 책 만들기 쉬우면서도 6000원이 안되는 가격으로 만들 수 있는 실용적인 아이템 60여 가지가 자세한 사진과 함께 소개되어 있다...|    비즈/구슬공예|2022-03-28 15:34:16|1874332|         [아름다운, 비즈, 악세사리를, 만드는, 법을, 소개하는, 책, 만들기, 쉬우면서도, 6000원이, 안되는, 가격으로, 만들, 수, 있는, 실용적인, 아이템, 60여, 가지가...|\n",
       "|2913797|               행복한 날 비즈 주얼리|           오연림|https://bookthumb-phinf.pstatic.net/cover/029/137/02913797.jpg?type=m5|     12|     비즈 주얼리 입문서 이 책은 크리스털 시드비즈 진주 등을 이용한 비즈 액세서리를 만드는 방법을 담았다 실제 일상생활에서 착용할 수 있는 목걸이 귀걸이 팔찌 등을 만드는 방법과...|    비즈/구슬공예|2022-03-28 15:34:09|2913797|       [비즈, 주얼리, 입문서, 이, 책은, 크리스털, 시드비즈, 진주, 등을, 이용한, 비즈, 액세서리를, 만드는, 방법을, 담았다, 실제, 일상생활에서, 착용할, 수, 있는, ...|\n",
       "|3121233|                   컨츄리 가구만들기|           김춘희|https://bookthumb-phinf.pstatic.net/cover/031/212/03121233.jpg?type=m5|     31|      이 세상에서 단 하나뿐인 나만의 아름다운 가구 만드는 법 공개 누구나 쉽게 따라서 할 수 있다 세상에 하나밖에 없는 나만의 가구 만드는 방법을 담은『컨츄리 가구만들기』 이 책...|         가구/DIY|2022-03-28 15:36:35|3121233|         [이, 세상에서, 단, 하나뿐인, 나만의, 아름다운, 가구, 만드는, 법, 공개, 누구나, 쉽게, 따라서, 할, 수, 있다, 세상에, 하나밖에, 없는, 나만의, 가구, 만드는...|\n",
       "|3311437|                            비즈맵 2|           이종경|https://bookthumb-phinf.pstatic.net/cover/033/114/03311437.jpg?type=m5|      7|                                                                  비즈 공예 전문서 이 책은 구슬 공예 도안 읽는 법과 기본 도구 사용법 55가지 비즈 공예 만드는 방법을 담아 소개한다|    비즈/구슬공예|2022-03-28 15:34:06|3311437|                               [비즈, 공예, 전문서, 이, 책은, 구슬, 공예, 도안, 읽는, 법과, 기본, 도구, 사용법, 55가지, 비즈, 공예, 만드는, 방법을, 담아, 소개한다]|\n",
       "|4588104|                  생물과 무생물 사이|  후쿠오카 신이치|https://bookthumb-phinf.pstatic.net/cover/045/881/04588104.jpg?type=m5|     40|      일본 산토리학예상 수상 일본 신문ㆍ잡지 서평담당자가 뽑은 2007 최고의 책 2위생명이란 무엇인가에 관하여 분자 생물학적인 내용을 쉽게 풀어낸 책 분자생물학 교수이자 연구가인...|           생물학|2022-03-28 15:09:19|4588104|      [일본, 산토리학예상, 수상, 일본, 신문ㆍ잡지, 서평담당자가, 뽑은, 2007, 최고의, 책, 2위생명이란, 무엇인가에, 관하여, 분자, 생물학적인, 내용을, 쉽게, 풀어낸...|\n",
       "|5967734|                        DIY 교회데코|   이슬기, 이윤경|https://bookthumb-phinf.pstatic.net/cover/059/677/05967734.jpg?type=m5|     30|       아름다운 데코로 더 감사하게 되는 교회를 만드는 『 DIY 교회데코  사순절 부활절편』 교회환경 장식 포인트 장식 게시판 장식으로 구성한 책으로 사순절과 부활절에 맞추어 추수...|         가구/DIY|2022-03-28 15:36:34|5967734|         [아름다운, 데코로, 더, 감사하게, 되는, 교회를, 만드는, 『, DIY, 교회데코, , 사순절, 부활절편』, 교회환경, 장식, 포인트, 장식, 게시판, 장식으로, 구성한,...|\n",
       "|6182037|눈먼 자들의 도시 (100쇄 기념 에디션)|    주제 사라마구|https://bookthumb-phinf.pstatic.net/cover/061/820/06182037.jpg?type=m5|     29|        노벨문학상 수상 작가 주제 사라마구의 대표작 『눈먼 자들의 도시』 100쇄 기념 스페셜 에디션“가장 두려운 것은 오직 나만이 볼 수 있다는 사실이다”주제 사라마구 인간성의 본...|             소설|               null|6182037|         [노벨문학상, 수상, 작가, 주제, 사라마구의, 대표작, 『눈먼, 자들의, 도시』, 100쇄, 기념, 스페셜, 에디션“가장, 두려운, 것은, 오직, 나만이, 볼, 수, 있다는...|\n",
       "|6196101|                 타샤 튜더 인형의 집|    해리 데이비스|https://bookthumb-phinf.pstatic.net/cover/061/961/06196101.jpg?type=m5|     36|       자연에 기반한 생태적인 삶의 방식으로 자신만의 독자적인 세계를 창조한 타샤 튜더 그녀의 집에는 또 하나의 작은 집이 있다 바로 인형의 집 이 책은 인형의 집을 매력적인 대형 ...|선물포장/리본공예|2022-03-28 15:35:16|6196101|       [자연에, 기반한, 생태적인, 삶의, 방식으로, 자신만의, 독자적인, 세계를, 창조한, 타샤, 튜더, 그녀의, 집에는, 또, 하나의, 작은, 집이, 있다, 바로, 인형의, 집...|\n",
       "|6257702|            희나네집 만만한 인테리어|         비주언니|https://bookthumb-phinf.pstatic.net/cover/062/577/06257702.jpg?type=m5|     27|       셀프 인테리어를 위한 공구 사용법부터 공간에 알맞은 인테리어 팁까지파워블로거 희나맘이 알려주는 리폼 amp DIY 인테리어 리얼 노하우 네이버 파워블로거 희나맘이 공개한 기초...|         가구/DIY|2022-03-28 15:36:31|6257702|       [셀프, 인테리어를, 위한, 공구, 사용법부터, 공간에, 알맞은, 인테리어, 팁까지파워블로거, 희나맘이, 알려주는, 리폼, amp, DIY, 인테리어, 리얼, 노하우, 네이버...|\n",
       "|6282333|                                베다|   박지명, 이서경|https://bookthumb-phinf.pstatic.net/cover/062/823/06282333.jpg?type=m5|     18|            ‘베다’란 산스크리트어로 ‘앎’ 또는 ‘지식’ 또는 ‘지혜’ 또는 ‘종교적 지식’을 의미한다 베다는 리그베다 사마베다 야주르베다 아타르바베다 이렇게 총 4개의 베다가 있다 이...|           종교학|2022-03-28 14:57:42|6282333|         [‘베다’란, 산스크리트어로, ‘앎’, 또는, ‘지식’, 또는, ‘지혜’, 또는, ‘종교적, 지식’을, 의미한다, 베다는, 리그베다, 사마베다, 야주르베다, 아타르바베다, 이...|\n",
       "|6441048|            바람마녀의 선물포장 토크|           최주희|https://bookthumb-phinf.pstatic.net/cover/064/410/06441048.jpg?type=m5|     33|『바람마녀의 선물포장 토크』는 선물포장을 전문으로 소개하는 블로그 ‘바람마녀의 행복한 선물포장 토크’의 주인인 저자가 들려주는 선물포장 이야기다 캐러멜포장 보자기식포장 리본장...|선물포장/리본공예|2022-03-28 15:35:12|6441048|[『바람마녀의, 선물포장, 토크』는, 선물포장을, 전문으로, 소개하는, 블로그, ‘바람마녀의, 행복한, 선물포장, 토크’의, 주인인, 저자가, 들려주는, 선물포장, 이야기다,...|\n",
       "|6590442|                효재처럼 보자기 선물|           이효재|https://bookthumb-phinf.pstatic.net/cover/065/904/06590442.jpg?type=m5|     35|   ‘자연으로 상 차리고 살림하고 효재처럼’의 작가 효재의 두번째 책『효재처럼 보자기 선물』 대한민국 여자들의 살림 멘토이자 한국의 타샤투터인 이효재가 보자기를 통한 친환경 포장...|선물포장/리본공예|2022-03-28 15:35:15|6590442|   [‘자연으로, 상, 차리고, 살림하고, 효재처럼’의, 작가, 효재의, 두번째, 책『효재처럼, 보자기, 선물』, 대한민국, 여자들의, 살림, 멘토이자, 한국의, 타샤투터인, 이...|\n",
       "|6709026|                       비즈 액세서리|  테라니시 에리코|https://bookthumb-phinf.pstatic.net/cover/067/090/06709026.jpg?type=m5|      3|     나만의 헬로키티 비즈 액서서리 만드는 법을 한 권의 책으로 엮었다 누구나 만드는 평범한 꽃이나 동물이 아닌 예쁜 헬로키티와 캐릭터 친구들을 예쁜 비즈로 직접 만드는 다양한 방...|    비즈/구슬공예|2022-03-28 15:34:03|6709026|     [나만의, 헬로키티, 비즈, 액서서리, 만드는, 법을, 한, 권의, 책으로, 엮었다, 누구나, 만드는, 평범한, 꽃이나, 동물이, 아닌, 예쁜, 헬로키티와, 캐릭터, 친구들을...|\n",
       "+-------+------------------------------------+-----------------+----------------------------------------------------------------------+-------+---------------------------------------------------------------------------------------------------------------------------------------------------------------------------------+-----------------+-------------------+-------+-------------------------------------------------------------------------------------------------------------------------------------------------------------------+\n",
       "only showing top 20 rows"
      ]
     },
     "metadata": {},
     "output_type": "display_data"
    }
   ],
   "source": [
    "tmp_arrayDF = spark.sql(\"select book_id, split(description, ' ') as descArray from b_view\")\n",
    "book = book.join(tmp_arrayDF, book.book_id == tmp_arrayDF.book_id, \"inner\")\n",
    "display(book)"
   ]
  },
  {
   "cell_type": "code",
   "execution_count": 72,
   "id": "339e2a05-afbf-4d0b-976c-d5e1b5a5e741",
   "metadata": {},
   "outputs": [
    {
     "data": {
      "text/html": [
       "<table border='1'>\n",
       "<tr><th>count(1)</th></tr>\n",
       "<tr><td>4703</td></tr>\n",
       "</table>\n"
      ],
      "text/plain": [
       "+--------+\n",
       "|count(1)|\n",
       "+--------+\n",
       "|    4703|\n",
       "+--------+"
      ]
     },
     "execution_count": 72,
     "metadata": {},
     "output_type": "execute_result"
    }
   ],
   "source": [
    "spark.sql(\"select count(*) from b_view\")"
   ]
  },
  {
   "cell_type": "code",
   "execution_count": 52,
   "id": "e2cfd75a-8d7c-4106-8158-0746969da062",
   "metadata": {},
   "outputs": [
    {
     "data": {
      "text/plain": [
       "Word2Vec_5a95ccbe874f"
      ]
     },
     "execution_count": 52,
     "metadata": {},
     "output_type": "execute_result"
    }
   ],
   "source": [
    "from pyspark.ml.feature import Word2Vec\n",
    "from pyspark.ml.feature import Word2VecModel\n",
    "w2v = Word2Vec(vectorSize=100, seed=42, inputCol=\"description\", outputCol=\"model\")\n",
    "w2v.setMaxIter(30)"
   ]
  },
  {
   "cell_type": "code",
   "execution_count": null,
   "id": "a97b3b5e-5551-46d5-85c9-5981e878711e",
   "metadata": {},
   "outputs": [],
   "source": [
    "model = w2v.fit(book)\n",
    "model.setInputCol(\"description\")\n",
    "model.getVectors().show()"
   ]
  },
  {
   "cell_type": "code",
   "execution_count": null,
   "id": "8dee7322-d373-490c-90ca-73760c700940",
   "metadata": {},
   "outputs": [],
   "source": []
  },
  {
   "cell_type": "code",
   "execution_count": null,
   "id": "14fc6fb5-50b1-423e-9921-26f4a0da686f",
   "metadata": {},
   "outputs": [],
   "source": []
  },
  {
   "cell_type": "code",
   "execution_count": null,
   "id": "2060e649-02b9-4be9-aaa8-bcd8f431f402",
   "metadata": {},
   "outputs": [],
   "source": []
  },
  {
   "cell_type": "code",
   "execution_count": null,
   "id": "29b390bc-d3f3-4df4-b791-ca9dd376a45a",
   "metadata": {},
   "outputs": [],
   "source": []
  }
 ],
 "metadata": {
  "kernelspec": {
   "display_name": "Python 3 (ipykernel)",
   "language": "python",
   "name": "python3"
  },
  "language_info": {
   "codemirror_mode": {
    "name": "ipython",
    "version": 3
   },
   "file_extension": ".py",
   "mimetype": "text/x-python",
   "name": "python",
   "nbconvert_exporter": "python",
   "pygments_lexer": "ipython3",
   "version": "3.9.6"
  }
 },
 "nbformat": 4,
 "nbformat_minor": 5
}
