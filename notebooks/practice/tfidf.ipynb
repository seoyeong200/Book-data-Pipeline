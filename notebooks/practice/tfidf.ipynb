{
 "cells": [
  {
   "cell_type": "markdown",
   "id": "e7a903c6-ef2e-4d7f-b150-dbaf9cecf1c0",
   "metadata": {},
   "source": [
    "# Tf-Idf\n",
    "Tf-Idf 알고리즘을 이용해 책 줄거리에 기반해 책 간 유사도를 구하고, 이를 통해 비슷한 책을 추천합니다."
   ]
  },
  {
   "cell_type": "code",
   "execution_count": 1,
   "id": "0956aa7f",
   "metadata": {},
   "outputs": [
    {
     "name": "stderr",
     "output_type": "stream",
     "text": [
      "22/03/28 06:45:59 WARN NativeCodeLoader: Unable to load native-hadoop library for your platform... using builtin-java classes where applicable\n",
      "Using Spark's default log4j profile: org/apache/spark/log4j-defaults.properties\n",
      "Setting default log level to \"WARN\".\n",
      "To adjust logging level use sc.setLogLevel(newLevel). For SparkR, use setLogLevel(newLevel).\n"
     ]
    },
    {
     "data": {
      "text/html": [
       "\n",
       "            <div>\n",
       "                <p><b>SparkSession - in-memory</b></p>\n",
       "                \n",
       "        <div>\n",
       "            <p><b>SparkContext</b></p>\n",
       "\n",
       "            <p><a href=\"http://16f9464a7131:4040\">Spark UI</a></p>\n",
       "\n",
       "            <dl>\n",
       "              <dt>Version</dt>\n",
       "                <dd><code>v3.1.2</code></dd>\n",
       "              <dt>Master</dt>\n",
       "                <dd><code>local[*]</code></dd>\n",
       "              <dt>AppName</dt>\n",
       "                <dd><code>pyspark-shell</code></dd>\n",
       "            </dl>\n",
       "        </div>\n",
       "        \n",
       "            </div>\n",
       "        "
      ],
      "text/plain": [
       "<pyspark.sql.session.SparkSession at 0x7f304050bdc0>"
      ]
     },
     "execution_count": 1,
     "metadata": {},
     "output_type": "execute_result"
    }
   ],
   "source": [
    "from pyspark.sql import *\n",
    "from pyspark.sql.functions import *\n",
    "from pyspark.sql.types import *\n",
    "from IPython.display import display, display_pretty, clear_output, JSON\n",
    "\n",
    "spark = (\n",
    "    SparkSession\n",
    "    .builder\n",
    "    .config(\"spark.sql.session.timeZone\", \"Asia/Seoul\")\n",
    "    .getOrCreate()\n",
    ")\n",
    "\n",
    "# 노트북에서 테이블 형태로 데이터 프레임 출력을 위한 설정\n",
    "spark.conf.set(\"spark.sql.repl.eagerEval.enabled\", True) # display enabled\n",
    "spark.conf.set(\"spark.sql.repl.eagerEval.truncate\", 100) # display output columns size\n",
    "\n",
    "# 공통 데이터 위치\n",
    "home_jovyan = \"/home/jovyan\"\n",
    "work_data = f\"{home_jovyan}/work/data\"\n",
    "work_dir=!pwd\n",
    "work_dir = work_dir[0]\n",
    "\n",
    "# 로컬 환경 최적화\n",
    "spark.conf.set(\"spark.sql.shuffle.partitions\", 5) # the number of partitions to use when shuffling data for joins or aggregations.\n",
    "spark.conf.set(\"spark.sql.streaming.forceDeleteTempCheckpointLocation\", \"true\")\n",
    "spark"
   ]
  },
  {
   "cell_type": "code",
   "execution_count": 2,
   "id": "5be83449",
   "metadata": {},
   "outputs": [
    {
     "name": "stdout",
     "output_type": "stream",
     "text": [
      "Python 3.9.6\n",
      "spark.version: 3.1.2\n"
     ]
    }
   ],
   "source": [
    "!/opt/conda/bin/python --version\n",
    "\n",
    "print(\"spark.version: {}\".format((spark.version)))"
   ]
  },
  {
   "cell_type": "code",
   "execution_count": 29,
   "id": "e2431b9f",
   "metadata": {},
   "outputs": [
    {
     "name": "stdout",
     "output_type": "stream",
     "text": [
      "\u001b[33mWARNING: The directory '/home/jovyan/.cache/pip' or its parent directory is not owned or is not writable by the current user. The cache has been disabled. Check the permissions and owner of that directory. If executing pip with sudo, you should use sudo's -H flag.\u001b[0m\n",
      "Requirement already satisfied: nltk in /opt/conda/lib/python3.9/site-packages (3.6.2)\n",
      "Requirement already satisfied: joblib in /opt/conda/lib/python3.9/site-packages (from nltk) (1.0.1)\n",
      "Requirement already satisfied: regex in /opt/conda/lib/python3.9/site-packages (from nltk) (2021.8.3)\n",
      "Requirement already satisfied: tqdm in /opt/conda/lib/python3.9/site-packages (from nltk) (4.62.0)\n",
      "Requirement already satisfied: click in /opt/conda/lib/python3.9/site-packages (from nltk) (8.0.1)\n",
      "\u001b[33mWARNING: Running pip as the 'root' user can result in broken permissions and conflicting behaviour with the system package manager. It is recommended to use a virtual environment instead: https://pip.pypa.io/warnings/venv\u001b[0m\n"
     ]
    }
   ],
   "source": [
    "!pip install nltk"
   ]
  },
  {
   "cell_type": "code",
   "execution_count": 36,
   "id": "03bd7705",
   "metadata": {},
   "outputs": [
    {
     "name": "stdout",
     "output_type": "stream",
     "text": [
      "\u001b[33mWARNING: The directory '/home/jovyan/.cache/pip' or its parent directory is not owned or is not writable by the current user. The cache has been disabled. Check the permissions and owner of that directory. If executing pip with sudo, you should use sudo's -H flag.\u001b[0m\n",
      "Requirement already satisfied: konlpy in /opt/conda/lib/python3.9/site-packages (0.5.2)\n",
      "Requirement already satisfied: colorama in /opt/conda/lib/python3.9/site-packages (from konlpy) (0.4.4)\n",
      "Requirement already satisfied: lxml>=4.1.0 in /opt/conda/lib/python3.9/site-packages (from konlpy) (4.6.3)\n",
      "Requirement already satisfied: tweepy>=3.7.0 in /opt/conda/lib/python3.9/site-packages (from konlpy) (3.10.0)\n",
      "Requirement already satisfied: numpy>=1.6 in /opt/conda/lib/python3.9/site-packages (from konlpy) (1.21.1)\n",
      "Requirement already satisfied: JPype1>=0.7.0 in /opt/conda/lib/python3.9/site-packages (from konlpy) (1.3.0)\n",
      "Requirement already satisfied: beautifulsoup4==4.6.0 in /opt/conda/lib/python3.9/site-packages (from konlpy) (4.6.0)\n",
      "Requirement already satisfied: six>=1.10.0 in /opt/conda/lib/python3.9/site-packages (from tweepy>=3.7.0->konlpy) (1.16.0)\n",
      "Requirement already satisfied: requests-oauthlib>=0.7.0 in /opt/conda/lib/python3.9/site-packages (from tweepy>=3.7.0->konlpy) (1.3.0)\n",
      "Requirement already satisfied: requests[socks]>=2.11.1 in /opt/conda/lib/python3.9/site-packages (from tweepy>=3.7.0->konlpy) (2.26.0)\n",
      "Requirement already satisfied: oauthlib>=3.0.0 in /opt/conda/lib/python3.9/site-packages (from requests-oauthlib>=0.7.0->tweepy>=3.7.0->konlpy) (3.1.1)\n",
      "Requirement already satisfied: idna<4,>=2.5 in /opt/conda/lib/python3.9/site-packages (from requests[socks]>=2.11.1->tweepy>=3.7.0->konlpy) (3.1)\n",
      "Requirement already satisfied: charset-normalizer~=2.0.0 in /opt/conda/lib/python3.9/site-packages (from requests[socks]>=2.11.1->tweepy>=3.7.0->konlpy) (2.0.0)\n",
      "Requirement already satisfied: certifi>=2017.4.17 in /opt/conda/lib/python3.9/site-packages (from requests[socks]>=2.11.1->tweepy>=3.7.0->konlpy) (2021.5.30)\n",
      "Requirement already satisfied: urllib3<1.27,>=1.21.1 in /opt/conda/lib/python3.9/site-packages (from requests[socks]>=2.11.1->tweepy>=3.7.0->konlpy) (1.26.6)\n",
      "Requirement already satisfied: PySocks!=1.5.7,>=1.5.6 in /opt/conda/lib/python3.9/site-packages (from requests[socks]>=2.11.1->tweepy>=3.7.0->konlpy) (1.7.1)\n",
      "\u001b[33mWARNING: Running pip as the 'root' user can result in broken permissions and conflicting behaviour with the system package manager. It is recommended to use a virtual environment instead: https://pip.pypa.io/warnings/venv\u001b[0m\n"
     ]
    }
   ],
   "source": [
    "!pip install konlpy"
   ]
  },
  {
   "cell_type": "code",
   "execution_count": 3,
   "id": "e19e2dda",
   "metadata": {},
   "outputs": [
    {
     "name": "stdout",
     "output_type": "stream",
     "text": [
      "\u001b[33mWARNING: The directory '/home/jovyan/.cache/pip' or its parent directory is not owned or is not writable by the current user. The cache has been disabled. Check the permissions and owner of that directory. If executing pip with sudo, you should use sudo's -H flag.\u001b[0m\n",
      "Requirement already satisfied: tweepy==3.10.0 in /opt/conda/lib/python3.9/site-packages (3.10.0)\n",
      "Requirement already satisfied: requests[socks]>=2.11.1 in /opt/conda/lib/python3.9/site-packages (from tweepy==3.10.0) (2.26.0)\n",
      "Requirement already satisfied: requests-oauthlib>=0.7.0 in /opt/conda/lib/python3.9/site-packages (from tweepy==3.10.0) (1.3.0)\n",
      "Requirement already satisfied: six>=1.10.0 in /opt/conda/lib/python3.9/site-packages (from tweepy==3.10.0) (1.16.0)\n",
      "Requirement already satisfied: oauthlib>=3.0.0 in /opt/conda/lib/python3.9/site-packages (from requests-oauthlib>=0.7.0->tweepy==3.10.0) (3.1.1)\n",
      "Requirement already satisfied: charset-normalizer~=2.0.0 in /opt/conda/lib/python3.9/site-packages (from requests[socks]>=2.11.1->tweepy==3.10.0) (2.0.0)\n",
      "Requirement already satisfied: idna<4,>=2.5 in /opt/conda/lib/python3.9/site-packages (from requests[socks]>=2.11.1->tweepy==3.10.0) (3.1)\n",
      "Requirement already satisfied: urllib3<1.27,>=1.21.1 in /opt/conda/lib/python3.9/site-packages (from requests[socks]>=2.11.1->tweepy==3.10.0) (1.26.6)\n",
      "Requirement already satisfied: certifi>=2017.4.17 in /opt/conda/lib/python3.9/site-packages (from requests[socks]>=2.11.1->tweepy==3.10.0) (2021.5.30)\n",
      "Requirement already satisfied: PySocks!=1.5.7,>=1.5.6 in /opt/conda/lib/python3.9/site-packages (from requests[socks]>=2.11.1->tweepy==3.10.0) (1.7.1)\n",
      "\u001b[33mWARNING: Running pip as the 'root' user can result in broken permissions and conflicting behaviour with the system package manager. It is recommended to use a virtual environment instead: https://pip.pypa.io/warnings/venv\u001b[0m\n"
     ]
    }
   ],
   "source": [
    "!pip install tweepy==3.10.0"
   ]
  },
  {
   "cell_type": "code",
   "execution_count": 4,
   "id": "fe5d20ad",
   "metadata": {},
   "outputs": [
    {
     "name": "stderr",
     "output_type": "stream",
     "text": [
      "                                                                                \r"
     ]
    },
    {
     "name": "stdout",
     "output_type": "stream",
     "text": [
      "root\n",
      " |-- 분야: string (nullable = true)\n",
      " |-- 분야 내 카테고리: string (nullable = true)\n",
      " |-- 서브 카테고리: string (nullable = true)\n",
      " |-- 순위: string (nullable = true)\n",
      " |-- 책이름: string (nullable = true)\n",
      " |-- 저자: string (nullable = true)\n",
      " |-- 줄거리: string (nullable = true)\n",
      " |-- 이미지: string (nullable = true)\n",
      "\n",
      "+---------------------------------+----------------+-------------+----+------+-------------+----------------------------------+------+\n",
      "|                             분야|분야 내 카테고리|서브 카테고리|순위|책이름|         저자|                            줄거리|이미지|\n",
      "+---------------------------------+----------------+-------------+----+------+-------------+----------------------------------+------+\n",
      "|                             소설|     나라별 소설|     영미소설|   1|대성당|레이먼드 카버|소설가 김연수의 번역으로 만나는...|  null|\n",
      "| “의심의 여지 없이 레이먼드 카...|                |         null|null|  null|         null|                              null|  null|\n",
      "|가장 위대한 문학적 동반자였다....|            null|         null|null|  null|         null|                              null|  null|\n",
      "+---------------------------------+----------------+-------------+----+------+-------------+----------------------------------+------+\n",
      "only showing top 3 rows\n",
      "\n"
     ]
    }
   ],
   "source": [
    "book = spark.read.option(\"header\", \"true\").option(\"inferSchema\", \"true\").csv(f\"./bookdb.csv\")\n",
    "book.printSchema()\n",
    "book.show(3)"
   ]
  },
  {
   "cell_type": "code",
   "execution_count": 5,
   "id": "d851b0a2",
   "metadata": {},
   "outputs": [
    {
     "name": "stdout",
     "output_type": "stream",
     "text": [
      "+------+-------------+----------------------------------+------+\n",
      "|책이름|         저자|                            줄거리|이미지|\n",
      "+------+-------------+----------------------------------+------+\n",
      "|대성당|레이먼드 카버|소설가 김연수의 번역으로 만나는...|  null|\n",
      "|  null|         null|                              null|  null|\n",
      "|  null|         null|                              null|  null|\n",
      "+------+-------------+----------------------------------+------+\n",
      "only showing top 3 rows\n",
      "\n"
     ]
    }
   ],
   "source": [
    "book = book.select(\"책이름\", \"저자\", \"줄거리\", \"이미지\")\n",
    "book.show(3)"
   ]
  },
  {
   "cell_type": "code",
   "execution_count": 7,
   "id": "bca48cc7",
   "metadata": {},
   "outputs": [
    {
     "data": {
      "text/html": [
       "<table border='1'>\n",
       "<tr><th>책이름</th><th>저자</th><th>줄거리</th><th>이미지</th></tr>\n",
       "<tr><td>빌러비드</td><td>토니 모리슨</td><td>차마 기억할 수 없고 잊을 수도 없는 과거를 ‘재기억’하다!흑인 여성으로는 최초로 노벨문학상을 수상한 살아 있는 미국문학의 대모, 토니 모리슨의 대표작 『빌러비드』. 미국 역...</td><td>https://bookthumb-phinf.pstatic.net/cover/076/035/07603523.jpg?type=m5</td></tr>\n",
       "<tr><td>주황은 고통, 파랑은 광기</td><td>질 D. 블록, 리 차일드, 니컬러스 크리스토퍼, 마이클 코널리, 제프리 디버, 조 R. 랜스데일, 게.. 외 10명</td><td>17편의 어둡고 기묘하고 매혹적인 이야기들!조이스 캐럴 오츠, 리 차일드, 마이클 코널리, 제프리 디버, 데이비드 모렐을 포함해 재능 넘치는 이야기꾼 열일곱 명이 고대 동굴벽...</td><td>https://bookthumb-phinf.pstatic.net/cover/155/109/15510910.jpg?type=m5</td></tr>\n",
       "<tr><td>양들의 침묵</td><td>토머스 해리스</td><td>“클라리스, 양들은 울음을 그쳤나?그 울음은 아마 영원히 멈추지 않을 거야.”우리 시대 최고의 작가 토머스 해리스가 돌아왔다!전 세계 수천만 독자들을 사로잡은《양들의 침묵》 ...</td><td>https://bookthumb-phinf.pstatic.net/cover/154/066/15406625.jpg?type=m5</td></tr>\n",
       "<tr><td>우아한 연인</td><td>에이모 토울스</td><td>고전 문학적 배경을 누비는 현대적이고 세련된 인물들이 선사하는 독특한 감동!《모스크바의 신사》의 저자 에이모 토울스의 데뷔작 『우아한 연인』. 작가로서는 비교적 늦은 나이인 ...</td><td>https://bookthumb-phinf.pstatic.net/cover/154/695/15469542.jpg?type=m5</td></tr>\n",
       "<tr><td>걸리버 여행기</td><td>조너선 스위프트</td><td>『동물농장』 조지 오웰이 극찬한 최고의 풍자문학 완역본환상적인 모험에 숨겨진 인간과 사회에 대한 신랄한 풍자풍자문학의 대가 조너선 스위프트의 『걸리버 여행기』는 걸리버의 환상...</td><td>https://bookthumb-phinf.pstatic.net/cover/153/732/15373293.jpg?type=m5</td></tr>\n",
       "</table>\n"
      ],
      "text/plain": [
       "+------------------------+----------------------------------------------------------------------------------------------------+---------------------------------------------------------------------------------------------------------------------------------------------------------------------------------+----------------------------------------------------------------------+\n",
       "|                  책이름|                                                                                                저자|                                                                                                                                                                           줄거리|                                                                이미지|\n",
       "+------------------------+----------------------------------------------------------------------------------------------------+---------------------------------------------------------------------------------------------------------------------------------------------------------------------------------+----------------------------------------------------------------------+\n",
       "|                빌러비드|                                                                                         토니 모리슨|       차마 기억할 수 없고 잊을 수도 없는 과거를 ‘재기억’하다!흑인 여성으로는 최초로 노벨문학상을 수상한 살아 있는 미국문학의 대모, 토니 모리슨의 대표작 『빌러비드』. 미국 역...|https://bookthumb-phinf.pstatic.net/cover/076/035/07603523.jpg?type=m5|\n",
       "|주황은 고통, 파랑은 광기|질 D. 블록, 리 차일드, 니컬러스 크리스토퍼, 마이클 코널리, 제프리 디버, 조 R. 랜스데일, 게.. 외 10명|         17편의 어둡고 기묘하고 매혹적인 이야기들!조이스 캐럴 오츠, 리 차일드, 마이클 코널리, 제프리 디버, 데이비드 모렐을 포함해 재능 넘치는 이야기꾼 열일곱 명이 고대 동굴벽...|https://bookthumb-phinf.pstatic.net/cover/155/109/15510910.jpg?type=m5|\n",
       "|             양들의 침묵|                                                                                       토머스 해리스|       “클라리스, 양들은 울음을 그쳤나?그 울음은 아마 영원히 멈추지 않을 거야.”우리 시대 최고의 작가 토머스 해리스가 돌아왔다!전 세계 수천만 독자들을 사로잡은《양들의 침묵》 ...|https://bookthumb-phinf.pstatic.net/cover/154/066/15406625.jpg?type=m5|\n",
       "|             우아한 연인|                                                                                       에이모 토울스|   고전 문학적 배경을 누비는 현대적이고 세련된 인물들이 선사하는 독특한 감동!《모스크바의 신사》의 저자 에이모 토울스의 데뷔작 『우아한 연인』. 작가로서는 비교적 늦은 나이인 ...|https://bookthumb-phinf.pstatic.net/cover/154/695/15469542.jpg?type=m5|\n",
       "|           걸리버 여행기|                                                                                     조너선 스위프트|『동물농장』 조지 오웰이 극찬한 최고의 풍자문학 완역본환상적인 모험에 숨겨진 인간과 사회에 대한 신랄한 풍자풍자문학의 대가 조너선 스위프트의 『걸리버 여행기』는 걸리버의 환상...|https://bookthumb-phinf.pstatic.net/cover/153/732/15373293.jpg?type=m5|\n",
       "+------------------------+----------------------------------------------------------------------------------------------------+---------------------------------------------------------------------------------------------------------------------------------------------------------------------------------+----------------------------------------------------------------------+"
      ]
     },
     "execution_count": 7,
     "metadata": {},
     "output_type": "execute_result"
    }
   ],
   "source": [
    "book.createOrReplaceTempView(\"book\")\n",
    "spark.sql(\"select * from book where '책이름' is not null\")\n",
    "book = book.na.drop()\n",
    "spark.sql(\"select * from book limit 5\")"
   ]
  },
  {
   "cell_type": "code",
   "execution_count": 16,
   "id": "12ce100b",
   "metadata": {},
   "outputs": [],
   "source": [
    "bookdf = book.toPandas()"
   ]
  },
  {
   "cell_type": "code",
   "execution_count": 33,
   "id": "35c77509",
   "metadata": {},
   "outputs": [],
   "source": [
    "import pandas as pd\n",
    "from sklearn.feature_extraction.text import TfidfVectorizer\n",
    "from sklearn.metrics.pairwise import cosine_similarity\n",
    "from nltk.corpus import stopwords\n",
    "from nltk.tokenize import word_tokenize \n",
    "from konlpy.tag import Okt"
   ]
  },
  {
   "cell_type": "markdown",
   "id": "06b4b9c8",
   "metadata": {},
   "source": [
    "형태소 분석 - 조사, 어미, 어간 등 제거"
   ]
  },
  {
   "cell_type": "code",
   "execution_count": null,
   "id": "d4e0b32b",
   "metadata": {},
   "outputs": [],
   "source": [
    "output = []\n",
    "for i, document in enumerate(bookdf['줄거리']):\n",
    "    okt = Okt()\n",
    "    clean_words = []\n",
    "    for word in okt.pos(document, stem=True): #어간추출\n",
    "        if word[1] in ['Noun', 'Verb', 'Adjective']:\n",
    "            clean_words.append(word[0])\n",
    "    document = ' '.join(clean_words)\n",
    "    output.append(document)"
   ]
  },
  {
   "cell_type": "markdown",
   "id": "89511c40",
   "metadata": {},
   "source": [
    "불용어 제거"
   ]
  },
  {
   "cell_type": "code",
   "execution_count": 23,
   "id": "e6b5d5df",
   "metadata": {},
   "outputs": [
    {
     "name": "stderr",
     "output_type": "stream",
     "text": [
      "[nltk_data] Downloading package punkt to /home/jovyan/nltk_data...\n",
      "[nltk_data]   Unzipping tokenizers/punkt.zip.\n"
     ]
    },
    {
     "name": "stdout",
     "output_type": "stream",
     "text": [
      "['차마 기억 하다 없다 잊다 수도 없다 과거 재기 하다 흑인 여성 최초 노벨문학상 수상한 있다 미국문학 대모 토니 리슨 대표 작 빌다 비드 미국 역사 이해 하다 필수 흑인 노예제 현대 인종차별 이르다 넓다 스펙트럼 다루다 온 저자 작품 여성 노예 초점 맞추다 노예제 특수하다 상황 폭력 겪다 이야기 들려주다 여성 어머니 이기 성적 억압 모성애 박탈 겪다 하다 하다 흑인 여성 노예 운명 대물리다 끊기다 위해 딸 죽이다 실화 바탕 이야기 구성 하다 흑인 참혹하다 역사 재 조명 박탈 모성애 되찾다 도망 노예 과격하다 뒤틀리다 사랑 그로 인하다 자기 파괴 보여주다', '편의 어둡다 기묘하다 매혹 이야기 조이스 캐럴 오츠 리 차 일드 마이클 코 널리 제프리 디버 데이비드 모렐 포함 하다 재능 넘치다 이야기 일곱 고대 동굴 벽화 미켈란젤로 고갱 고흐 르누아르 마그리트 달리 이르다 채 작품 영감 받다 써다 내려가다 소설 엮 주황 고통 파랑 광기 예술 작품 선정 제한 두다 않다 덕 각각 작가 자유롭다 규칙 날개 삼다 기발하다 거치다 없다 상상력 펼치다 저 독창 매력 이야기 완성 하다 서로 시대 서로 재료 색채 스타일 빚 어진 미술 작품 소설 예술 통해 새롭다 목소리 생명 얻다 되어다', '클라리스 양 울음 그치다 울음 아마 영원하다 멈추다 않다 시대 최고 작가 토머스 해리스 돌아오다 전 세계 독자 사로자다 양 침묵 추다 간 주년 기념 스페셜 에디 션 전 세계 독자 밤잠 빼앗다 최고 스릴러 양 침묵 추다 간 주년 기념 스페셜 에디 션 추다 간 세기 스릴러 문학 모든 기록 치우다 작가 토머스 해리스 귀환 양 침묵 알다 아마 전 세계 절반 책 나머지 절반 영화로 제목 접 하다 책 주인공 한니발 렉터 늘다 희다 대의 식인 살인마 캐릭터 독자 뇌리 지워지다 않다 강렬하다 인상 남다 토머스 해리스 세계 최고 작가 열 올리다 소설 전 세계 폭넓다 애독자 층 확보', '고전 문학 배경 누비 현대 세련되다 인물 선사 하다 독특하다 감동 모스크바 신사 의 저자 에이 모 토울스 데뷔 작 우아하다 연인 작 가로서다 비교 늦다 나이 마흔 넘다 탈고 작품 완벽하다 재현 되다 뉴욕 배경 세 젊은이 찬란하다 꿈 엇갈리다 생생하다 담다 내다 대공황 남기다 그림자 흥겹다 재즈 선율 있다 뉴욕 자유롭다 성공 목 마르다 젊은이 사랑 이별 언뜻 전형 구성 변화무쌍하다 운명 독자 예상 번번이 비 끼다 간다 이민자 딸 이자 노동 계층 케이티 할리우드 드림 꿈꾸다 이브 비범하다 내면 지니다 평범하다 삶 살다 급 급하다 뿐이다 여성 젊다 유망 은행가 팅커 나타나다 시대 바', '동물농장 조지 오웰 극찬 최고 풍자 문학 완역 환상 모험 숨기다 인간 대한 신랄하다 풍자 풍자 문학 대가 선 스위프트 걸리버 여행기 늘다 걸리버 환상 험담 통해 당대 정치 인간 문명 통렬 하다 비판 하다 스위프트 작품 의도 세상 즐겁다 해주다 아니다 화나다 만들다 하다 걸리버 여행기 늘다 출판 되어다 엄청나다 인기 논란 동시 불러일으키다 신랄하다 묘사 인하다 내용 삭제 되다 금서 지정 되다 하다 세기 초 걸리버 여행기 늘다 원작 거치다 표현 풍자 삭제 아동문학 발행 되어다 이렇다 판본 수많다 독자 읽히다 있다 아동 용 걸리버 여행기 를 접']\n"
     ]
    }
   ],
   "source": [
    "df = pd.read_csv('https://raw.githubusercontent.com/cranberryai/todak_todak_python/master/machine_learning_text/clean_korean_documents/korean_stopwords.txt', header=None)\n",
    "df[0] = df[0].apply(lambda x: x.strip())\n",
    "stopwords = df[0].to_numpy()\n",
    "\n",
    "import nltk\n",
    "nltk.download('punkt')\n",
    "for i, document in enumerate(output):\n",
    "    clean_words = [] \n",
    "    for word in nltk.tokenize.word_tokenize(document): \n",
    "        if word not in stopwords: #불용어 제거\n",
    "            clean_words.append(word)    \n",
    "    output[i] = ' '.join(clean_words)        \n",
    "print(output[:5])"
   ]
  },
  {
   "cell_type": "code",
   "execution_count": 25,
   "id": "bb240dc8",
   "metadata": {},
   "outputs": [],
   "source": [
    "append_col = {'processed_line' : output}\n",
    "bookdf = bookdf.append(pd.DataFrame(append_col))"
   ]
  },
  {
   "cell_type": "code",
   "execution_count": 48,
   "id": "2ab3f2b2",
   "metadata": {},
   "outputs": [
    {
     "data": {
      "text/html": [
       "<div>\n",
       "<style scoped>\n",
       "    .dataframe tbody tr th:only-of-type {\n",
       "        vertical-align: middle;\n",
       "    }\n",
       "\n",
       "    .dataframe tbody tr th {\n",
       "        vertical-align: top;\n",
       "    }\n",
       "\n",
       "    .dataframe thead th {\n",
       "        text-align: right;\n",
       "    }\n",
       "</style>\n",
       "<table border=\"1\" class=\"dataframe\">\n",
       "  <thead>\n",
       "    <tr style=\"text-align: right;\">\n",
       "      <th></th>\n",
       "      <th>책이름</th>\n",
       "      <th>저자</th>\n",
       "      <th>줄거리</th>\n",
       "      <th>이미지</th>\n",
       "    </tr>\n",
       "  </thead>\n",
       "  <tbody>\n",
       "    <tr>\n",
       "      <th>0</th>\n",
       "      <td>빌러비드</td>\n",
       "      <td>토니 모리슨</td>\n",
       "      <td>차마 기억할 수 없고 잊을 수도 없는 과거를 ‘재기억’하다!흑인 여성으로는 최초로 ...</td>\n",
       "      <td>https://bookthumb-phinf.pstatic.net/cover/076/...</td>\n",
       "    </tr>\n",
       "    <tr>\n",
       "      <th>1</th>\n",
       "      <td>주황은 고통, 파랑은 광기</td>\n",
       "      <td>질 D. 블록, 리 차일드, 니컬러스 크리스토퍼, 마이클 코널리, 제프리 디버, 조...</td>\n",
       "      <td>17편의 어둡고 기묘하고 매혹적인 이야기들!조이스 캐럴 오츠, 리 차일드, 마이클 ...</td>\n",
       "      <td>https://bookthumb-phinf.pstatic.net/cover/155/...</td>\n",
       "    </tr>\n",
       "    <tr>\n",
       "      <th>2</th>\n",
       "      <td>양들의 침묵</td>\n",
       "      <td>토머스 해리스</td>\n",
       "      <td>“클라리스, 양들은 울음을 그쳤나?그 울음은 아마 영원히 멈추지 않을 거야.”우리 ...</td>\n",
       "      <td>https://bookthumb-phinf.pstatic.net/cover/154/...</td>\n",
       "    </tr>\n",
       "    <tr>\n",
       "      <th>3</th>\n",
       "      <td>우아한 연인</td>\n",
       "      <td>에이모 토울스</td>\n",
       "      <td>고전 문학적 배경을 누비는 현대적이고 세련된 인물들이 선사하는 독특한 감동!《모스크...</td>\n",
       "      <td>https://bookthumb-phinf.pstatic.net/cover/154/...</td>\n",
       "    </tr>\n",
       "    <tr>\n",
       "      <th>4</th>\n",
       "      <td>걸리버 여행기</td>\n",
       "      <td>조너선 스위프트</td>\n",
       "      <td>『동물농장』 조지 오웰이 극찬한 최고의 풍자문학 완역본환상적인 모험에 숨겨진 인간과...</td>\n",
       "      <td>https://bookthumb-phinf.pstatic.net/cover/153/...</td>\n",
       "    </tr>\n",
       "    <tr>\n",
       "      <th>...</th>\n",
       "      <td>...</td>\n",
       "      <td>...</td>\n",
       "      <td>...</td>\n",
       "      <td>...</td>\n",
       "    </tr>\n",
       "    <tr>\n",
       "      <th>158</th>\n",
       "      <td>해변의 카프카 하</td>\n",
       "      <td>무라카미 하루키</td>\n",
       "      <td>23년 하루키 문학 인생의 결정체가 담긴 장편소설!무라카미 하루키 장편소설『해변의 ...</td>\n",
       "      <td>https://bookthumb-phinf.pstatic.net/cover/045/...</td>\n",
       "    </tr>\n",
       "    <tr>\n",
       "      <th>159</th>\n",
       "      <td>브루투스의 심장</td>\n",
       "      <td>히가시노 게이고</td>\n",
       "      <td>&lt;붉은 손가락&gt;, &lt;용의자 X의 헌신&gt;, &lt;비밀&gt;의 작가, 히가시노 게이고의 초기 ...</td>\n",
       "      <td>https://bookthumb-phinf.pstatic.net/cover/030/...</td>\n",
       "    </tr>\n",
       "    <tr>\n",
       "      <th>160</th>\n",
       "      <td>공중그네</td>\n",
       "      <td>오쿠다 히데오</td>\n",
       "      <td>뾰족한 물건만 보면 오금을 못 펴는 야쿠자 중간보스, 어느 날부턴가 공중그네에서 번...</td>\n",
       "      <td>https://bookthumb-phinf.pstatic.net/cover/014/...</td>\n",
       "    </tr>\n",
       "    <tr>\n",
       "      <th>161</th>\n",
       "      <td>인간 실격</td>\n",
       "      <td>다자이 오사무</td>\n",
       "      <td>인간의 나약함을 탁월하게 묘사하는 다자이 오사무의 작품을 새롭게 읽는다. 순수하고 ...</td>\n",
       "      <td>https://bookthumb-phinf.pstatic.net/cover/001/...</td>\n",
       "    </tr>\n",
       "    <tr>\n",
       "      <th>162</th>\n",
       "      <td>설국</td>\n",
       "      <td>가와바타 야스나리</td>\n",
       "      <td>일본 최초의 노벨문학상 수상작품. 그러나 가와바타 야스나리의 '설국'은 무슨무슨상으...</td>\n",
       "      <td>https://bookthumb-phinf.pstatic.net/cover/000/...</td>\n",
       "    </tr>\n",
       "  </tbody>\n",
       "</table>\n",
       "<p>163 rows × 4 columns</p>\n",
       "</div>"
      ],
      "text/plain": [
       "                책이름                                                 저자  \\\n",
       "0              빌러비드                                             토니 모리슨   \n",
       "1    주황은 고통, 파랑은 광기  질 D. 블록, 리 차일드, 니컬러스 크리스토퍼, 마이클 코널리, 제프리 디버, 조...   \n",
       "2            양들의 침묵                                            토머스 해리스   \n",
       "3            우아한 연인                                            에이모 토울스   \n",
       "4           걸리버 여행기                                           조너선 스위프트   \n",
       "..              ...                                                ...   \n",
       "158       해변의 카프카 하                                           무라카미 하루키   \n",
       "159        브루투스의 심장                                           히가시노 게이고   \n",
       "160            공중그네                                            오쿠다 히데오   \n",
       "161           인간 실격                                            다자이 오사무   \n",
       "162              설국                                          가와바타 야스나리   \n",
       "\n",
       "                                                   줄거리  \\\n",
       "0    차마 기억할 수 없고 잊을 수도 없는 과거를 ‘재기억’하다!흑인 여성으로는 최초로 ...   \n",
       "1    17편의 어둡고 기묘하고 매혹적인 이야기들!조이스 캐럴 오츠, 리 차일드, 마이클 ...   \n",
       "2    “클라리스, 양들은 울음을 그쳤나?그 울음은 아마 영원히 멈추지 않을 거야.”우리 ...   \n",
       "3    고전 문학적 배경을 누비는 현대적이고 세련된 인물들이 선사하는 독특한 감동!《모스크...   \n",
       "4    『동물농장』 조지 오웰이 극찬한 최고의 풍자문학 완역본환상적인 모험에 숨겨진 인간과...   \n",
       "..                                                 ...   \n",
       "158  23년 하루키 문학 인생의 결정체가 담긴 장편소설!무라카미 하루키 장편소설『해변의 ...   \n",
       "159  <붉은 손가락>, <용의자 X의 헌신>, <비밀>의 작가, 히가시노 게이고의 초기 ...   \n",
       "160  뾰족한 물건만 보면 오금을 못 펴는 야쿠자 중간보스, 어느 날부턴가 공중그네에서 번...   \n",
       "161  인간의 나약함을 탁월하게 묘사하는 다자이 오사무의 작품을 새롭게 읽는다. 순수하고 ...   \n",
       "162  일본 최초의 노벨문학상 수상작품. 그러나 가와바타 야스나리의 '설국'은 무슨무슨상으...   \n",
       "\n",
       "                                                   이미지  \n",
       "0    https://bookthumb-phinf.pstatic.net/cover/076/...  \n",
       "1    https://bookthumb-phinf.pstatic.net/cover/155/...  \n",
       "2    https://bookthumb-phinf.pstatic.net/cover/154/...  \n",
       "3    https://bookthumb-phinf.pstatic.net/cover/154/...  \n",
       "4    https://bookthumb-phinf.pstatic.net/cover/153/...  \n",
       "..                                                 ...  \n",
       "158  https://bookthumb-phinf.pstatic.net/cover/045/...  \n",
       "159  https://bookthumb-phinf.pstatic.net/cover/030/...  \n",
       "160  https://bookthumb-phinf.pstatic.net/cover/014/...  \n",
       "161  https://bookthumb-phinf.pstatic.net/cover/001/...  \n",
       "162  https://bookthumb-phinf.pstatic.net/cover/000/...  \n",
       "\n",
       "[163 rows x 4 columns]"
      ]
     },
     "execution_count": 48,
     "metadata": {},
     "output_type": "execute_result"
    }
   ],
   "source": [
    "bookdf = bookdf[:163]\n",
    "bookdf = bookdf.drop(['processed_line'], axis=1)\n",
    "bookdf"
   ]
  },
  {
   "cell_type": "code",
   "execution_count": 51,
   "id": "bd72ed4a",
   "metadata": {},
   "outputs": [],
   "source": [
    "bookdf = pd.concat([bookdf, pd.DataFrame(append_col)], axis=1)"
   ]
  },
  {
   "cell_type": "code",
   "execution_count": 52,
   "id": "3c6e97cb",
   "metadata": {},
   "outputs": [
    {
     "name": "stdout",
     "output_type": "stream",
     "text": [
      "TF-IDF 행렬의 크기(shape) : (163, 3633)\n"
     ]
    }
   ],
   "source": [
    "tfidf = TfidfVectorizer()\n",
    "tfidf_matrix = tfidf.fit_transform(bookdf['processed_line'])\n",
    "print('TF-IDF 행렬의 크기(shape) :',tfidf_matrix.shape)"
   ]
  },
  {
   "cell_type": "code",
   "execution_count": 53,
   "id": "8a60cedb",
   "metadata": {},
   "outputs": [
    {
     "name": "stdout",
     "output_type": "stream",
     "text": [
      "코사인 유사도 연산 결과 : (163, 163)\n"
     ]
    }
   ],
   "source": [
    "cosine_sim = cosine_similarity(tfidf_matrix, tfidf_matrix)\n",
    "print('코사인 유사도 연산 결과 :',cosine_sim.shape)"
   ]
  },
  {
   "cell_type": "code",
   "execution_count": 54,
   "id": "82b4a284",
   "metadata": {},
   "outputs": [
    {
     "name": "stdout",
     "output_type": "stream",
     "text": [
      "161\n"
     ]
    }
   ],
   "source": [
    "title_to_index = dict(zip(bookdf['책이름'], bookdf.index))\n",
    "\n",
    "# 책 제목 '인간 실격'의 인덱스를 리턴\n",
    "idx = title_to_index['인간 실격']\n",
    "print(idx)"
   ]
  },
  {
   "cell_type": "code",
   "execution_count": 55,
   "id": "487c6e52",
   "metadata": {},
   "outputs": [
    {
     "data": {
      "text/plain": [
       "39         해리 포터와 비밀의 방 1\n",
       "37        해리 포터와 마법사의 돌 1\n",
       "38     해리 포터와 마법사의 돌 2/완결\n",
       "43           해리포터와 불의 잔 1\n",
       "41       해리포터와 아즈카반의 죄수 1\n",
       "42       해리포터와 아즈카반의 죄수 2\n",
       "152                1Q84 1\n",
       "8                     모비딕\n",
       "44           해리포터와 불의 잔 2\n",
       "45           해리포터와 불의 잔 4\n",
       "Name: 책이름, dtype: object"
      ]
     },
     "execution_count": 55,
     "metadata": {},
     "output_type": "execute_result"
    }
   ],
   "source": [
    "def get_recommendations(title, cosine_sim=cosine_sim):\n",
    "    # 선택한 책제목으로부터 해당 책의 인덱스를 받아온다.\n",
    "    idx = title_to_index[title]\n",
    "\n",
    "    # 해당 책 모든 책들간의 유사도\n",
    "    sim_scores = list(enumerate(cosine_sim[idx]))\n",
    "\n",
    "    # 유사도에 따라 정렬한다.\n",
    "    sim_scores = sorted(sim_scores, key=lambda x: x[1], reverse=True)\n",
    "\n",
    "    # 가장 유사한 10개의 책 받아오기\n",
    "    sim_scores = sim_scores[1:11]\n",
    "\n",
    "    # 가장 유사한 10개의 책 인덱스\n",
    "    book_indices = [idx[0] for idx in sim_scores]\n",
    "\n",
    "    # 가장 유사한 10개의 책 제목 리턴\n",
    "    return bookdf['책이름'].iloc[book_indices]\n",
    "\n",
    "get_recommendations('양들의 침묵')"
   ]
  },
  {
   "cell_type": "markdown",
   "id": "ad674a6c",
   "metadata": {},
   "source": [
    "mysql로 테이블 저장"
   ]
  },
  {
   "cell_type": "code",
   "execution_count": null,
   "id": "76732d0b",
   "metadata": {},
   "outputs": [],
   "source": [
    "bookdf.write.mode(\"overwrite\").jdbc(\"jdbc:mysql://mysql:3306/bookdb\", \"bookdb.books\", properties={\"user\":\"root\", \"password\":\"root\"})"
   ]
  }
 ],
 "metadata": {
  "kernelspec": {
   "display_name": "Python 3 (ipykernel)",
   "language": "python",
   "name": "python3"
  },
  "language_info": {
   "codemirror_mode": {
    "name": "ipython",
    "version": 3
   },
   "file_extension": ".py",
   "mimetype": "text/x-python",
   "name": "python",
   "nbconvert_exporter": "python",
   "pygments_lexer": "ipython3",
   "version": "3.9.6"
  },
  "toc-showmarkdowntxt": true
 },
 "nbformat": 4,
 "nbformat_minor": 5
}
