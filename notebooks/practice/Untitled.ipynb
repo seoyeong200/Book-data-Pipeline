{
 "cells": [
  {
   "cell_type": "code",
   "execution_count": null,
   "id": "11655393-3ff1-468b-9722-8ca96f82001b",
   "metadata": {},
   "outputs": [],
   "source": []
  },
  {
   "cell_type": "markdown",
   "id": "9d2cb0ca-cf22-4ba9-a443-175b79e2de7e",
   "metadata": {
    "tags": []
   },
   "source": [
    "## Pyspark mllib - Word2Vec"
   ]
  },
  {
   "cell_type": "code",
   "execution_count": null,
   "id": "d3d76264-e266-411d-a7d9-1509cbd3de0c",
   "metadata": {
    "tags": []
   },
   "outputs": [],
   "source": [
    "from pyspark.mllib.feature import Word2Vec\n",
    "\n",
    "inp = sc.textFile(\"./sample_ida_data.txt\").map(lambda row: row.split(\" \"))\n",
    "\n",
    "word2vec = Word2Vec()\n",
    "model = word2vec.fit(inp)\n",
    "\n",
    "synonyms = model.findSynonyms('1', 5)\n",
    "\n",
    "for word, cosine_distance in synonyms:\n",
    "    print(\"{}: {}\".format(word, cosine_distance))"
   ]
  },
  {
   "cell_type": "markdown",
   "id": "7ce9a156-a428-4804-ad6e-d54d7e62e6c4",
   "metadata": {},
   "source": [
    "#### pyspark 3 예제"
   ]
  },
  {
   "cell_type": "code",
   "execution_count": 25,
   "id": "04626ba0-ec68-4793-b61d-88f4e6863487",
   "metadata": {},
   "outputs": [
    {
     "data": {
      "text/html": [
       "<table border='1'>\n",
       "<tr><th>sentence</th></tr>\n",
       "<tr><td>[a, b, a, b, a, b, a, b, a, b, a, b, a, b, a, b, a, b, a, b, a, b, a, b, a, b, a, b, a, b, a, b, ...</td></tr>\n",
       "<tr><td>[a, b, a, b, a, b, a, b, a, b, a, b, a, b, a, b, a, b, a, b, a, b, a, b, a, b, a, b, a, b, a, b, ...</td></tr>\n",
       "</table>\n"
      ],
      "text/plain": [
       "+----------------------------------------------------------------------------------------------------+\n",
       "|                                                                                            sentence|\n",
       "+----------------------------------------------------------------------------------------------------+\n",
       "|[a, b, a, b, a, b, a, b, a, b, a, b, a, b, a, b, a, b, a, b, a, b, a, b, a, b, a, b, a, b, a, b, ...|\n",
       "|[a, b, a, b, a, b, a, b, a, b, a, b, a, b, a, b, a, b, a, b, a, b, a, b, a, b, a, b, a, b, a, b, ...|\n",
       "+----------------------------------------------------------------------------------------------------+"
      ]
     },
     "execution_count": 25,
     "metadata": {},
     "output_type": "execute_result"
    }
   ],
   "source": [
    "sent = (\"a b \" * 100 + \"a c \" * 10).split(\" \")\n",
    "doc = spark.createDataFrame([(sent,), (sent,)], [\"sentence\"])\n",
    "doc"
   ]
  },
  {
   "cell_type": "code",
   "execution_count": 44,
   "id": "68f3f141-d7b7-4faf-b7b7-1505c1de22f1",
   "metadata": {},
   "outputs": [
    {
     "data": {
      "text/plain": [
       "Word2Vec_544aacb2bd56"
      ]
     },
     "execution_count": 44,
     "metadata": {},
     "output_type": "execute_result"
    }
   ],
   "source": [
    "from pyspark.ml.feature import Word2Vec\n",
    "from pyspark.ml.feature import Word2VecModel\n",
    "w2v = Word2Vec(vectorSize=5, seed=42, inputCol=\"sentence\", outputCol=\"model\")\n",
    "w2v.setMaxIter(10)"
   ]
  },
  {
   "cell_type": "code",
   "execution_count": 28,
   "id": "2868b48b-5d1d-46b7-8df2-07848212e543",
   "metadata": {},
   "outputs": [
    {
     "data": {
      "text/plain": [
       "10"
      ]
     },
     "execution_count": 28,
     "metadata": {},
     "output_type": "execute_result"
    }
   ],
   "source": [
    "w2v.getMaxIter()"
   ]
  },
  {
   "cell_type": "code",
   "execution_count": 29,
   "id": "0d7fb760-fbb5-4b22-b978-f2e4786fff11",
   "metadata": {},
   "outputs": [
    {
     "data": {
      "text/plain": [
       "5"
      ]
     },
     "execution_count": 29,
     "metadata": {},
     "output_type": "execute_result"
    }
   ],
   "source": [
    "w2v.clear(w2v.maxIter)\n",
    "model = w2v.fit(doc)\n",
    "model.getMinCount()"
   ]
  },
  {
   "cell_type": "code",
   "execution_count": 30,
   "id": "9e43fd48-525d-44b0-9758-aaa71eb3a1b7",
   "metadata": {},
   "outputs": [
    {
     "data": {
      "text/plain": [
       "Word2VecModel: uid=Word2Vec_bfa0f6b2ee9e, numWords=3, vectorSize=5"
      ]
     },
     "execution_count": 30,
     "metadata": {},
     "output_type": "execute_result"
    }
   ],
   "source": [
    "model.setInputCol(\"sentence\")"
   ]
  },
  {
   "cell_type": "code",
   "execution_count": 31,
   "id": "ada2e90d-64d5-463f-8018-a5ff92ddff01",
   "metadata": {},
   "outputs": [
    {
     "name": "stdout",
     "output_type": "stream",
     "text": [
      "+----+--------------------+\n",
      "|word|              vector|\n",
      "+----+--------------------+\n",
      "|   a|[0.09511678665876...|\n",
      "|   b|[-1.2028766870498...|\n",
      "|   c|[0.30153277516365...|\n",
      "+----+--------------------+\n",
      "\n"
     ]
    }
   ],
   "source": [
    "model.getVectors().show()"
   ]
  },
  {
   "cell_type": "code",
   "execution_count": 32,
   "id": "05d7da03-388c-4ab5-9790-49b2af65c80c",
   "metadata": {},
   "outputs": [
    {
     "data": {
      "text/plain": [
       "[('b', 0.015859870240092278), ('c', -0.5680795907974243)]"
      ]
     },
     "execution_count": 32,
     "metadata": {},
     "output_type": "execute_result"
    }
   ],
   "source": [
    "model.findSynonymsArray(\"a\", 2)"
   ]
  },
  {
   "cell_type": "code",
   "execution_count": 33,
   "id": "130a65d6-046c-450e-8e35-407cee2c1020",
   "metadata": {},
   "outputs": [
    {
     "data": {
      "text/html": [
       "<table border='1'>\n",
       "<tr><th>word</th><th>format_number(similarity, 5)</th></tr>\n",
       "<tr><td>b</td><td>0.01586</td></tr>\n",
       "<tr><td>c</td><td>-0.56808</td></tr>\n",
       "</table>\n"
      ],
      "text/plain": [
       "+----+----------------------------+\n",
       "|word|format_number(similarity, 5)|\n",
       "+----+----------------------------+\n",
       "|   b|                     0.01586|\n",
       "|   c|                    -0.56808|\n",
       "+----+----------------------------+"
      ]
     },
     "execution_count": 33,
     "metadata": {},
     "output_type": "execute_result"
    }
   ],
   "source": [
    "from pyspark.sql.functions import format_number as fmt\n",
    "model.findSynonyms(\"a\", 2).select(\"word\", fmt(\"similarity\", 5))"
   ]
  },
  {
   "cell_type": "code",
   "execution_count": 34,
   "id": "44e71589-3002-4184-9bf8-a0cf6b4dccf8",
   "metadata": {},
   "outputs": [
    {
     "data": {
      "text/html": [
       "<table border='1'>\n",
       "<tr><th>word</th><th>similarity</th></tr>\n",
       "<tr><td>b</td><td>0.01586</td></tr>\n",
       "<tr><td>c</td><td>-0.56808</td></tr>\n",
       "</table>\n"
      ],
      "text/plain": [
       "+----+----------+\n",
       "|word|similarity|\n",
       "+----+----------+\n",
       "|   b|   0.01586|\n",
       "|   c|  -0.56808|\n",
       "+----+----------+"
      ]
     },
     "execution_count": 34,
     "metadata": {},
     "output_type": "execute_result"
    }
   ],
   "source": [
    "model.findSynonyms(\"a\", 2).select(\"word\", fmt(\"similarity\", 5).alias(\"similarity\"))"
   ]
  },
  {
   "cell_type": "code",
   "execution_count": 35,
   "id": "3ddb2ce6-ec24-4aaf-9e9b-65d948f4b1e1",
   "metadata": {},
   "outputs": [
    {
     "data": {
      "text/plain": [
       "DenseVector([-0.4833, 0.1855, -0.273, -0.0509, -0.4769])"
      ]
     },
     "execution_count": 35,
     "metadata": {},
     "output_type": "execute_result"
    }
   ],
   "source": [
    "model.transform(doc).head().model"
   ]
  },
  {
   "cell_type": "markdown",
   "id": "1bc2a27f-b251-401c-b142-b4b20167332a",
   "metadata": {},
   "source": [
    "#### save model"
   ]
  },
  {
   "cell_type": "code",
   "execution_count": 37,
   "id": "91e19a40-c8e1-457e-91c7-0e0c4764ad57",
   "metadata": {},
   "outputs": [],
   "source": [
    "temp_path = \"./\"\n",
    "w2vPath = temp_path + \"/word2vec\"\n",
    "w2v.save(w2vPath)"
   ]
  },
  {
   "cell_type": "code",
   "execution_count": 39,
   "id": "95b879bc-0395-4d0a-a8fc-78a6e1401af3",
   "metadata": {},
   "outputs": [
    {
     "name": "stderr",
     "output_type": "stream",
     "text": [
      "                                                                                \r"
     ]
    }
   ],
   "source": [
    "modelPath = temp_path + \"/word2vec-model\"\n",
    "model.save(modelPath)"
   ]
  },
  {
   "cell_type": "markdown",
   "id": "7c305d3c-be79-49d2-8afa-dc0711413dff",
   "metadata": {},
   "source": [
    "#### load model"
   ]
  },
  {
   "cell_type": "code",
   "execution_count": 42,
   "id": "6623094d-a899-499a-8057-360f04d657b1",
   "metadata": {},
   "outputs": [
    {
     "name": "stdout",
     "output_type": "stream",
     "text": [
      "True\n",
      "True\n",
      "True\n"
     ]
    }
   ],
   "source": [
    "loadedw2v = Word2Vec.load(w2vPath)\n",
    "print(loadedw2v.getVectorSize() == w2v.getVectorSize())\n",
    "print(loadedw2v.getNumPartitions() == w2v.getNumPartitions())\n",
    "print(loadedw2v.getMinCount() == w2v.getMinCount())"
   ]
  },
  {
   "cell_type": "code",
   "execution_count": 46,
   "id": "a09091e2-033d-40b0-a580-cdb5e614d30c",
   "metadata": {},
   "outputs": [
    {
     "name": "stdout",
     "output_type": "stream",
     "text": [
      "a\n",
      "a\n"
     ]
    }
   ],
   "source": [
    "loadedModel = Word2VecModel.load(modelPath)\n",
    "print(loadedModel.getVectors().first().word)\n",
    "print(model.getVectors().first().word)"
   ]
  },
  {
   "cell_type": "code",
   "execution_count": 47,
   "id": "5977a072-373f-4f8b-818a-bab6c2dba6b8",
   "metadata": {},
   "outputs": [
    {
     "name": "stdout",
     "output_type": "stream",
     "text": [
      "[0.09511678665876389,0.3910670876502991,-0.4300164580345154,-0.14111702144145966,-0.06563225388526917]\n",
      "[0.09511678665876389,0.3910670876502991,-0.4300164580345154,-0.14111702144145966,-0.06563225388526917]\n"
     ]
    }
   ],
   "source": [
    "print(loadedModel.getVectors().first().vector)\n",
    "print(model.getVectors().first().vector)"
   ]
  },
  {
   "cell_type": "code",
   "execution_count": 48,
   "id": "21011022-76b6-45e8-9f73-4c3377a67029",
   "metadata": {},
   "outputs": [
    {
     "name": "stdout",
     "output_type": "stream",
     "text": [
      "[Row(sentence=['a', 'b', 'a', 'b', 'a', 'b', 'a', 'b', 'a', 'b', 'a', 'b', 'a', 'b', 'a', 'b', 'a', 'b', 'a', 'b', 'a', 'b', 'a', 'b', 'a', 'b', 'a', 'b', 'a', 'b', 'a', 'b', 'a', 'b', 'a', 'b', 'a', 'b', 'a', 'b', 'a', 'b', 'a', 'b', 'a', 'b', 'a', 'b', 'a', 'b', 'a', 'b', 'a', 'b', 'a', 'b', 'a', 'b', 'a', 'b', 'a', 'b', 'a', 'b', 'a', 'b', 'a', 'b', 'a', 'b', 'a', 'b', 'a', 'b', 'a', 'b', 'a', 'b', 'a', 'b', 'a', 'b', 'a', 'b', 'a', 'b', 'a', 'b', 'a', 'b', 'a', 'b', 'a', 'b', 'a', 'b', 'a', 'b', 'a', 'b', 'a', 'b', 'a', 'b', 'a', 'b', 'a', 'b', 'a', 'b', 'a', 'b', 'a', 'b', 'a', 'b', 'a', 'b', 'a', 'b', 'a', 'b', 'a', 'b', 'a', 'b', 'a', 'b', 'a', 'b', 'a', 'b', 'a', 'b', 'a', 'b', 'a', 'b', 'a', 'b', 'a', 'b', 'a', 'b', 'a', 'b', 'a', 'b', 'a', 'b', 'a', 'b', 'a', 'b', 'a', 'b', 'a', 'b', 'a', 'b', 'a', 'b', 'a', 'b', 'a', 'b', 'a', 'b', 'a', 'b', 'a', 'b', 'a', 'b', 'a', 'b', 'a', 'b', 'a', 'b', 'a', 'b', 'a', 'b', 'a', 'b', 'a', 'b', 'a', 'b', 'a', 'b', 'a', 'b', 'a', 'b', 'a', 'b', 'a', 'b', 'a', 'c', 'a', 'c', 'a', 'c', 'a', 'c', 'a', 'c', 'a', 'c', 'a', 'c', 'a', 'c', 'a', 'c', 'a', 'c', ''], model=DenseVector([-0.4833, 0.1855, -0.273, -0.0509, -0.4769]))]\n",
      "[Row(sentence=['a', 'b', 'a', 'b', 'a', 'b', 'a', 'b', 'a', 'b', 'a', 'b', 'a', 'b', 'a', 'b', 'a', 'b', 'a', 'b', 'a', 'b', 'a', 'b', 'a', 'b', 'a', 'b', 'a', 'b', 'a', 'b', 'a', 'b', 'a', 'b', 'a', 'b', 'a', 'b', 'a', 'b', 'a', 'b', 'a', 'b', 'a', 'b', 'a', 'b', 'a', 'b', 'a', 'b', 'a', 'b', 'a', 'b', 'a', 'b', 'a', 'b', 'a', 'b', 'a', 'b', 'a', 'b', 'a', 'b', 'a', 'b', 'a', 'b', 'a', 'b', 'a', 'b', 'a', 'b', 'a', 'b', 'a', 'b', 'a', 'b', 'a', 'b', 'a', 'b', 'a', 'b', 'a', 'b', 'a', 'b', 'a', 'b', 'a', 'b', 'a', 'b', 'a', 'b', 'a', 'b', 'a', 'b', 'a', 'b', 'a', 'b', 'a', 'b', 'a', 'b', 'a', 'b', 'a', 'b', 'a', 'b', 'a', 'b', 'a', 'b', 'a', 'b', 'a', 'b', 'a', 'b', 'a', 'b', 'a', 'b', 'a', 'b', 'a', 'b', 'a', 'b', 'a', 'b', 'a', 'b', 'a', 'b', 'a', 'b', 'a', 'b', 'a', 'b', 'a', 'b', 'a', 'b', 'a', 'b', 'a', 'b', 'a', 'b', 'a', 'b', 'a', 'b', 'a', 'b', 'a', 'b', 'a', 'b', 'a', 'b', 'a', 'b', 'a', 'b', 'a', 'b', 'a', 'b', 'a', 'b', 'a', 'b', 'a', 'b', 'a', 'b', 'a', 'b', 'a', 'b', 'a', 'b', 'a', 'b', 'a', 'c', 'a', 'c', 'a', 'c', 'a', 'c', 'a', 'c', 'a', 'c', 'a', 'c', 'a', 'c', 'a', 'c', 'a', 'c', ''], model=DenseVector([-0.4833, 0.1855, -0.273, -0.0509, -0.4769]))]\n"
     ]
    }
   ],
   "source": [
    "print(loadedModel.transform(doc).take(1))\n",
    "print(model.transform(doc).take(1))"
   ]
  }
 ],
 "metadata": {
  "kernelspec": {
   "display_name": "Python 3 (ipykernel)",
   "language": "python",
   "name": "python3"
  },
  "language_info": {
   "codemirror_mode": {
    "name": "ipython",
    "version": 3
   },
   "file_extension": ".py",
   "mimetype": "text/x-python",
   "name": "python",
   "nbconvert_exporter": "python",
   "pygments_lexer": "ipython3",
   "version": "3.9.6"
  }
 },
 "nbformat": 4,
 "nbformat_minor": 5
}
