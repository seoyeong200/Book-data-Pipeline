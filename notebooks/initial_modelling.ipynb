{
 "cells": [
  {
   "cell_type": "code",
   "execution_count": 1,
   "id": "b760856f-7836-41cb-9127-176b2b5a09f5",
   "metadata": {},
   "outputs": [
    {
     "name": "stderr",
     "output_type": "stream",
     "text": [
      "22/04/22 01:00:23 WARN NativeCodeLoader: Unable to load native-hadoop library for your platform... using builtin-java classes where applicable\n",
      "Using Spark's default log4j profile: org/apache/spark/log4j-defaults.properties\n",
      "Setting default log level to \"WARN\".\n",
      "To adjust logging level use sc.setLogLevel(newLevel). For SparkR, use setLogLevel(newLevel).\n"
     ]
    },
    {
     "data": {
      "text/html": [
       "\n",
       "            <div>\n",
       "                <p><b>SparkSession - in-memory</b></p>\n",
       "                \n",
       "        <div>\n",
       "            <p><b>SparkContext</b></p>\n",
       "\n",
       "            <p><a href=\"http://3f8d368b70dc:4040\">Spark UI</a></p>\n",
       "\n",
       "            <dl>\n",
       "              <dt>Version</dt>\n",
       "                <dd><code>v3.1.2</code></dd>\n",
       "              <dt>Master</dt>\n",
       "                <dd><code>local[*]</code></dd>\n",
       "              <dt>AppName</dt>\n",
       "                <dd><code>Data Engineer Training Course</code></dd>\n",
       "            </dl>\n",
       "        </div>\n",
       "        \n",
       "            </div>\n",
       "        "
      ],
      "text/plain": [
       "<pyspark.sql.session.SparkSession at 0x7f9b90ddd760>"
      ]
     },
     "execution_count": 1,
     "metadata": {},
     "output_type": "execute_result"
    }
   ],
   "source": [
    "# 코어 스파크 라이브러리를 임포트\n",
    "from pyspark.sql import SparkSession\n",
    "from pyspark.sql.functions import *\n",
    "from pyspark.sql.types import *\n",
    "\n",
    "spark = (\n",
    "    SparkSession\n",
    "    .builder\n",
    "    .appName(\"Book Pipeline Project\")\n",
    "    .config(\"spark.sql.session.timeZone\", \"Asia/Seoul\")\n",
    "    .getOrCreate()\n",
    ")\n",
    "\n",
    "# 노트북에서 테이블 형태로 데이터 프레임 출력을 위한 설정\n",
    "from IPython.display import display, display_pretty, clear_output, JSON\n",
    "spark.conf.set(\"spark.sql.repl.eagerEval.enabled\", True) # display enabled\n",
    "spark.conf.set(\"spark.sql.repl.eagerEval.truncate\", 100) # display output columns size\n",
    "spark"
   ]
  },
  {
   "cell_type": "markdown",
   "id": "e13a3d54-9655-419b-af93-a6861e45989f",
   "metadata": {},
   "source": [
    "## Data Loading"
   ]
  },
  {
   "cell_type": "code",
   "execution_count": 2,
   "id": "7a968768-e6cc-4781-925a-0c20c48998f4",
   "metadata": {
    "scrolled": true,
    "tags": []
   },
   "outputs": [
    {
     "name": "stderr",
     "output_type": "stream",
     "text": [
      "                                                                                \r"
     ]
    },
    {
     "name": "stdout",
     "output_type": "stream",
     "text": [
      "root\n",
      " |-- author: string (nullable = true)\n",
      " |-- book_id: integer (nullable = true)\n",
      " |-- category: string (nullable = true)\n",
      " |-- date: long (nullable = true)\n",
      " |-- description: string (nullable = true)\n",
      " |-- image: string (nullable = true)\n",
      " |-- ranking: integer (nullable = true)\n",
      " |-- title: string (nullable = true)\n",
      "\n"
     ]
    },
    {
     "name": "stderr",
     "output_type": "stream",
     "text": [
      "                                                                                \r"
     ]
    },
    {
     "data": {
      "text/html": [
       "<table border='1'>\n",
       "<tr><th>author</th><th>book_id</th><th>category</th><th>date</th><th>description</th><th>image</th><th>ranking</th><th>title</th></tr>\n",
       "<tr><td>토마스 불핀치</td><td>2855</td><td>신화</td><td>1648447114000</td><td>중학생 독후감 필독선 시리즈 제13권 토마스 불핀치의 명작 그리스 로마 신화를 작품 알고 들어가기 내용 훑어보기 작품 분석하기 작가 들여다보기 시대와 연관짓기 작품 토론하기 ...</td><td>https://bookthumb-phinf.pstatic.net/cover/000/028/00002855.jpg?type=m5</td><td>34</td><td>중학생이 보는 그리스 로마 신화</td></tr>\n",
       "<tr><td>효성출판사 편집부</td><td>40565</td><td>가구/DIY</td><td>1648449401000</td><td>분위기기능에 따른 가구선택과 배치 주문가구 정보전국 5대 가구시장을 컬러화보 위주로 엮은 인테리어 무크지</td><td>https://bookthumb-phinf.pstatic.net/cover/000/405/00040565.jpg?type=m5</td><td>37</td><td>소가구 &amp; 수납가구</td></tr>\n",
       "<tr><td>중앙M&amp;B 편집부</td><td>66769</td><td>가구/DIY</td><td>1648449401000</td><td>실내 벽에서 소품가구까지 활용 가능한 페인팅 기법 을 컬러사진과 함께 설명한 생활무크 페인팅에 필요 한 도구와 재료설명을 비롯해 색다르게 칠하는 페인팅기법리폼 및 장식 아이디...</td><td>https://bookthumb-phinf.pstatic.net/cover/000/667/00066769.jpg?type=m5</td><td>36</td><td>내 손으로 더 예쁘게 페인팅 DIY</td></tr>\n",
       "<tr><td>제레미 리프킨</td><td>118837</td><td>경제/경영</td><td>null</td><td>산업 시대 초기에 석탄과 증기 기관이 새로운 경제 패러다임을 마련했듯이 이제 수소 에너지가 기존의 경제 정치 사회를 근본적으로 바꿀 것이라고 예견하는 경제서 노동의 종말 소유...</td><td>https://bookthumb-phinf.pstatic.net/cover/001/188/00118837.jpg?type=m5</td><td>27</td><td>수소 혁명</td></tr>\n",
       "<tr><td>편집부</td><td>149663</td><td>비즈/구슬공예</td><td>1648449269000</td><td>스와롭스키 비즈로 귀엽고 깜찍한 동물들을 만든다 꿰는 방법을 쉽게 이해하도록 평면도로 그려 놓았으며 완성된 크기와 사용할 비즈 낚싯줄 길이 공정도 꿰는 방법 등을 세세하게 기...</td><td>https://bookthumb-phinf.pstatic.net/cover/001/496/00149663.jpg?type=m5</td><td>39</td><td>비즈 캐릭터</td></tr>\n",
       "<tr><td>노경민</td><td>149664</td><td>비즈/구슬공예</td><td>1648449268000</td><td>비즈 공예 입문서이자 전문서 PART 1에서는 시작 마무리 규칙적인 기법 비즈의 기본적인 종류와 명칭 간단한 도구들에 대해 알아보며 PART 2에서는 진주 PART 3에서는 ...</td><td>https://bookthumb-phinf.pstatic.net/cover/001/496/00149664.jpg?type=m5</td><td>38</td><td>비즈 주얼리</td></tr>\n",
       "<tr><td>편집부</td><td>150897</td><td>비즈/구슬공예</td><td>1648449270000</td><td>비즈 만드는 법 303가지를 모아 엮었다 반지 목걸이 팔찌 귀걸이 등 다양한 악세사리 제작 방법과 비즈의 종류 등에 대하여 일목요연하게 기술하고 있으며 부재료 사용법과 게재작...</td><td>https://bookthumb-phinf.pstatic.net/cover/001/508/00150897.jpg?type=m5</td><td>40</td><td>토탈 비즈 컬렉션</td></tr>\n",
       "<tr><td>사메지마 다카코</td><td>150950</td><td>비즈/구슬공예</td><td>1648449268000</td><td>세상에서 단 하나뿐인 나만의 보석 만들기 로맨틱한 디자인부터 귀엽고 깜찍한 디자인까지 반지 초커 피어스 목걸이 핸드폰 줄 헤어 핀 등을 이용하여 사랑스럽고 기품있는 비즈 쥬얼...</td><td>https://bookthumb-phinf.pstatic.net/cover/001/509/00150950.jpg?type=m5</td><td>37</td><td>프린세스 비즈</td></tr>\n",
       "<tr><td>서울문화사 편집부</td><td>155380</td><td>비즈/구슬공예</td><td>1648449267000</td><td>3천원으로 제작하는 명품 스타일 비즈 액세서리 이 책은 비즈로 팔찌 발찌 반지 브로치 등의 액세서리를 포함해서 핸드폰줄과 키홀더 등도 제작할 수 있도록 구성되었다 종류별로 구...</td><td>https://bookthumb-phinf.pstatic.net/cover/001/553/00155380.jpg?type=m5</td><td>35</td><td>3천원으로 명품 스타일 비즈 액세서리</td></tr>\n",
       "<tr><td>서울문화사 편집부</td><td>155381</td><td>비즈/구슬공예</td><td>1648449267000</td><td>탄생석 목걸이 · 귀고리 96가지 이 책은 비즈로 목걸이와 귀고리를 제작할 수 있도록 구성되었다 목걸이 귀고리 목걸이  귀고리 세트로 구별해 놓아 찾기 쉽게 해 놓았으며 작품...</td><td>https://bookthumb-phinf.pstatic.net/cover/001/553/00155381.jpg?type=m5</td><td>36</td><td>행운 부르는 비즈</td></tr>\n",
       "<tr><td>조재교</td><td>157947</td><td>비즈/구슬공예</td><td>1648449257000</td><td>다채로운 색상과 소재의 63가지 비즈 액세서리 만드는 법을 소개한 책 blue green pnk red black white의 여섯 가지 색상을 이용한 비즈 컬러 매치 방법을...</td><td>https://bookthumb-phinf.pstatic.net/cover/001/579/00157947.jpg?type=m5</td><td>22</td><td>6가지 컬러로 즐기는 비즈파티</td></tr>\n",
       "<tr><td>배효숙</td><td>158126</td><td>가구/DIY</td><td>1648449400000</td><td>엄마가 직접 만들어주는 아이옷 DIY 소개서 주부인 저자가 주부의 시점에서 원피스나 멜빵바지 셔츠와 같이 간편하고 멋있게 만들 수 있는 아이옷을 만드는 방법을 사진과 함께 소...</td><td>https://bookthumb-phinf.pstatic.net/cover/001/581/00158126.jpg?type=m5</td><td>35</td><td>내 손으로 만드는 명품 아이옷 DIY</td></tr>\n",
       "<tr><td>편집부</td><td>158881</td><td>비즈/구슬공예</td><td>1648449266000</td><td>개성있는 비즈 인테리어 소품을 통해 집안 분위기를 로맨틱하게 꾸미는 방법을 소개한 책 꽃병 전등 갓 커튼 발 샹들리에 등 총 55개의 비즈 공예 만드는 법을 상세히 설명했다 ...</td><td>https://bookthumb-phinf.pstatic.net/cover/001/588/00158881.jpg?type=m5</td><td>34</td><td>비즈 인테리어 소품 55</td></tr>\n",
       "<tr><td>박완서</td><td>180589</td><td>null</td><td>null</td><td>소설가 박완서의 단편동화 모음집 전기 용품 도매상의 꼬마 점원인 수남이가 도둑질도 나쁘지만 사람의 마음 속에 도사리고 있는 부도덕성이 얼마나 무서운지를 깨닫는 이야기인 표제작...</td><td>https://bookthumb-phinf.pstatic.net/cover/001/805/00180589.jpg?type=m5</td><td>63</td><td>자전거 도둑</td></tr>\n",
       "<tr><td>존 버거, 장 모르</td><td>185808</td><td>그림/포토 에세이</td><td>1647913248000</td><td>소설가 이자 극작가 그리고 다큐멘터리 작가인 존 버거가 유럽 이민노동자들의 대하여 이야기 하였다 그는 이민노동자의 경험의 윤곽 그리고 그것을 그 노동자를 둘러싸고 있는 물리적...</td><td>https://bookthumb-phinf.pstatic.net/cover/001/858/00185808.jpg?type=m5</td><td>23</td><td>제7의 인간</td></tr>\n",
       "<tr><td>이신화</td><td>191927</td><td>연극/영화</td><td>1648448151000</td><td>매회 최고 시청률 갱신 『스토브리그』 무삭제판 대본집 출간2020년 세상을 향해 통쾌한 한방을 날리다 모두의 편견을 깬 웰 메이드 야구 드라마 대한민국은 지금 〈스토브리그〉 ...</td><td>https://bookthumb-phinf.pstatic.net/cover/001/919/00191927.jpg?type=m5</td><td>31</td><td>스토브리그 대본집 1</td></tr>\n",
       "<tr><td>이신화</td><td>191928</td><td>테마소설</td><td>1647913042000</td><td>매회 최고 시청률 갱신 『스토브리그』 무삭제판 대본집 출간2020년 세상을 향해 통쾌한 한방을 날리다 모두의 편견을 깬 웰 메이드 야구 드라마 대한민국은 지금 〈스토브리그〉 ...</td><td>https://bookthumb-phinf.pstatic.net/cover/001/919/00191928.jpg?type=m5</td><td>34</td><td>스토브리그 대본집 2</td></tr>\n",
       "<tr><td>보먼트 뉴홀</td><td>273605</td><td>사진</td><td>1648448097000</td><td>수백 명의 유명작가들의 사진을 꼽아 가며 사진의 조류 및 그 전개상에 대한 총괄적인 연구를 제시하고 있는 책 세계 사진사에서 중요한 사진으로 평가받는 작품 삼백장이 실려 있으...</td><td>https://bookthumb-phinf.pstatic.net/cover/002/736/00273605.jpg?type=m5</td><td>8</td><td>사진의 역사</td></tr>\n",
       "<tr><td>이복숙</td><td>1467782</td><td>비즈/구슬공예</td><td>1648449265000</td><td>나만의 개성을 연출하는 비즈를 기본기부터 고급 테크닉까지 난이도에 따라 누구나 손쉽게 배울 수 있는 책 소개된 내용에 따라 비즈를 한 알 한 알 골라 줄에 꿰어 귀엽고 사랑스...</td><td>https://bookthumb-phinf.pstatic.net/cover/014/677/01467782.jpg?type=m5</td><td>33</td><td>비즈 배우기</td></tr>\n",
       "<tr><td>편집부</td><td>1487856</td><td>비즈/구슬공예</td><td>1648449264000</td><td>브라이덜 주얼리 동물 입체 모티브 고저스 액세서리 등의 비즈 액세서리를 만드는 법이 소개되어 있는 비즈 컬렉션 3 생생한 사진과 함께 비즈 작품을 만드는 법이 상세하게 설명되...</td><td>https://bookthumb-phinf.pstatic.net/cover/014/878/01487856.jpg?type=m5</td><td>32</td><td>비즈 컬렉션 3</td></tr>\n",
       "</table>\n",
       "only showing top 20 rows\n"
      ],
      "text/plain": [
       "+-----------------+-------+----------------+-------------+-------------------------------------------------------------------------------------------------------------------------------------------------------------------------------+----------------------------------------------------------------------+-------+-----------------------------------+\n",
       "|           author|book_id|        category|         date|                                                                                                                                                                    description|                                                                 image|ranking|                              title|\n",
       "+-----------------+-------+----------------+-------------+-------------------------------------------------------------------------------------------------------------------------------------------------------------------------------+----------------------------------------------------------------------+-------+-----------------------------------+\n",
       "|    토마스 불핀치|   2855|            신화|1648447114000|    중학생 독후감 필독선 시리즈 제13권 토마스 불핀치의 명작 그리스 로마 신화를 작품 알고 들어가기 내용 훑어보기 작품 분석하기 작가 들여다보기 시대와 연관짓기 작품 토론하기 ...|https://bookthumb-phinf.pstatic.net/cover/000/028/00002855.jpg?type=m5|     34|     중학생이 보는 그리스 로마 신화|\n",
       "|효성출판사 편집부|  40565|        가구/DIY|1648449401000|                                                                        분위기기능에 따른 가구선택과 배치 주문가구 정보전국 5대 가구시장을 컬러화보 위주로 엮은 인테리어 무크지|https://bookthumb-phinf.pstatic.net/cover/000/405/00040565.jpg?type=m5|     37|                  소가구 & 수납가구|\n",
       "|   중앙M&B 편집부|  66769|        가구/DIY|1648449401000| 실내 벽에서 소품가구까지 활용 가능한 페인팅 기법 을 컬러사진과 함께 설명한 생활무크 페인팅에 필요 한 도구와 재료설명을 비롯해 색다르게 칠하는 페인팅기법리폼 및 장식 아이디...|https://bookthumb-phinf.pstatic.net/cover/000/667/00066769.jpg?type=m5|     36|     내 손으로 더 예쁘게 페인팅 DIY|\n",
       "|    제레미 리프킨| 118837|       경제/경영|         null|  산업 시대 초기에 석탄과 증기 기관이 새로운 경제 패러다임을 마련했듯이 이제 수소 에너지가 기존의 경제 정치 사회를 근본적으로 바꿀 것이라고 예견하는 경제서 노동의 종말 소유...|https://bookthumb-phinf.pstatic.net/cover/001/188/00118837.jpg?type=m5|     27|                          수소 혁명|\n",
       "|           편집부| 149663|   비즈/구슬공예|1648449269000|  스와롭스키 비즈로 귀엽고 깜찍한 동물들을 만든다 꿰는 방법을 쉽게 이해하도록 평면도로 그려 놓았으며 완성된 크기와 사용할 비즈 낚싯줄 길이 공정도 꿰는 방법 등을 세세하게 기...|https://bookthumb-phinf.pstatic.net/cover/001/496/00149663.jpg?type=m5|     39|                        비즈 캐릭터|\n",
       "|           노경민| 149664|   비즈/구슬공예|1648449268000|                비즈 공예 입문서이자 전문서 PART 1에서는 시작 마무리 규칙적인 기법 비즈의 기본적인 종류와 명칭 간단한 도구들에 대해 알아보며 PART 2에서는 진주 PART 3에서는 ...|https://bookthumb-phinf.pstatic.net/cover/001/496/00149664.jpg?type=m5|     38|                        비즈 주얼리|\n",
       "|           편집부| 150897|   비즈/구슬공예|1648449270000|     비즈 만드는 법 303가지를 모아 엮었다 반지 목걸이 팔찌 귀걸이 등 다양한 악세사리 제작 방법과 비즈의 종류 등에 대하여 일목요연하게 기술하고 있으며 부재료 사용법과 게재작...|https://bookthumb-phinf.pstatic.net/cover/001/508/00150897.jpg?type=m5|     40|                   토탈 비즈 컬렉션|\n",
       "|  사메지마 다카코| 150950|   비즈/구슬공예|1648449268000|  세상에서 단 하나뿐인 나만의 보석 만들기 로맨틱한 디자인부터 귀엽고 깜찍한 디자인까지 반지 초커 피어스 목걸이 핸드폰 줄 헤어 핀 등을 이용하여 사랑스럽고 기품있는 비즈 쥬얼...|https://bookthumb-phinf.pstatic.net/cover/001/509/00150950.jpg?type=m5|     37|                      프린세스 비즈|\n",
       "|서울문화사 편집부| 155380|   비즈/구슬공예|1648449267000|   3천원으로 제작하는 명품 스타일 비즈 액세서리 이 책은 비즈로 팔찌 발찌 반지 브로치 등의 액세서리를 포함해서 핸드폰줄과 키홀더 등도 제작할 수 있도록 구성되었다 종류별로 구...|https://bookthumb-phinf.pstatic.net/cover/001/553/00155380.jpg?type=m5|     35|3천원으로 명품 스타일 비즈 액세서리|\n",
       "|서울문화사 편집부| 155381|   비즈/구슬공예|1648449267000|       탄생석 목걸이 · 귀고리 96가지 이 책은 비즈로 목걸이와 귀고리를 제작할 수 있도록 구성되었다 목걸이 귀고리 목걸이  귀고리 세트로 구별해 놓아 찾기 쉽게 해 놓았으며 작품...|https://bookthumb-phinf.pstatic.net/cover/001/553/00155381.jpg?type=m5|     36|                   행운 부르는 비즈|\n",
       "|           조재교| 157947|   비즈/구슬공예|1648449257000|                            다채로운 색상과 소재의 63가지 비즈 액세서리 만드는 법을 소개한 책 blue green pnk red black white의 여섯 가지 색상을 이용한 비즈 컬러 매치 방법을...|https://bookthumb-phinf.pstatic.net/cover/001/579/00157947.jpg?type=m5|     22|       6가지 컬러로 즐기는 비즈파티|\n",
       "|           배효숙| 158126|        가구/DIY|1648449400000|     엄마가 직접 만들어주는 아이옷 DIY 소개서 주부인 저자가 주부의 시점에서 원피스나 멜빵바지 셔츠와 같이 간편하고 멋있게 만들 수 있는 아이옷을 만드는 방법을 사진과 함께 소...|https://bookthumb-phinf.pstatic.net/cover/001/581/00158126.jpg?type=m5|     35|   내 손으로 만드는 명품 아이옷 DIY|\n",
       "|           편집부| 158881|   비즈/구슬공예|1648449266000|       개성있는 비즈 인테리어 소품을 통해 집안 분위기를 로맨틱하게 꾸미는 방법을 소개한 책 꽃병 전등 갓 커튼 발 샹들리에 등 총 55개의 비즈 공예 만드는 법을 상세히 설명했다 ...|https://bookthumb-phinf.pstatic.net/cover/001/588/00158881.jpg?type=m5|     34|              비즈 인테리어 소품 55|\n",
       "|           박완서| 180589|            null|         null|소설가 박완서의 단편동화 모음집 전기 용품 도매상의 꼬마 점원인 수남이가 도둑질도 나쁘지만 사람의 마음 속에 도사리고 있는 부도덕성이 얼마나 무서운지를 깨닫는 이야기인 표제작...|https://bookthumb-phinf.pstatic.net/cover/001/805/00180589.jpg?type=m5|     63|                        자전거 도둑|\n",
       "| 존 버거, 장 모르| 185808|그림/포토 에세이|1647913248000| 소설가 이자 극작가 그리고 다큐멘터리 작가인 존 버거가 유럽 이민노동자들의 대하여 이야기 하였다 그는 이민노동자의 경험의 윤곽 그리고 그것을 그 노동자를 둘러싸고 있는 물리적...|https://bookthumb-phinf.pstatic.net/cover/001/858/00185808.jpg?type=m5|     23|                         제7의 인간|\n",
       "|           이신화| 191927|       연극/영화|1648448151000|     매회 최고 시청률 갱신 『스토브리그』 무삭제판 대본집 출간2020년 세상을 향해 통쾌한 한방을 날리다 모두의 편견을 깬 웰 메이드 야구 드라마 대한민국은 지금 〈스토브리그〉 ...|https://bookthumb-phinf.pstatic.net/cover/001/919/00191927.jpg?type=m5|     31|                스토브리그 대본집 1|\n",
       "|           이신화| 191928|        테마소설|1647913042000|     매회 최고 시청률 갱신 『스토브리그』 무삭제판 대본집 출간2020년 세상을 향해 통쾌한 한방을 날리다 모두의 편견을 깬 웰 메이드 야구 드라마 대한민국은 지금 〈스토브리그〉 ...|https://bookthumb-phinf.pstatic.net/cover/001/919/00191928.jpg?type=m5|     34|                스토브리그 대본집 2|\n",
       "|      보먼트 뉴홀| 273605|            사진|1648448097000|   수백 명의 유명작가들의 사진을 꼽아 가며 사진의 조류 및 그 전개상에 대한 총괄적인 연구를 제시하고 있는 책 세계 사진사에서 중요한 사진으로 평가받는 작품 삼백장이 실려 있으...|https://bookthumb-phinf.pstatic.net/cover/002/736/00273605.jpg?type=m5|      8|                        사진의 역사|\n",
       "|           이복숙|1467782|   비즈/구슬공예|1648449265000|     나만의 개성을 연출하는 비즈를 기본기부터 고급 테크닉까지 난이도에 따라 누구나 손쉽게 배울 수 있는 책 소개된 내용에 따라 비즈를 한 알 한 알 골라 줄에 꿰어 귀엽고 사랑스...|https://bookthumb-phinf.pstatic.net/cover/014/677/01467782.jpg?type=m5|     33|                        비즈 배우기|\n",
       "|           편집부|1487856|   비즈/구슬공예|1648449264000|    브라이덜 주얼리 동물 입체 모티브 고저스 액세서리 등의 비즈 액세서리를 만드는 법이 소개되어 있는 비즈 컬렉션 3 생생한 사진과 함께 비즈 작품을 만드는 법이 상세하게 설명되...|https://bookthumb-phinf.pstatic.net/cover/014/878/01487856.jpg?type=m5|     32|                      비즈 컬렉션 3|\n",
       "+-----------------+-------+----------------+-------------+-------------------------------------------------------------------------------------------------------------------------------------------------------------------------------+----------------------------------------------------------------------+-------+-----------------------------------+\n",
       "only showing top 20 rows"
      ]
     },
     "metadata": {},
     "output_type": "display_data"
    }
   ],
   "source": [
    "book = spark.read.parquet(\"book_table/total/*.parquet\")\n",
    "book.printSchema()\n",
    "# book.show(truncate=False)\n",
    "display(book)"
   ]
  },
  {
   "cell_type": "code",
   "execution_count": 3,
   "id": "31c1803e-62b1-4f6d-a746-15c5f47f191f",
   "metadata": {},
   "outputs": [
    {
     "data": {
      "text/html": [
       "<table border='1'>\n",
       "<tr><th>database</th><th>tableName</th><th>isTemporary</th></tr>\n",
       "<tr><td></td><td>book</td><td>true</td></tr>\n",
       "</table>\n"
      ],
      "text/plain": [
       "+--------+---------+-----------+\n",
       "|database|tableName|isTemporary|\n",
       "+--------+---------+-----------+\n",
       "|        |     book|       true|\n",
       "+--------+---------+-----------+"
      ]
     },
     "execution_count": 3,
     "metadata": {},
     "output_type": "execute_result"
    }
   ],
   "source": [
    "book.createOrReplaceTempView(\"book\")\n",
    "spark.sql(\"show tables 'book'\")"
   ]
  },
  {
   "cell_type": "code",
   "execution_count": 4,
   "id": "39ece7ac-8889-4088-aa29-9a072150d389",
   "metadata": {},
   "outputs": [
    {
     "data": {
      "text/html": [
       "<table border='1'>\n",
       "<tr><th>count</th></tr>\n",
       "<tr><td>4791</td></tr>\n",
       "</table>\n"
      ],
      "text/plain": [
       "+-----+\n",
       "|count|\n",
       "+-----+\n",
       "| 4791|\n",
       "+-----+"
      ]
     },
     "execution_count": 4,
     "metadata": {},
     "output_type": "execute_result"
    }
   ],
   "source": [
    "spark.sql(\"select count(*) as count from book\")"
   ]
  },
  {
   "cell_type": "code",
   "execution_count": 5,
   "id": "2d29155c-1ca4-4a96-b4d0-d50db045a1b1",
   "metadata": {
    "scrolled": true,
    "tags": []
   },
   "outputs": [
    {
     "data": {
      "text/html": [
       "<table border='1'>\n",
       "<tr><th>category</th><th>count</th></tr>\n",
       "<tr><td>쉽게 읽는 과학</td><td>11</td></tr>\n",
       "<tr><td>집/살림</td><td>39</td></tr>\n",
       "<tr><td>천문/지구과학</td><td>32</td></tr>\n",
       "<tr><td>한국사</td><td>35</td></tr>\n",
       "<tr><td>불교</td><td>37</td></tr>\n",
       "<tr><td>서양사</td><td>35</td></tr>\n",
       "<tr><td>독서 에세이</td><td>37</td></tr>\n",
       "<tr><td>연애/사랑 에세이</td><td>40</td></tr>\n",
       "<tr><td>취미/레저</td><td>35</td></tr>\n",
       "<tr><td>인간관계</td><td>23</td></tr>\n",
       "<tr><td>외국시</td><td>39</td></tr>\n",
       "<tr><td>삶의 지혜/명언</td><td>37</td></tr>\n",
       "<tr><td>유아</td><td>40</td></tr>\n",
       "<tr><td>동양사</td><td>38</td></tr>\n",
       "<tr><td>사진</td><td>40</td></tr>\n",
       "<tr><td>기독교(개신교)</td><td>39</td></tr>\n",
       "<tr><td>인문일반</td><td>2</td></tr>\n",
       "<tr><td>null</td><td>109</td></tr>\n",
       "<tr><td>건강</td><td>39</td></tr>\n",
       "<tr><td>법</td><td>38</td></tr>\n",
       "</table>\n",
       "only showing top 20 rows\n"
      ],
      "text/plain": [
       "+----------------+-----+\n",
       "|        category|count|\n",
       "+----------------+-----+\n",
       "|  쉽게 읽는 과학|   11|\n",
       "|         집/살림|   39|\n",
       "|   천문/지구과학|   32|\n",
       "|          한국사|   35|\n",
       "|            불교|   37|\n",
       "|          서양사|   35|\n",
       "|     독서 에세이|   37|\n",
       "|연애/사랑 에세이|   40|\n",
       "|       취미/레저|   35|\n",
       "|        인간관계|   23|\n",
       "|          외국시|   39|\n",
       "|  삶의 지혜/명언|   37|\n",
       "|            유아|   40|\n",
       "|          동양사|   38|\n",
       "|            사진|   40|\n",
       "|  기독교(개신교)|   39|\n",
       "|        인문일반|    2|\n",
       "|            null|  109|\n",
       "|            건강|   39|\n",
       "|              법|   38|\n",
       "+----------------+-----+\n",
       "only showing top 20 rows"
      ]
     },
     "execution_count": 5,
     "metadata": {},
     "output_type": "execute_result"
    }
   ],
   "source": [
    "spark.sql(\"select category, count(*) as count from book group by category\")"
   ]
  },
  {
   "cell_type": "markdown",
   "id": "2e11aad3-5bd0-448a-a78b-6417393a1a97",
   "metadata": {},
   "source": [
    "## Data PreProcessing"
   ]
  },
  {
   "cell_type": "code",
   "execution_count": 6,
   "id": "cde24cef-f8c3-4ad8-a65b-880f95d5fa9d",
   "metadata": {},
   "outputs": [
    {
     "name": "stdout",
     "output_type": "stream",
     "text": [
      "\u001b[33mWARNING: The directory '/home/jovyan/.cache/pip' or its parent directory is not owned or is not writable by the current user. The cache has been disabled. Check the permissions and owner of that directory. If executing pip with sudo, you should use sudo's -H flag.\u001b[0m\n",
      "Collecting konlpy\n",
      "  Downloading konlpy-0.6.0-py2.py3-none-any.whl (19.4 MB)\n",
      "\u001b[K     |████████████████████████████████| 19.4 MB 8.8 MB/s eta 0:00:01\n",
      "\u001b[?25hRequirement already satisfied: numpy>=1.6 in /opt/conda/lib/python3.9/site-packages (from konlpy) (1.21.1)\n",
      "Requirement already satisfied: lxml>=4.1.0 in /opt/conda/lib/python3.9/site-packages (from konlpy) (4.6.3)\n",
      "Collecting JPype1>=0.7.0\n",
      "  Downloading JPype1-1.3.0-cp39-cp39-manylinux_2_5_x86_64.manylinux1_x86_64.whl (449 kB)\n",
      "\u001b[K     |████████████████████████████████| 449 kB 9.0 MB/s eta 0:00:01\n",
      "\u001b[?25hInstalling collected packages: JPype1, konlpy\n",
      "Successfully installed JPype1-1.3.0 konlpy-0.6.0\n",
      "\u001b[33mWARNING: Running pip as the 'root' user can result in broken permissions and conflicting behaviour with the system package manager. It is recommended to use a virtual environment instead: https://pip.pypa.io/warnings/venv\u001b[0m\n"
     ]
    }
   ],
   "source": [
    "!pip install konlpy # notebook 이미지 수정하기"
   ]
  },
  {
   "cell_type": "code",
   "execution_count": 7,
   "id": "0b29d969-3a58-47e6-b402-31f1d9063ca1",
   "metadata": {},
   "outputs": [],
   "source": [
    "from nltk.corpus import stopwords\n",
    "from nltk.tokenize import word_tokenize \n",
    "from konlpy.tag import Okt"
   ]
  },
  {
   "cell_type": "markdown",
   "id": "9e64f3d5-c45a-4dd4-baac-9ed0e14272e1",
   "metadata": {
    "tags": []
   },
   "source": [
    "#### 조사, 어미, 어간 등 제거"
   ]
  },
  {
   "cell_type": "code",
   "execution_count": 8,
   "id": "5452fff5-9446-4a51-9219-20b779aa4f23",
   "metadata": {},
   "outputs": [],
   "source": [
    "from pyspark.sql.types import StringType\n",
    "from pyspark.sql.functions import udf\n",
    "\n",
    "colsClean = udf(lambda z : clean(z), ArrayType(StringType()))\n",
    "spark.udf.register(\"colsClean\", colsClean)\n",
    "\n",
    "def clean(s):\n",
    "    okt = Okt()\n",
    "    clean_words = []\n",
    "    for word in okt.pos(s, stem=True):\n",
    "        if word[1] in ['Noun', 'Verb', 'Adjective']:\n",
    "            clean_words.append(word[0])\n",
    "    new_doc = ' '.join(clean_words)\n",
    "    return clean_words\n",
    "            \n",
    "tmp = book.withColumn('preprocessed', colsClean('description'))"
   ]
  },
  {
   "cell_type": "code",
   "execution_count": 9,
   "id": "786517ce-42a6-4548-90f3-86f53ede446d",
   "metadata": {
    "scrolled": true,
    "tags": []
   },
   "outputs": [
    {
     "name": "stderr",
     "output_type": "stream",
     "text": [
      "                                                                                \r"
     ]
    },
    {
     "data": {
      "text/html": [
       "<table border='1'>\n",
       "<tr><th>author</th><th>book_id</th><th>category</th><th>date</th><th>description</th><th>image</th><th>ranking</th><th>title</th><th>preprocessed</th></tr>\n",
       "<tr><td>토마스 불핀치</td><td>2855</td><td>신화</td><td>1648447114000</td><td>중학생 독후감 필독선 시리즈 제13권 토마스 불핀치의 명작 그리스 로마 신화를 작품 알고 들어가기 내용 훑어보기 작품 분석하기 작가 들여다보기 시대와 연관짓기 작품 토론하기 ...</td><td>https://bookthumb-phinf.pstatic.net/cover/000/028/00002855.jpg?type=m5</td><td>34</td><td>중학생이 보는 그리스 로마 신화</td><td>[중학생, 독후감, 필, 독선, 시리즈, 제, 권, 토마스, 불, 핀치, 명작, 그리스, 로마, 신화, 작품, 알, 들어가다, 내용, 훑어보기, 작품, 분석, 하다, 작가, ...</td></tr>\n",
       "<tr><td>효성출판사 편집부</td><td>40565</td><td>가구/DIY</td><td>1648449401000</td><td>분위기기능에 따른 가구선택과 배치 주문가구 정보전국 5대 가구시장을 컬러화보 위주로 엮은 인테리어 무크지</td><td>https://bookthumb-phinf.pstatic.net/cover/000/405/00040565.jpg?type=m5</td><td>37</td><td>소가구 &amp; 수납가구</td><td>[분위기, 기능, 따르다, 가구, 선택, 배치, 주문, 가구, 정보, 전국, 대다, 가구, 시장, 컬러, 화보, 위주, 엮, 인테리어, 무크]</td></tr>\n",
       "<tr><td>중앙M&amp;B 편집부</td><td>66769</td><td>가구/DIY</td><td>1648449401000</td><td>실내 벽에서 소품가구까지 활용 가능한 페인팅 기법 을 컬러사진과 함께 설명한 생활무크 페인팅에 필요 한 도구와 재료설명을 비롯해 색다르게 칠하는 페인팅기법리폼 및 장식 아이디...</td><td>https://bookthumb-phinf.pstatic.net/cover/000/667/00066769.jpg?type=m5</td><td>36</td><td>내 손으로 더 예쁘게 페인팅 DIY</td><td>[실내, 벽, 소품, 가구, 활용, 가능하다, 페인, 팅, 기법, 컬러, 사진, 설명, 생활, 무크, 페인팅, 필요, 하다, 도구, 재료, 설명, 비롯, 하다, 색다르다, 칠...</td></tr>\n",
       "<tr><td>제레미 리프킨</td><td>118837</td><td>경제/경영</td><td>null</td><td>산업 시대 초기에 석탄과 증기 기관이 새로운 경제 패러다임을 마련했듯이 이제 수소 에너지가 기존의 경제 정치 사회를 근본적으로 바꿀 것이라고 예견하는 경제서 노동의 종말 소유...</td><td>https://bookthumb-phinf.pstatic.net/cover/001/188/00118837.jpg?type=m5</td><td>27</td><td>수소 혁명</td><td>[산업, 시대, 초기, 석탄, 증기, 기관, 새롭다, 경제, 패러다임, 마련, 하다, 이제, 수소, 에너지, 기존, 경제, 정치, 사회, 근본, 바꾸다, 것, 예견, 하다, ...</td></tr>\n",
       "<tr><td>편집부</td><td>149663</td><td>비즈/구슬공예</td><td>1648449269000</td><td>스와롭스키 비즈로 귀엽고 깜찍한 동물들을 만든다 꿰는 방법을 쉽게 이해하도록 평면도로 그려 놓았으며 완성된 크기와 사용할 비즈 낚싯줄 길이 공정도 꿰는 방법 등을 세세하게 기...</td><td>https://bookthumb-phinf.pstatic.net/cover/001/496/00149663.jpg?type=m5</td><td>39</td><td>비즈 캐릭터</td><td>[스, 롭스, 키, 비즈, 귀엽다, 깜찍하다, 동물, 만들다, 꿰, 방법, 쉬다, 이해, 하다, 평면도, 그리다, 놓다, 완성, 되다, 크기, 사용, 하다, 비즈, 낚싯줄, ...</td></tr>\n",
       "<tr><td>노경민</td><td>149664</td><td>비즈/구슬공예</td><td>1648449268000</td><td>비즈 공예 입문서이자 전문서 PART 1에서는 시작 마무리 규칙적인 기법 비즈의 기본적인 종류와 명칭 간단한 도구들에 대해 알아보며 PART 2에서는 진주 PART 3에서는 ...</td><td>https://bookthumb-phinf.pstatic.net/cover/001/496/00149664.jpg?type=m5</td><td>38</td><td>비즈 주얼리</td><td>[비즈, 공예, 입문, 이자, 전문, 시작, 마무리, 규칙, 기법, 비즈, 기본, 종류, 명칭, 간단하다, 도구, 대해, 알아보다, 진주, 크리스털, 이용, 하다, 기본, 기...</td></tr>\n",
       "<tr><td>편집부</td><td>150897</td><td>비즈/구슬공예</td><td>1648449270000</td><td>비즈 만드는 법 303가지를 모아 엮었다 반지 목걸이 팔찌 귀걸이 등 다양한 악세사리 제작 방법과 비즈의 종류 등에 대하여 일목요연하게 기술하고 있으며 부재료 사용법과 게재작...</td><td>https://bookthumb-phinf.pstatic.net/cover/001/508/00150897.jpg?type=m5</td><td>40</td><td>토탈 비즈 컬렉션</td><td>[비즈, 만들다, 법, 가지, 모으다, 엮었다, 반지, 목걸이, 팔찌, 귀걸이, 등, 다양하다, 악세사리, 제작, 방법, 비즈, 종류, 등, 대하, 일목요연하다, 기술, 있다...</td></tr>\n",
       "<tr><td>사메지마 다카코</td><td>150950</td><td>비즈/구슬공예</td><td>1648449268000</td><td>세상에서 단 하나뿐인 나만의 보석 만들기 로맨틱한 디자인부터 귀엽고 깜찍한 디자인까지 반지 초커 피어스 목걸이 핸드폰 줄 헤어 핀 등을 이용하여 사랑스럽고 기품있는 비즈 쥬얼...</td><td>https://bookthumb-phinf.pstatic.net/cover/001/509/00150950.jpg?type=m5</td><td>37</td><td>프린세스 비즈</td><td>[세상, 단, 하나, 나, 보석, 만들기, 로맨틱, 디자인, 귀엽다, 깜찍하다, 디자인, 반지, 초, 크다, 피어스, 목걸이, 핸드폰, 줄, 헤어, 핀, 등, 이용, 하다, ...</td></tr>\n",
       "<tr><td>서울문화사 편집부</td><td>155380</td><td>비즈/구슬공예</td><td>1648449267000</td><td>3천원으로 제작하는 명품 스타일 비즈 액세서리 이 책은 비즈로 팔찌 발찌 반지 브로치 등의 액세서리를 포함해서 핸드폰줄과 키홀더 등도 제작할 수 있도록 구성되었다 종류별로 구...</td><td>https://bookthumb-phinf.pstatic.net/cover/001/553/00155380.jpg?type=m5</td><td>35</td><td>3천원으로 명품 스타일 비즈 액세서리</td><td>[제작, 하다, 명품, 스타일, 비즈, 액세서리, 이, 책, 비즈, 팔찌, 발찌, 반지, 브로치, 등, 액세서리, 포함, 하다, 핸드폰, 줄, 키홀, 더, 등, 제작, 하다,...</td></tr>\n",
       "<tr><td>서울문화사 편집부</td><td>155381</td><td>비즈/구슬공예</td><td>1648449267000</td><td>탄생석 목걸이 · 귀고리 96가지 이 책은 비즈로 목걸이와 귀고리를 제작할 수 있도록 구성되었다 목걸이 귀고리 목걸이  귀고리 세트로 구별해 놓아 찾기 쉽게 해 놓았으며 작품...</td><td>https://bookthumb-phinf.pstatic.net/cover/001/553/00155381.jpg?type=m5</td><td>36</td><td>행운 부르는 비즈</td><td>[탄생석, 목걸이, 귀고리, 가지, 이, 책, 비즈, 목걸이, 귀고리, 제작, 하다, 수, 있다, 구성, 되어다, 목걸이, 귀고리, 목걸이, 귀고리, 세트, 구별, 하다, 놓...</td></tr>\n",
       "<tr><td>조재교</td><td>157947</td><td>비즈/구슬공예</td><td>1648449257000</td><td>다채로운 색상과 소재의 63가지 비즈 액세서리 만드는 법을 소개한 책 blue green pnk red black white의 여섯 가지 색상을 이용한 비즈 컬러 매치 방법을...</td><td>https://bookthumb-phinf.pstatic.net/cover/001/579/00157947.jpg?type=m5</td><td>22</td><td>6가지 컬러로 즐기는 비즈파티</td><td>[채, 색상, 소재, 가지, 비즈, 액세서리, 만들다, 법, 소개, 책, 의, 여섯, 가지, 색상, 이용, 비즈, 컬러, 매치, 방법, 제시, 있다, 또한, 비즈, 숍, 오픈...</td></tr>\n",
       "<tr><td>배효숙</td><td>158126</td><td>가구/DIY</td><td>1648449400000</td><td>엄마가 직접 만들어주는 아이옷 DIY 소개서 주부인 저자가 주부의 시점에서 원피스나 멜빵바지 셔츠와 같이 간편하고 멋있게 만들 수 있는 아이옷을 만드는 방법을 사진과 함께 소...</td><td>https://bookthumb-phinf.pstatic.net/cover/001/581/00158126.jpg?type=m5</td><td>35</td><td>내 손으로 만드는 명품 아이옷 DIY</td><td>[엄마, 직접, 만들다, 아이, 옷, 소개, 주부, 저자, 주부, 시점, 원피스, 멜빵, 바지, 셔츠, 간편하다, 멋있다, 만들다, 수, 있다, 아이, 옷, 만들다, 방법, ...</td></tr>\n",
       "<tr><td>편집부</td><td>158881</td><td>비즈/구슬공예</td><td>1648449266000</td><td>개성있는 비즈 인테리어 소품을 통해 집안 분위기를 로맨틱하게 꾸미는 방법을 소개한 책 꽃병 전등 갓 커튼 발 샹들리에 등 총 55개의 비즈 공예 만드는 법을 상세히 설명했다 ...</td><td>https://bookthumb-phinf.pstatic.net/cover/001/588/00158881.jpg?type=m5</td><td>34</td><td>비즈 인테리어 소품 55</td><td>[개성, 있다, 비즈, 인테리어, 소품, 통해, 집안, 분위기, 로맨틱, 하다, 꾸미다, 방법, 소개, 책, 꽃병, 전등, 갓, 커튼, 발, 샹들리, 등, 총, 개, 비즈, ...</td></tr>\n",
       "<tr><td>박완서</td><td>180589</td><td>null</td><td>null</td><td>소설가 박완서의 단편동화 모음집 전기 용품 도매상의 꼬마 점원인 수남이가 도둑질도 나쁘지만 사람의 마음 속에 도사리고 있는 부도덕성이 얼마나 무서운지를 깨닫는 이야기인 표제작...</td><td>https://bookthumb-phinf.pstatic.net/cover/001/805/00180589.jpg?type=m5</td><td>63</td><td>자전거 도둑</td><td>[소설가, 박완서, 단편, 동화, 모음, 집, 전기, 용품, 도매, 상의, 꼬마, 점원, 남, 도둑질, 나쁘다, 사람, 마음, 속, 도, 사리, 있다, 부도덕, 얼마나, 무섭...</td></tr>\n",
       "<tr><td>존 버거, 장 모르</td><td>185808</td><td>그림/포토 에세이</td><td>1647913248000</td><td>소설가 이자 극작가 그리고 다큐멘터리 작가인 존 버거가 유럽 이민노동자들의 대하여 이야기 하였다 그는 이민노동자의 경험의 윤곽 그리고 그것을 그 노동자를 둘러싸고 있는 물리적...</td><td>https://bookthumb-phinf.pstatic.net/cover/001/858/00185808.jpg?type=m5</td><td>23</td><td>제7의 인간</td><td>[소설가, 이자, 극작가, 다큐멘터리, 작가, 존, 버거, 유럽, 이민, 노동자, 대하, 이야기, 하다, 그, 이민, 노동자, 경험, 윤곽, 그것, 그, 노동자, 둘러싸다, ...</td></tr>\n",
       "<tr><td>이신화</td><td>191927</td><td>연극/영화</td><td>1648448151000</td><td>매회 최고 시청률 갱신 『스토브리그』 무삭제판 대본집 출간2020년 세상을 향해 통쾌한 한방을 날리다 모두의 편견을 깬 웰 메이드 야구 드라마 대한민국은 지금 〈스토브리그〉 ...</td><td>https://bookthumb-phinf.pstatic.net/cover/001/919/00191927.jpg?type=m5</td><td>31</td><td>스토브리그 대본집 1</td><td>[최고, 시청률, 갱신, 스토브, 리그, 무, 삭제, 판, 본집, 추다, 간, 세상, 향, 하다, 통쾌하다, 방, 날리다, 모두, 편견, 깨다, 웰, 메이드, 야구, 드라마,...</td></tr>\n",
       "<tr><td>이신화</td><td>191928</td><td>테마소설</td><td>1647913042000</td><td>매회 최고 시청률 갱신 『스토브리그』 무삭제판 대본집 출간2020년 세상을 향해 통쾌한 한방을 날리다 모두의 편견을 깬 웰 메이드 야구 드라마 대한민국은 지금 〈스토브리그〉 ...</td><td>https://bookthumb-phinf.pstatic.net/cover/001/919/00191928.jpg?type=m5</td><td>34</td><td>스토브리그 대본집 2</td><td>[최고, 시청률, 갱신, 스토브, 리그, 무, 삭제, 판, 본집, 추다, 간, 세상, 향, 하다, 통쾌하다, 방, 날리다, 모두, 편견, 깨다, 웰, 메이드, 야구, 드라마,...</td></tr>\n",
       "<tr><td>보먼트 뉴홀</td><td>273605</td><td>사진</td><td>1648448097000</td><td>수백 명의 유명작가들의 사진을 꼽아 가며 사진의 조류 및 그 전개상에 대한 총괄적인 연구를 제시하고 있는 책 세계 사진사에서 중요한 사진으로 평가받는 작품 삼백장이 실려 있으...</td><td>https://bookthumb-phinf.pstatic.net/cover/002/736/00273605.jpg?type=m5</td><td>8</td><td>사진의 역사</td><td>[수백, 명의, 유명, 작가, 사진, 꼽, 가다, 사진, 조류, 및, 그, 전개, 대한, 총괄, 연구, 제시, 있다, 책, 세계, 사진사, 중요하다, 사진, 평가, 받다, 작...</td></tr>\n",
       "<tr><td>이복숙</td><td>1467782</td><td>비즈/구슬공예</td><td>1648449265000</td><td>나만의 개성을 연출하는 비즈를 기본기부터 고급 테크닉까지 난이도에 따라 누구나 손쉽게 배울 수 있는 책 소개된 내용에 따라 비즈를 한 알 한 알 골라 줄에 꿰어 귀엽고 사랑스...</td><td>https://bookthumb-phinf.pstatic.net/cover/014/677/01467782.jpg?type=m5</td><td>33</td><td>비즈 배우기</td><td>[나, 개성, 연출, 하다, 비즈, 본기, 고급, 테크닉, 난이도, 따르다, 누구, 손쉽다, 배우다, 수, 있다, 책, 소개, 되다, 내용, 따르다, 비즈, 하다, 알, 하다...</td></tr>\n",
       "<tr><td>편집부</td><td>1487856</td><td>비즈/구슬공예</td><td>1648449264000</td><td>브라이덜 주얼리 동물 입체 모티브 고저스 액세서리 등의 비즈 액세서리를 만드는 법이 소개되어 있는 비즈 컬렉션 3 생생한 사진과 함께 비즈 작품을 만드는 법이 상세하게 설명되...</td><td>https://bookthumb-phinf.pstatic.net/cover/014/878/01487856.jpg?type=m5</td><td>32</td><td>비즈 컬렉션 3</td><td>[브라, 덜, 주얼리, 동물, 입체, 모티브, 스, 액세서리, 등, 비즈, 액세서리, 만들다, 법, 소개, 되어다, 있다, 비즈, 컬렉션, 생생하다, 사진, 비즈, 작품, 만...</td></tr>\n",
       "</table>\n",
       "only showing top 20 rows\n"
      ],
      "text/plain": [
       "+-----------------+-------+----------------+-------------+-------------------------------------------------------------------------------------------------------------------------------------------------------------------------------+----------------------------------------------------------------------+-------+-----------------------------------+----------------------------------------------------------------------------------------------------------------------------------------------------------+\n",
       "|           author|book_id|        category|         date|                                                                                                                                                                    description|                                                                 image|ranking|                              title|                                                                                                                                              preprocessed|\n",
       "+-----------------+-------+----------------+-------------+-------------------------------------------------------------------------------------------------------------------------------------------------------------------------------+----------------------------------------------------------------------+-------+-----------------------------------+----------------------------------------------------------------------------------------------------------------------------------------------------------+\n",
       "|    토마스 불핀치|   2855|            신화|1648447114000|    중학생 독후감 필독선 시리즈 제13권 토마스 불핀치의 명작 그리스 로마 신화를 작품 알고 들어가기 내용 훑어보기 작품 분석하기 작가 들여다보기 시대와 연관짓기 작품 토론하기 ...|https://bookthumb-phinf.pstatic.net/cover/000/028/00002855.jpg?type=m5|     34|     중학생이 보는 그리스 로마 신화|    [중학생, 독후감, 필, 독선, 시리즈, 제, 권, 토마스, 불, 핀치, 명작, 그리스, 로마, 신화, 작품, 알, 들어가다, 내용, 훑어보기, 작품, 분석, 하다, 작가, ...|\n",
       "|효성출판사 편집부|  40565|        가구/DIY|1648449401000|                                                                        분위기기능에 따른 가구선택과 배치 주문가구 정보전국 5대 가구시장을 컬러화보 위주로 엮은 인테리어 무크지|https://bookthumb-phinf.pstatic.net/cover/000/405/00040565.jpg?type=m5|     37|                  소가구 & 수납가구|                                  [분위기, 기능, 따르다, 가구, 선택, 배치, 주문, 가구, 정보, 전국, 대다, 가구, 시장, 컬러, 화보, 위주, 엮, 인테리어, 무크]|\n",
       "|   중앙M&B 편집부|  66769|        가구/DIY|1648449401000| 실내 벽에서 소품가구까지 활용 가능한 페인팅 기법 을 컬러사진과 함께 설명한 생활무크 페인팅에 필요 한 도구와 재료설명을 비롯해 색다르게 칠하는 페인팅기법리폼 및 장식 아이디...|https://bookthumb-phinf.pstatic.net/cover/000/667/00066769.jpg?type=m5|     36|     내 손으로 더 예쁘게 페인팅 DIY|    [실내, 벽, 소품, 가구, 활용, 가능하다, 페인, 팅, 기법, 컬러, 사진, 설명, 생활, 무크, 페인팅, 필요, 하다, 도구, 재료, 설명, 비롯, 하다, 색다르다, 칠...|\n",
       "|    제레미 리프킨| 118837|       경제/경영|         null|  산업 시대 초기에 석탄과 증기 기관이 새로운 경제 패러다임을 마련했듯이 이제 수소 에너지가 기존의 경제 정치 사회를 근본적으로 바꿀 것이라고 예견하는 경제서 노동의 종말 소유...|https://bookthumb-phinf.pstatic.net/cover/001/188/00118837.jpg?type=m5|     27|                          수소 혁명|    [산업, 시대, 초기, 석탄, 증기, 기관, 새롭다, 경제, 패러다임, 마련, 하다, 이제, 수소, 에너지, 기존, 경제, 정치, 사회, 근본, 바꾸다, 것, 예견, 하다, ...|\n",
       "|           편집부| 149663|   비즈/구슬공예|1648449269000|  스와롭스키 비즈로 귀엽고 깜찍한 동물들을 만든다 꿰는 방법을 쉽게 이해하도록 평면도로 그려 놓았으며 완성된 크기와 사용할 비즈 낚싯줄 길이 공정도 꿰는 방법 등을 세세하게 기...|https://bookthumb-phinf.pstatic.net/cover/001/496/00149663.jpg?type=m5|     39|                        비즈 캐릭터|    [스, 롭스, 키, 비즈, 귀엽다, 깜찍하다, 동물, 만들다, 꿰, 방법, 쉬다, 이해, 하다, 평면도, 그리다, 놓다, 완성, 되다, 크기, 사용, 하다, 비즈, 낚싯줄, ...|\n",
       "|           노경민| 149664|   비즈/구슬공예|1648449268000|                비즈 공예 입문서이자 전문서 PART 1에서는 시작 마무리 규칙적인 기법 비즈의 기본적인 종류와 명칭 간단한 도구들에 대해 알아보며 PART 2에서는 진주 PART 3에서는 ...|https://bookthumb-phinf.pstatic.net/cover/001/496/00149664.jpg?type=m5|     38|                        비즈 주얼리|  [비즈, 공예, 입문, 이자, 전문, 시작, 마무리, 규칙, 기법, 비즈, 기본, 종류, 명칭, 간단하다, 도구, 대해, 알아보다, 진주, 크리스털, 이용, 하다, 기본, 기...|\n",
       "|           편집부| 150897|   비즈/구슬공예|1648449270000|     비즈 만드는 법 303가지를 모아 엮었다 반지 목걸이 팔찌 귀걸이 등 다양한 악세사리 제작 방법과 비즈의 종류 등에 대하여 일목요연하게 기술하고 있으며 부재료 사용법과 게재작...|https://bookthumb-phinf.pstatic.net/cover/001/508/00150897.jpg?type=m5|     40|                   토탈 비즈 컬렉션|[비즈, 만들다, 법, 가지, 모으다, 엮었다, 반지, 목걸이, 팔찌, 귀걸이, 등, 다양하다, 악세사리, 제작, 방법, 비즈, 종류, 등, 대하, 일목요연하다, 기술, 있다...|\n",
       "|  사메지마 다카코| 150950|   비즈/구슬공예|1648449268000|  세상에서 단 하나뿐인 나만의 보석 만들기 로맨틱한 디자인부터 귀엽고 깜찍한 디자인까지 반지 초커 피어스 목걸이 핸드폰 줄 헤어 핀 등을 이용하여 사랑스럽고 기품있는 비즈 쥬얼...|https://bookthumb-phinf.pstatic.net/cover/001/509/00150950.jpg?type=m5|     37|                      프린세스 비즈|    [세상, 단, 하나, 나, 보석, 만들기, 로맨틱, 디자인, 귀엽다, 깜찍하다, 디자인, 반지, 초, 크다, 피어스, 목걸이, 핸드폰, 줄, 헤어, 핀, 등, 이용, 하다, ...|\n",
       "|서울문화사 편집부| 155380|   비즈/구슬공예|1648449267000|   3천원으로 제작하는 명품 스타일 비즈 액세서리 이 책은 비즈로 팔찌 발찌 반지 브로치 등의 액세서리를 포함해서 핸드폰줄과 키홀더 등도 제작할 수 있도록 구성되었다 종류별로 구...|https://bookthumb-phinf.pstatic.net/cover/001/553/00155380.jpg?type=m5|     35|3천원으로 명품 스타일 비즈 액세서리|     [제작, 하다, 명품, 스타일, 비즈, 액세서리, 이, 책, 비즈, 팔찌, 발찌, 반지, 브로치, 등, 액세서리, 포함, 하다, 핸드폰, 줄, 키홀, 더, 등, 제작, 하다,...|\n",
       "|서울문화사 편집부| 155381|   비즈/구슬공예|1648449267000|       탄생석 목걸이 · 귀고리 96가지 이 책은 비즈로 목걸이와 귀고리를 제작할 수 있도록 구성되었다 목걸이 귀고리 목걸이  귀고리 세트로 구별해 놓아 찾기 쉽게 해 놓았으며 작품...|https://bookthumb-phinf.pstatic.net/cover/001/553/00155381.jpg?type=m5|     36|                   행운 부르는 비즈|  [탄생석, 목걸이, 귀고리, 가지, 이, 책, 비즈, 목걸이, 귀고리, 제작, 하다, 수, 있다, 구성, 되어다, 목걸이, 귀고리, 목걸이, 귀고리, 세트, 구별, 하다, 놓...|\n",
       "|           조재교| 157947|   비즈/구슬공예|1648449257000|                            다채로운 색상과 소재의 63가지 비즈 액세서리 만드는 법을 소개한 책 blue green pnk red black white의 여섯 가지 색상을 이용한 비즈 컬러 매치 방법을...|https://bookthumb-phinf.pstatic.net/cover/001/579/00157947.jpg?type=m5|     22|       6가지 컬러로 즐기는 비즈파티|      [채, 색상, 소재, 가지, 비즈, 액세서리, 만들다, 법, 소개, 책, 의, 여섯, 가지, 색상, 이용, 비즈, 컬러, 매치, 방법, 제시, 있다, 또한, 비즈, 숍, 오픈...|\n",
       "|           배효숙| 158126|        가구/DIY|1648449400000|     엄마가 직접 만들어주는 아이옷 DIY 소개서 주부인 저자가 주부의 시점에서 원피스나 멜빵바지 셔츠와 같이 간편하고 멋있게 만들 수 있는 아이옷을 만드는 방법을 사진과 함께 소...|https://bookthumb-phinf.pstatic.net/cover/001/581/00158126.jpg?type=m5|     35|   내 손으로 만드는 명품 아이옷 DIY|    [엄마, 직접, 만들다, 아이, 옷, 소개, 주부, 저자, 주부, 시점, 원피스, 멜빵, 바지, 셔츠, 간편하다, 멋있다, 만들다, 수, 있다, 아이, 옷, 만들다, 방법, ...|\n",
       "|           편집부| 158881|   비즈/구슬공예|1648449266000|       개성있는 비즈 인테리어 소품을 통해 집안 분위기를 로맨틱하게 꾸미는 방법을 소개한 책 꽃병 전등 갓 커튼 발 샹들리에 등 총 55개의 비즈 공예 만드는 법을 상세히 설명했다 ...|https://bookthumb-phinf.pstatic.net/cover/001/588/00158881.jpg?type=m5|     34|              비즈 인테리어 소품 55|      [개성, 있다, 비즈, 인테리어, 소품, 통해, 집안, 분위기, 로맨틱, 하다, 꾸미다, 방법, 소개, 책, 꽃병, 전등, 갓, 커튼, 발, 샹들리, 등, 총, 개, 비즈, ...|\n",
       "|           박완서| 180589|            null|         null|소설가 박완서의 단편동화 모음집 전기 용품 도매상의 꼬마 점원인 수남이가 도둑질도 나쁘지만 사람의 마음 속에 도사리고 있는 부도덕성이 얼마나 무서운지를 깨닫는 이야기인 표제작...|https://bookthumb-phinf.pstatic.net/cover/001/805/00180589.jpg?type=m5|     63|                        자전거 도둑|    [소설가, 박완서, 단편, 동화, 모음, 집, 전기, 용품, 도매, 상의, 꼬마, 점원, 남, 도둑질, 나쁘다, 사람, 마음, 속, 도, 사리, 있다, 부도덕, 얼마나, 무섭...|\n",
       "| 존 버거, 장 모르| 185808|그림/포토 에세이|1647913248000| 소설가 이자 극작가 그리고 다큐멘터리 작가인 존 버거가 유럽 이민노동자들의 대하여 이야기 하였다 그는 이민노동자의 경험의 윤곽 그리고 그것을 그 노동자를 둘러싸고 있는 물리적...|https://bookthumb-phinf.pstatic.net/cover/001/858/00185808.jpg?type=m5|     23|                         제7의 인간|  [소설가, 이자, 극작가, 다큐멘터리, 작가, 존, 버거, 유럽, 이민, 노동자, 대하, 이야기, 하다, 그, 이민, 노동자, 경험, 윤곽, 그것, 그, 노동자, 둘러싸다, ...|\n",
       "|           이신화| 191927|       연극/영화|1648448151000|     매회 최고 시청률 갱신 『스토브리그』 무삭제판 대본집 출간2020년 세상을 향해 통쾌한 한방을 날리다 모두의 편견을 깬 웰 메이드 야구 드라마 대한민국은 지금 〈스토브리그〉 ...|https://bookthumb-phinf.pstatic.net/cover/001/919/00191927.jpg?type=m5|     31|                스토브리그 대본집 1|     [최고, 시청률, 갱신, 스토브, 리그, 무, 삭제, 판, 본집, 추다, 간, 세상, 향, 하다, 통쾌하다, 방, 날리다, 모두, 편견, 깨다, 웰, 메이드, 야구, 드라마,...|\n",
       "|           이신화| 191928|        테마소설|1647913042000|     매회 최고 시청률 갱신 『스토브리그』 무삭제판 대본집 출간2020년 세상을 향해 통쾌한 한방을 날리다 모두의 편견을 깬 웰 메이드 야구 드라마 대한민국은 지금 〈스토브리그〉 ...|https://bookthumb-phinf.pstatic.net/cover/001/919/00191928.jpg?type=m5|     34|                스토브리그 대본집 2|     [최고, 시청률, 갱신, 스토브, 리그, 무, 삭제, 판, 본집, 추다, 간, 세상, 향, 하다, 통쾌하다, 방, 날리다, 모두, 편견, 깨다, 웰, 메이드, 야구, 드라마,...|\n",
       "|      보먼트 뉴홀| 273605|            사진|1648448097000|   수백 명의 유명작가들의 사진을 꼽아 가며 사진의 조류 및 그 전개상에 대한 총괄적인 연구를 제시하고 있는 책 세계 사진사에서 중요한 사진으로 평가받는 작품 삼백장이 실려 있으...|https://bookthumb-phinf.pstatic.net/cover/002/736/00273605.jpg?type=m5|      8|                        사진의 역사|      [수백, 명의, 유명, 작가, 사진, 꼽, 가다, 사진, 조류, 및, 그, 전개, 대한, 총괄, 연구, 제시, 있다, 책, 세계, 사진사, 중요하다, 사진, 평가, 받다, 작...|\n",
       "|           이복숙|1467782|   비즈/구슬공예|1648449265000|     나만의 개성을 연출하는 비즈를 기본기부터 고급 테크닉까지 난이도에 따라 누구나 손쉽게 배울 수 있는 책 소개된 내용에 따라 비즈를 한 알 한 알 골라 줄에 꿰어 귀엽고 사랑스...|https://bookthumb-phinf.pstatic.net/cover/014/677/01467782.jpg?type=m5|     33|                        비즈 배우기|    [나, 개성, 연출, 하다, 비즈, 본기, 고급, 테크닉, 난이도, 따르다, 누구, 손쉽다, 배우다, 수, 있다, 책, 소개, 되다, 내용, 따르다, 비즈, 하다, 알, 하다...|\n",
       "|           편집부|1487856|   비즈/구슬공예|1648449264000|    브라이덜 주얼리 동물 입체 모티브 고저스 액세서리 등의 비즈 액세서리를 만드는 법이 소개되어 있는 비즈 컬렉션 3 생생한 사진과 함께 비즈 작품을 만드는 법이 상세하게 설명되...|https://bookthumb-phinf.pstatic.net/cover/014/878/01487856.jpg?type=m5|     32|                      비즈 컬렉션 3|  [브라, 덜, 주얼리, 동물, 입체, 모티브, 스, 액세서리, 등, 비즈, 액세서리, 만들다, 법, 소개, 되어다, 있다, 비즈, 컬렉션, 생생하다, 사진, 비즈, 작품, 만...|\n",
       "+-----------------+-------+----------------+-------------+-------------------------------------------------------------------------------------------------------------------------------------------------------------------------------+----------------------------------------------------------------------+-------+-----------------------------------+----------------------------------------------------------------------------------------------------------------------------------------------------------+\n",
       "only showing top 20 rows"
      ]
     },
     "execution_count": 9,
     "metadata": {},
     "output_type": "execute_result"
    }
   ],
   "source": [
    "tmp"
   ]
  },
  {
   "cell_type": "markdown",
   "id": "4f55d17f-ded9-4989-99fb-5d50abaa3e06",
   "metadata": {
    "tags": []
   },
   "source": [
    "#### 불용어 제거"
   ]
  },
  {
   "cell_type": "code",
   "execution_count": 17,
   "id": "03715e54-5ed8-4944-93a8-4a0bc5b93dcc",
   "metadata": {},
   "outputs": [],
   "source": [
    "import numpy\n",
    "import pandas as pd\n",
    "import nltk"
   ]
  },
  {
   "cell_type": "code",
   "execution_count": 24,
   "id": "6c5be54e-2c20-4551-b722-c55e3c785ae4",
   "metadata": {},
   "outputs": [],
   "source": [
    "df = pd.read_csv('https://raw.githubusercontent.com/cranberryai/todak_todak_python/master/machine_learning_text/clean_korean_documents/korean_stopwords.txt', header=None)\n",
    "df[0] = df[0].apply(lambda x: x.strip())\n",
    "stopwords = df[0].to_numpy()"
   ]
  },
  {
   "cell_type": "code",
   "execution_count": 25,
   "id": "5568517d-4585-40f2-ae56-a1580bf5a5f6",
   "metadata": {},
   "outputs": [
    {
     "data": {
      "text/plain": [
       "array(['이', '있', '하', '것', '들', '그', '되', '수', '이', '보', '않', '없', '나',\n",
       "       '사람', '주', '아니', '등', '같', '우리', '때', '년', '가', '한', '지', '대하',\n",
       "       '오', '말', '일', '그렇', '위하', '때문', '그것', '두', '말하', '알', '그러나', '받',\n",
       "       '못하', '일', '그런', '또', '문제', '더', '사회', '많', '그리고', '좋', '크', '따르',\n",
       "       '중', '나오', '가지', '씨', '시키', '만들', '지금', '생각하', '그러', '속', '하나',\n",
       "       '집', '살', '모르', '적', '월', '데', '자신', '안', '어떤', '내', '경우', '명',\n",
       "       '생각', '시간', '그녀', '다시', '이런', '앞', '보이', '번', '나', '다른', '어떻',\n",
       "       '여자', '개', '들', '사실', '이렇', '점', '싶', '말', '정도', '좀', '원', '잘',\n",
       "       '통하', '소리', '놓'], dtype=object)"
      ]
     },
     "execution_count": 25,
     "metadata": {},
     "output_type": "execute_result"
    }
   ],
   "source": [
    "stopwords"
   ]
  },
  {
   "cell_type": "code",
   "execution_count": 37,
   "id": "fbd9f4e3-2668-4814-8cc3-50aaafafd0b4",
   "metadata": {
    "scrolled": true,
    "tags": []
   },
   "outputs": [
    {
     "data": {
      "text/plain": [
       "array(['아', '휴', '아이구', '아이쿠', '아이고', '어', '나', '우리', '저희', '따라', '의해',\n",
       "       '을', '를', '에', '의', '가', '으로', '로', '에게', '뿐이다', '의거하여', '근거하여',\n",
       "       '입각하여', '기준으로', '예하면', '예를', '들면', '예를', '들자면', '저', '소인', '소생',\n",
       "       '저희', '지말고', '하지마', '하지마라', '다른', '물론', '또한', '그리고', '비길수', '없다',\n",
       "       '해서는', '안된다', '뿐만', '아니라', '만이', '아니다', '만은', '아니다', '막론하고',\n",
       "       '관계없이', '그치지', '않다', '그러나', '그런데', '하지만', '든간에', '논하지', '않다',\n",
       "       '따지지', '않다', '설사', '비록', '더라도', '아니면', '만', '못하다', '하는', '편이',\n",
       "       '낫다', '불문하고', '향하여', '향해서', '향하다', '쪽으로', '틈타', '이용하여', '타다',\n",
       "       '오르다', '제외하고', '이', '외에', '이', '밖에', '하여야', '비로소', '한다면', '몰라도',\n",
       "       '외에도', '이곳', '여기', '부터', '기점으로', '따라서', '할', '생각이다', '하려고하다',\n",
       "       '이리하여', '그리하여', '그렇게', '함으로써', '하지만', '일때', '할때', '앞에서', '중에서',\n",
       "       '보는데서', '으로써', '로써', '까지', '해야한다', '일것이다', '반드시', '할줄알다', '할수있다',\n",
       "       '할수있어', '임에', '틀림없다', '한다면', '등', '등등', '제', '겨우', '단지', '다만',\n",
       "       '할뿐', '딩동', '댕그', '대해서', '대하여', '대하면', '훨씬', '얼마나', '얼마만큼', '얼마큼',\n",
       "       '남짓', '여', '얼마간', '약간', '다소', '좀', '조금', '다수', '몇', '얼마', '지만',\n",
       "       '하물며', '또한', '그러나', '그렇지만', '하지만', '이외에도', '대해', '말하자면', '뿐이다',\n",
       "       '다음에', '반대로', '반대로', '말하자면', '이와', '반대로', '바꾸어서', '말하면', '바꾸어서',\n",
       "       '한다면', '만약', '그렇지않으면', '까악', '툭', '딱', '삐걱거리다', '보드득', '비걱거리다',\n",
       "       '꽈당', '응당', '해야한다', '에', '가서', '각', '각각', '여러분', '각종', '각자', '제각기',\n",
       "       '하도록하다', '와', '과', '그러므로', '그래서', '고로', '한', '까닭에', '하기', '때문에',\n",
       "       '거니와', '이지만', '대하여', '관하여', '관한', '과연', '실로', '아니나다를가', '생각한대로',\n",
       "       '진짜로', '한적이있다', '하곤하였다', '하', '하하', '허허', '아하', '거바', '와', '오',\n",
       "       '왜', '어째서', '무엇때문에', '어찌', '하겠는가', '무슨', '어디', '어느곳', '더군다나',\n",
       "       '하물며', '더욱이는', '어느때', '언제', '야', '이봐', '어이', '여보시오', '흐흐', '흥',\n",
       "       '휴', '헉헉', '헐떡헐떡', '영차', '여차', '어기여차', '끙끙', '아야', '앗', '아야', '콸콸',\n",
       "       '졸졸', '좍좍', '뚝뚝', '주룩주룩', '솨', '우르르', '그래도', '또', '그리고', '바꾸어말하면',\n",
       "       '바꾸어말하자면', '혹은', '혹시', '답다', '및', '그에', '따르는', '때가', '되어', '즉',\n",
       "       '지든지', '설령', '가령', '하더라도', '할지라도', '일지라도', '지든지', '몇', '거의',\n",
       "       '하마터면', '인젠', '이젠', '된바에야', '된이상', '만큼', '어찌됏든', '그위에', '게다가',\n",
       "       '점에서', '보아', '비추어', '보아', '고려하면', '하게될것이다', '일것이다', '비교적', '좀',\n",
       "       '보다더', '비하면', '시키다', '하게하다', '할만하다', '의해서', '연이서', '이어서', '잇따라',\n",
       "       '뒤따라', '뒤이어', '결국', '의지하여', '기대여', '통하여', '자마자', '더욱더', '불구하고',\n",
       "       '얼마든지', '마음대로', '주저하지', '않고', '곧', '즉시', '바로', '당장', '하자마자', '밖에',\n",
       "       '안된다', '하면된다', '그래', '그렇지', '요컨대', '다시', '말하자면', '바꿔', '말하면', '즉',\n",
       "       '구체적으로', '말하자면', '시작하여', '시초에', '이상', '허', '헉', '허걱', '바와같이',\n",
       "       '해도좋다', '해도된다', '게다가', '더구나', '하물며', '와르르', '팍', '퍽', '펄렁', '동안',\n",
       "       '이래', '하고있었다', '이었다', '에서', '로부터', '까지', '예하면', '했어요', '해요', '함께',\n",
       "       '같이', '더불어', '마저', '마저도', '양자', '모두', '습니다', '가까스로', '하려고하다',\n",
       "       '즈음하여', '다른', '다른', '방면으로', '해봐요', '습니까', '했어요', '말할것도', '없고',\n",
       "       '무릎쓰고', '개의치않고', '하는것만', '못하다', '하는것이', '낫다', '매', '매번', '들', '모',\n",
       "       '어느것', '어느', '로써', '갖고말하자면', '어디', '어느쪽', '어느것', '어느해', '어느', '년도',\n",
       "       '라', '해도', '언젠가', '어떤것', '어느것', '저기', '저쪽', '저것', '그때', '그럼',\n",
       "       '그러면', '요만한걸', '그래', '그때', '저것만큼', '그저', '이르기까지', '할', '줄', '안다',\n",
       "       '할', '힘이', '있다', '너', '너희', '당신', '어찌', '설마', '차라리', '할지언정',\n",
       "       '할지라도', '할망정', '할지언정', '구토하다', '게우다', '토하다', '메쓰겁다', '옆사람', '퉤',\n",
       "       '쳇', '의거하여', '근거하여', '의해', '따라', '힘입어', '그', '다음', '버금', '두번째로',\n",
       "       '기타', '첫번째로', '나머지는', '그중에서', '견지에서', '형식으로', '쓰여', '입장에서', '위해서',\n",
       "       '단지', '의해되다', '하도록시키다', '뿐만아니라', '반대로', '전후', '전자', '앞의것', '잠시',\n",
       "       '잠깐', '하면서', '그렇지만', '다음에', '그러한즉', '그런즉', '남들', '아무거나', '어찌하든지',\n",
       "       '같다', '비슷하다', '예컨대', '이럴정도로', '어떻게', '만약', '만일', '위에서', '서술한바와같이',\n",
       "       '인', '듯하다', '하지', '않는다면', '만약에', '무엇', '무슨', '어느', '어떤', '아래윗',\n",
       "       '조차', '한데', '그럼에도', '불구하고', '여전히', '심지어', '까지도', '조차도', '하지',\n",
       "       '않도록', '않기', '위하여', '때', '시각', '무렵', '시간', '동안', '어때', '어떠한',\n",
       "       '하여금', '네', '예', '우선', '누구', '누가', '알겠는가', '아무도', '줄은모른다', '줄은',\n",
       "       '몰랏다', '하는', '김에', '겸사겸사', '하는바', '그런', '까닭에', '한', '이유는', '그러니',\n",
       "       '그러니까', '때문에', '그', '너희', '그들', '너희들', '타인', '것', '것들', '너', '위하여',\n",
       "       '공동으로', '동시에', '하기', '위하여', '어찌하여', '무엇때문에', '붕붕', '윙윙', '나', '우리',\n",
       "       '엉엉', '휘익', '윙윙', '오호', '아하', '어쨋든', '만', '못하다', '하기보다는', '차라리',\n",
       "       '하는', '편이', '낫다', '흐흐', '놀라다', '상대적으로', '말하자면', '마치', '아니라면', '쉿',\n",
       "       '그렇지', '않으면', '그렇지', '않다면', '안', '그러면', '아니었다면', '하든지', '아니면',\n",
       "       '이라면', '좋아', '알았어', '하는것도', '그만이다', '어쩔수', '없다', '하나', '일',\n",
       "       '일반적으로', '일단', '한켠으로는', '오자마자', '이렇게되면', '이와같다면', '전부', '한마디',\n",
       "       '한항목', '근거로', '하기에', '아울러', '하지', '않도록', '않기', '위해서', '이르기까지', '이',\n",
       "       '되다', '로', '인하여', '까닭으로', '이유만으로', '이로', '인하여', '그래서', '이', '때문에',\n",
       "       '그러므로', '그런', '까닭에', '알', '수', '있다', '결론을', '낼', '수', '있다', '으로',\n",
       "       '인하여', '있다', '어떤것', '관계가', '있다', '관련이', '있다', '연관되다', '어떤것들', '에',\n",
       "       '대해', '이리하여', '그리하여', '여부', '하기보다는', '하느니', '하면', '할수록', '운운',\n",
       "       '이러이러하다', '하구나', '하도다', '다시말하면', '다음으로', '에', '있다', '에', '달려',\n",
       "       '있다', '우리', '우리들', '오히려', '하기는한데', '어떻게', '어떻해', '어찌됏어', '어때',\n",
       "       '어째서', '본대로', '자', '이', '이쪽', '여기', '이것', '이번', '이렇게말하자면', '이런',\n",
       "       '이러한', '이와', '같은', '요만큼', '요만한', '것', '얼마', '안', '되는', '것', '이만큼',\n",
       "       '이', '정도의', '이렇게', '많은', '것', '이와', '같다', '이때', '이렇구나', '것과', '같이',\n",
       "       '끼익', '삐걱', '따위', '와', '같은', '사람들', '부류의', '사람들', '왜냐하면', '중의하나',\n",
       "       '오직', '오로지', '에', '한하다', '하기만', '하면', '도착하다', '까지', '미치다', '도달하다',\n",
       "       '정도에', '이르다', '할', '지경이다', '결과에', '이르다', '관해서는', '여러분', '하고', '있다',\n",
       "       '한', '후', '혼자', '자기', '자기집', '자신', '우에', '종합한것과같이', '총적으로', '보면',\n",
       "       '총적으로', '말하면', '총적으로', '대로', '하다', '으로서', '참', '그만이다', '할', '따름이다',\n",
       "       '쿵', '탕탕', '쾅쾅', '둥둥', '봐', '봐라', '아이야', '아니', '와아', '응', '아이',\n",
       "       '참나', '년', '월', '일', '령', '영', '일', '이', '삼', '사', '오', '육', '륙',\n",
       "       '칠', '팔', '구', '이천육', '이천칠', '이천팔', '이천구', '하나', '둘', '셋', '넷',\n",
       "       '다섯', '여섯', '일곱', '여덟', '아홉', '령', '영', '이', '있', '하', '것', '들',\n",
       "       '그', '되', '수', '이', '보', '않', '없', '나', '사람', '주', '아니', '등', '같',\n",
       "       '우리', '때', '년', '가', '한', '지', '대하', '오', '말', '일', '그렇', '위하',\n",
       "       '때문', '그것', '두', '말하', '알', '그러나', '받', '못하', '일', '그런', '또', '문제',\n",
       "       '더', '사회', '많', '그리고', '좋', '크', '따르', '중', '나오', '가지', '씨', '시키',\n",
       "       '만들', '지금', '생각하', '그러', '속', '하나', '집', '살', '모르', '적', '월', '데',\n",
       "       '자신', '안', '어떤', '내', '내', '경우', '명', '생각', '시간', '그녀', '다시', '이런',\n",
       "       '앞', '보이', '번', '나', '다른', '어떻', '여자', '개', '전', '들', '사실', '이렇',\n",
       "       '점', '싶', '말', '정도', '좀', '원', '잘', '통하', '놓', '하다', '또한', '한지',\n",
       "       '대해\\n'], dtype='<U7')"
      ]
     },
     "execution_count": 37,
     "metadata": {},
     "output_type": "execute_result"
    }
   ],
   "source": [
    "# stopwords = spark.read.text(\"stopwords_kor.txt\")\n",
    "# stopwords.selectExpr(\"split(value, ' ')\")\n",
    "with open(\"stopwords_kor.txt\", 'r') as f:\n",
    "    stopwords = f.readlines()\n",
    "stopwords = str(stopwords[0]).split(\" \")\n",
    "stopwords = numpy.array(stopwords)\n",
    "stopwords"
   ]
  },
  {
   "cell_type": "code",
   "execution_count": 32,
   "id": "ad11a633-32b7-4f37-83b0-ec460873f2af",
   "metadata": {
    "scrolled": true,
    "tags": []
   },
   "outputs": [
    {
     "name": "stderr",
     "output_type": "stream",
     "text": [
      "                                                                                \r"
     ]
    },
    {
     "data": {
      "text/html": [
       "<table border='1'>\n",
       "<tr><th>preprocessed</th></tr>\n",
       "<tr><td>[중학생, 독후감, 필, 독선, 시리즈, 제, 권, 토마스, 불, 핀치, 명작, 그리스, 로마, 신화, 작품, 알, 들어가다, 내용, 훑어보기, 작품, 분석, 하다, 작가, ...</td></tr>\n",
       "<tr><td>[분위기, 기능, 따르다, 가구, 선택, 배치, 주문, 가구, 정보, 전국, 대다, 가구, 시장, 컬러, 화보, 위주, 엮, 인테리어, 무크]</td></tr>\n",
       "<tr><td>[실내, 벽, 소품, 가구, 활용, 가능하다, 페인, 팅, 기법, 컬러, 사진, 설명, 생활, 무크, 페인팅, 필요, 하다, 도구, 재료, 설명, 비롯, 하다, 색다르다, 칠...</td></tr>\n",
       "<tr><td>[산업, 시대, 초기, 석탄, 증기, 기관, 새롭다, 경제, 패러다임, 마련, 하다, 이제, 수소, 에너지, 기존, 경제, 정치, 사회, 근본, 바꾸다, 것, 예견, 하다, ...</td></tr>\n",
       "<tr><td>[스, 롭스, 키, 비즈, 귀엽다, 깜찍하다, 동물, 만들다, 꿰, 방법, 쉬다, 이해, 하다, 평면도, 그리다, 놓다, 완성, 되다, 크기, 사용, 하다, 비즈, 낚싯줄, ...</td></tr>\n",
       "<tr><td>[비즈, 공예, 입문, 이자, 전문, 시작, 마무리, 규칙, 기법, 비즈, 기본, 종류, 명칭, 간단하다, 도구, 대해, 알아보다, 진주, 크리스털, 이용, 하다, 기본, 기...</td></tr>\n",
       "<tr><td>[비즈, 만들다, 법, 가지, 모으다, 엮었다, 반지, 목걸이, 팔찌, 귀걸이, 등, 다양하다, 악세사리, 제작, 방법, 비즈, 종류, 등, 대하, 일목요연하다, 기술, 있다...</td></tr>\n",
       "<tr><td>[세상, 단, 하나, 나, 보석, 만들기, 로맨틱, 디자인, 귀엽다, 깜찍하다, 디자인, 반지, 초, 크다, 피어스, 목걸이, 핸드폰, 줄, 헤어, 핀, 등, 이용, 하다, ...</td></tr>\n",
       "<tr><td>[제작, 하다, 명품, 스타일, 비즈, 액세서리, 이, 책, 비즈, 팔찌, 발찌, 반지, 브로치, 등, 액세서리, 포함, 하다, 핸드폰, 줄, 키홀, 더, 등, 제작, 하다,...</td></tr>\n",
       "<tr><td>[탄생석, 목걸이, 귀고리, 가지, 이, 책, 비즈, 목걸이, 귀고리, 제작, 하다, 수, 있다, 구성, 되어다, 목걸이, 귀고리, 목걸이, 귀고리, 세트, 구별, 하다, 놓...</td></tr>\n",
       "<tr><td>[채, 색상, 소재, 가지, 비즈, 액세서리, 만들다, 법, 소개, 책, 의, 여섯, 가지, 색상, 이용, 비즈, 컬러, 매치, 방법, 제시, 있다, 또한, 비즈, 숍, 오픈...</td></tr>\n",
       "<tr><td>[엄마, 직접, 만들다, 아이, 옷, 소개, 주부, 저자, 주부, 시점, 원피스, 멜빵, 바지, 셔츠, 간편하다, 멋있다, 만들다, 수, 있다, 아이, 옷, 만들다, 방법, ...</td></tr>\n",
       "<tr><td>[개성, 있다, 비즈, 인테리어, 소품, 통해, 집안, 분위기, 로맨틱, 하다, 꾸미다, 방법, 소개, 책, 꽃병, 전등, 갓, 커튼, 발, 샹들리, 등, 총, 개, 비즈, ...</td></tr>\n",
       "<tr><td>[소설가, 박완서, 단편, 동화, 모음, 집, 전기, 용품, 도매, 상의, 꼬마, 점원, 남, 도둑질, 나쁘다, 사람, 마음, 속, 도, 사리, 있다, 부도덕, 얼마나, 무섭...</td></tr>\n",
       "<tr><td>[소설가, 이자, 극작가, 다큐멘터리, 작가, 존, 버거, 유럽, 이민, 노동자, 대하, 이야기, 하다, 그, 이민, 노동자, 경험, 윤곽, 그것, 그, 노동자, 둘러싸다, ...</td></tr>\n",
       "<tr><td>[최고, 시청률, 갱신, 스토브, 리그, 무, 삭제, 판, 본집, 추다, 간, 세상, 향, 하다, 통쾌하다, 방, 날리다, 모두, 편견, 깨다, 웰, 메이드, 야구, 드라마,...</td></tr>\n",
       "<tr><td>[최고, 시청률, 갱신, 스토브, 리그, 무, 삭제, 판, 본집, 추다, 간, 세상, 향, 하다, 통쾌하다, 방, 날리다, 모두, 편견, 깨다, 웰, 메이드, 야구, 드라마,...</td></tr>\n",
       "<tr><td>[수백, 명의, 유명, 작가, 사진, 꼽, 가다, 사진, 조류, 및, 그, 전개, 대한, 총괄, 연구, 제시, 있다, 책, 세계, 사진사, 중요하다, 사진, 평가, 받다, 작...</td></tr>\n",
       "<tr><td>[나, 개성, 연출, 하다, 비즈, 본기, 고급, 테크닉, 난이도, 따르다, 누구, 손쉽다, 배우다, 수, 있다, 책, 소개, 되다, 내용, 따르다, 비즈, 하다, 알, 하다...</td></tr>\n",
       "<tr><td>[브라, 덜, 주얼리, 동물, 입체, 모티브, 스, 액세서리, 등, 비즈, 액세서리, 만들다, 법, 소개, 되어다, 있다, 비즈, 컬렉션, 생생하다, 사진, 비즈, 작품, 만...</td></tr>\n",
       "</table>\n",
       "only showing top 20 rows\n"
      ],
      "text/plain": [
       "+----------------------------------------------------------------------------------------------------------------------------------------------------------+\n",
       "|                                                                                                                                              preprocessed|\n",
       "+----------------------------------------------------------------------------------------------------------------------------------------------------------+\n",
       "|    [중학생, 독후감, 필, 독선, 시리즈, 제, 권, 토마스, 불, 핀치, 명작, 그리스, 로마, 신화, 작품, 알, 들어가다, 내용, 훑어보기, 작품, 분석, 하다, 작가, ...|\n",
       "|                                  [분위기, 기능, 따르다, 가구, 선택, 배치, 주문, 가구, 정보, 전국, 대다, 가구, 시장, 컬러, 화보, 위주, 엮, 인테리어, 무크]|\n",
       "|    [실내, 벽, 소품, 가구, 활용, 가능하다, 페인, 팅, 기법, 컬러, 사진, 설명, 생활, 무크, 페인팅, 필요, 하다, 도구, 재료, 설명, 비롯, 하다, 색다르다, 칠...|\n",
       "|    [산업, 시대, 초기, 석탄, 증기, 기관, 새롭다, 경제, 패러다임, 마련, 하다, 이제, 수소, 에너지, 기존, 경제, 정치, 사회, 근본, 바꾸다, 것, 예견, 하다, ...|\n",
       "|    [스, 롭스, 키, 비즈, 귀엽다, 깜찍하다, 동물, 만들다, 꿰, 방법, 쉬다, 이해, 하다, 평면도, 그리다, 놓다, 완성, 되다, 크기, 사용, 하다, 비즈, 낚싯줄, ...|\n",
       "|  [비즈, 공예, 입문, 이자, 전문, 시작, 마무리, 규칙, 기법, 비즈, 기본, 종류, 명칭, 간단하다, 도구, 대해, 알아보다, 진주, 크리스털, 이용, 하다, 기본, 기...|\n",
       "|[비즈, 만들다, 법, 가지, 모으다, 엮었다, 반지, 목걸이, 팔찌, 귀걸이, 등, 다양하다, 악세사리, 제작, 방법, 비즈, 종류, 등, 대하, 일목요연하다, 기술, 있다...|\n",
       "|    [세상, 단, 하나, 나, 보석, 만들기, 로맨틱, 디자인, 귀엽다, 깜찍하다, 디자인, 반지, 초, 크다, 피어스, 목걸이, 핸드폰, 줄, 헤어, 핀, 등, 이용, 하다, ...|\n",
       "|     [제작, 하다, 명품, 스타일, 비즈, 액세서리, 이, 책, 비즈, 팔찌, 발찌, 반지, 브로치, 등, 액세서리, 포함, 하다, 핸드폰, 줄, 키홀, 더, 등, 제작, 하다,...|\n",
       "|  [탄생석, 목걸이, 귀고리, 가지, 이, 책, 비즈, 목걸이, 귀고리, 제작, 하다, 수, 있다, 구성, 되어다, 목걸이, 귀고리, 목걸이, 귀고리, 세트, 구별, 하다, 놓...|\n",
       "|      [채, 색상, 소재, 가지, 비즈, 액세서리, 만들다, 법, 소개, 책, 의, 여섯, 가지, 색상, 이용, 비즈, 컬러, 매치, 방법, 제시, 있다, 또한, 비즈, 숍, 오픈...|\n",
       "|    [엄마, 직접, 만들다, 아이, 옷, 소개, 주부, 저자, 주부, 시점, 원피스, 멜빵, 바지, 셔츠, 간편하다, 멋있다, 만들다, 수, 있다, 아이, 옷, 만들다, 방법, ...|\n",
       "|      [개성, 있다, 비즈, 인테리어, 소품, 통해, 집안, 분위기, 로맨틱, 하다, 꾸미다, 방법, 소개, 책, 꽃병, 전등, 갓, 커튼, 발, 샹들리, 등, 총, 개, 비즈, ...|\n",
       "|    [소설가, 박완서, 단편, 동화, 모음, 집, 전기, 용품, 도매, 상의, 꼬마, 점원, 남, 도둑질, 나쁘다, 사람, 마음, 속, 도, 사리, 있다, 부도덕, 얼마나, 무섭...|\n",
       "|  [소설가, 이자, 극작가, 다큐멘터리, 작가, 존, 버거, 유럽, 이민, 노동자, 대하, 이야기, 하다, 그, 이민, 노동자, 경험, 윤곽, 그것, 그, 노동자, 둘러싸다, ...|\n",
       "|     [최고, 시청률, 갱신, 스토브, 리그, 무, 삭제, 판, 본집, 추다, 간, 세상, 향, 하다, 통쾌하다, 방, 날리다, 모두, 편견, 깨다, 웰, 메이드, 야구, 드라마,...|\n",
       "|     [최고, 시청률, 갱신, 스토브, 리그, 무, 삭제, 판, 본집, 추다, 간, 세상, 향, 하다, 통쾌하다, 방, 날리다, 모두, 편견, 깨다, 웰, 메이드, 야구, 드라마,...|\n",
       "|      [수백, 명의, 유명, 작가, 사진, 꼽, 가다, 사진, 조류, 및, 그, 전개, 대한, 총괄, 연구, 제시, 있다, 책, 세계, 사진사, 중요하다, 사진, 평가, 받다, 작...|\n",
       "|    [나, 개성, 연출, 하다, 비즈, 본기, 고급, 테크닉, 난이도, 따르다, 누구, 손쉽다, 배우다, 수, 있다, 책, 소개, 되다, 내용, 따르다, 비즈, 하다, 알, 하다...|\n",
       "|  [브라, 덜, 주얼리, 동물, 입체, 모티브, 스, 액세서리, 등, 비즈, 액세서리, 만들다, 법, 소개, 되어다, 있다, 비즈, 컬렉션, 생생하다, 사진, 비즈, 작품, 만...|\n",
       "+----------------------------------------------------------------------------------------------------------------------------------------------------------+\n",
       "only showing top 20 rows"
      ]
     },
     "execution_count": 32,
     "metadata": {},
     "output_type": "execute_result"
    }
   ],
   "source": [
    "tmp.select('preprocessed')"
   ]
  },
  {
   "cell_type": "code",
   "execution_count": 38,
   "id": "fb3c269a-ae3c-4b04-9a76-99118995b6c5",
   "metadata": {},
   "outputs": [
    {
     "name": "stderr",
     "output_type": "stream",
     "text": [
      "[nltk_data] Downloading package punkt to /home/jovyan/nltk_data...\n",
      "[nltk_data]   Package punkt is already up-to-date!\n",
      "22/04/22 02:04:53 WARN SimpleFunctionRegistry: The function stopcols replaced a previously registered function.\n"
     ]
    }
   ],
   "source": [
    "nltk.download('punkt')\n",
    "\n",
    "stopCols = udf(lambda x : cleanSW(x), StringType())\n",
    "spark.udf.register(\"stopCols\", stopCols)\n",
    "def cleanSW(s):\n",
    "    clean_words = []\n",
    "#     for word in nltk.tokenize.word_tokenize(s):\n",
    "    for word in s:\n",
    "        if word not in stopwords:\n",
    "            clean_words.append(word)\n",
    "    return ' '.join(clean_words)\n",
    "\n",
    "tmp2 = tmp.withColumn('final', stopCols('preprocessed'))"
   ]
  },
  {
   "cell_type": "code",
   "execution_count": 35,
   "id": "c4e5b3af-2e18-463d-ac01-5a3de3d5cb0b",
   "metadata": {
    "scrolled": true,
    "tags": []
   },
   "outputs": [
    {
     "name": "stderr",
     "output_type": "stream",
     "text": [
      "                                                                                \r"
     ]
    },
    {
     "data": {
      "text/html": [
       "<table border='1'>\n",
       "<tr><th>author</th><th>book_id</th><th>category</th><th>date</th><th>description</th><th>image</th><th>ranking</th><th>title</th><th>preprocessed</th><th>final</th></tr>\n",
       "<tr><td>토마스 불핀치</td><td>2855</td><td>신화</td><td>1648447114000</td><td>중학생 독후감 필독선 시리즈 제13권 토마스 불핀치의 명작 그리스 로마 신화를 작품 알고 들어가기 내용 훑어보기 작품 분석하기 작가 들여다보기 시대와 연관짓기 작품 토론하기 ...</td><td>https://bookthumb-phinf.pstatic.net/cover/000/028/00002855.jpg?type=m5</td><td>34</td><td>중학생이 보는 그리스 로마 신화</td><td>[중학생, 독후감, 필, 독선, 시리즈, 제, 권, 토마스, 불, 핀치, 명작, 그리스, 로마, 신화, 작품, 알, 들어가다, 내용, 훑어보기, 작품, 분석, 하다, 작가, ...</td><td>중학생 독후감 필 독선 시리즈 제 권 토마스 불 핀치 명작 그리스 로마 신화 작품 들어가다 내용 훑어보기 작품 분석 하다 작가 들여다보다 시대 연관 짓다 작품 토론 하다 독후...</td></tr>\n",
       "<tr><td>효성출판사 편집부</td><td>40565</td><td>가구/DIY</td><td>1648449401000</td><td>분위기기능에 따른 가구선택과 배치 주문가구 정보전국 5대 가구시장을 컬러화보 위주로 엮은 인테리어 무크지</td><td>https://bookthumb-phinf.pstatic.net/cover/000/405/00040565.jpg?type=m5</td><td>37</td><td>소가구 &amp; 수납가구</td><td>[분위기, 기능, 따르다, 가구, 선택, 배치, 주문, 가구, 정보, 전국, 대다, 가구, 시장, 컬러, 화보, 위주, 엮, 인테리어, 무크]</td><td>분위기 기능 따르다 가구 선택 배치 주문 가구 정보 전국 대다 가구 시장 컬러 화보 위주 엮 인테리어 무크</td></tr>\n",
       "<tr><td>중앙M&amp;B 편집부</td><td>66769</td><td>가구/DIY</td><td>1648449401000</td><td>실내 벽에서 소품가구까지 활용 가능한 페인팅 기법 을 컬러사진과 함께 설명한 생활무크 페인팅에 필요 한 도구와 재료설명을 비롯해 색다르게 칠하는 페인팅기법리폼 및 장식 아이디...</td><td>https://bookthumb-phinf.pstatic.net/cover/000/667/00066769.jpg?type=m5</td><td>36</td><td>내 손으로 더 예쁘게 페인팅 DIY</td><td>[실내, 벽, 소품, 가구, 활용, 가능하다, 페인, 팅, 기법, 컬러, 사진, 설명, 생활, 무크, 페인팅, 필요, 하다, 도구, 재료, 설명, 비롯, 하다, 색다르다, 칠...</td><td>실내 벽 소품 가구 활용 가능하다 페인 팅 기법 컬러 사진 설명 생활 무크 페인팅 필요 하다 도구 재료 설명 비롯 하다 색다르다 칠하다 페인 팅기다 법리 폼 및 장식 아이디어...</td></tr>\n",
       "<tr><td>제레미 리프킨</td><td>118837</td><td>경제/경영</td><td>null</td><td>산업 시대 초기에 석탄과 증기 기관이 새로운 경제 패러다임을 마련했듯이 이제 수소 에너지가 기존의 경제 정치 사회를 근본적으로 바꿀 것이라고 예견하는 경제서 노동의 종말 소유...</td><td>https://bookthumb-phinf.pstatic.net/cover/001/188/00118837.jpg?type=m5</td><td>27</td><td>수소 혁명</td><td>[산업, 시대, 초기, 석탄, 증기, 기관, 새롭다, 경제, 패러다임, 마련, 하다, 이제, 수소, 에너지, 기존, 경제, 정치, 사회, 근본, 바꾸다, 것, 예견, 하다, ...</td><td>산업 시대 초기 석탄 증기 기관 새롭다 경제 패러다임 마련 하다 이제 수소 에너지 기존 경제 정치 근본 바꾸다 예견 하다 경제 노동 종말 소유 종말 저자 러미 리프킨 최신 작...</td></tr>\n",
       "<tr><td>편집부</td><td>149663</td><td>비즈/구슬공예</td><td>1648449269000</td><td>스와롭스키 비즈로 귀엽고 깜찍한 동물들을 만든다 꿰는 방법을 쉽게 이해하도록 평면도로 그려 놓았으며 완성된 크기와 사용할 비즈 낚싯줄 길이 공정도 꿰는 방법 등을 세세하게 기...</td><td>https://bookthumb-phinf.pstatic.net/cover/001/496/00149663.jpg?type=m5</td><td>39</td><td>비즈 캐릭터</td><td>[스, 롭스, 키, 비즈, 귀엽다, 깜찍하다, 동물, 만들다, 꿰, 방법, 쉬다, 이해, 하다, 평면도, 그리다, 놓다, 완성, 되다, 크기, 사용, 하다, 비즈, 낚싯줄, ...</td><td>스 롭스 키 비즈 귀엽다 깜찍하다 동물 만들다 꿰 방법 쉬다 이해 하다 평면도 그리다 놓다 완성 되다 크기 사용 하다 비즈 낚싯줄 길이 공정 꿰 방법 세다 기록 하다 놓다 누...</td></tr>\n",
       "<tr><td>노경민</td><td>149664</td><td>비즈/구슬공예</td><td>1648449268000</td><td>비즈 공예 입문서이자 전문서 PART 1에서는 시작 마무리 규칙적인 기법 비즈의 기본적인 종류와 명칭 간단한 도구들에 대해 알아보며 PART 2에서는 진주 PART 3에서는 ...</td><td>https://bookthumb-phinf.pstatic.net/cover/001/496/00149664.jpg?type=m5</td><td>38</td><td>비즈 주얼리</td><td>[비즈, 공예, 입문, 이자, 전문, 시작, 마무리, 규칙, 기법, 비즈, 기본, 종류, 명칭, 간단하다, 도구, 대해, 알아보다, 진주, 크리스털, 이용, 하다, 기본, 기...</td><td>비즈 공예 입문 이자 전문 시작 마무리 규칙 기법 비즈 기본 종류 명칭 간단하다 도구 대해 알아보다 진주 크리스털 이용 하다 기본 기법 비즈 공예 하다 법 대해 진주 크리스털...</td></tr>\n",
       "<tr><td>편집부</td><td>150897</td><td>비즈/구슬공예</td><td>1648449270000</td><td>비즈 만드는 법 303가지를 모아 엮었다 반지 목걸이 팔찌 귀걸이 등 다양한 악세사리 제작 방법과 비즈의 종류 등에 대하여 일목요연하게 기술하고 있으며 부재료 사용법과 게재작...</td><td>https://bookthumb-phinf.pstatic.net/cover/001/508/00150897.jpg?type=m5</td><td>40</td><td>토탈 비즈 컬렉션</td><td>[비즈, 만들다, 법, 가지, 모으다, 엮었다, 반지, 목걸이, 팔찌, 귀걸이, 등, 다양하다, 악세사리, 제작, 방법, 비즈, 종류, 등, 대하, 일목요연하다, 기술, 있다...</td><td>비즈 만들다 법 모으다 엮었다 반지 목걸이 팔찌 귀걸이 다양하다 악세사리 제작 방법 비즈 종류 일목요연하다 기술 있다 부 재료 용법 게재 작품 제작 방법 대해 서도 상세 하다...</td></tr>\n",
       "<tr><td>사메지마 다카코</td><td>150950</td><td>비즈/구슬공예</td><td>1648449268000</td><td>세상에서 단 하나뿐인 나만의 보석 만들기 로맨틱한 디자인부터 귀엽고 깜찍한 디자인까지 반지 초커 피어스 목걸이 핸드폰 줄 헤어 핀 등을 이용하여 사랑스럽고 기품있는 비즈 쥬얼...</td><td>https://bookthumb-phinf.pstatic.net/cover/001/509/00150950.jpg?type=m5</td><td>37</td><td>프린세스 비즈</td><td>[세상, 단, 하나, 나, 보석, 만들기, 로맨틱, 디자인, 귀엽다, 깜찍하다, 디자인, 반지, 초, 크다, 피어스, 목걸이, 핸드폰, 줄, 헤어, 핀, 등, 이용, 하다, ...</td><td>세상 단 보석 만들기 로맨틱 디자인 귀엽다 깜찍하다 디자인 반지 초 크다 피어스 목걸이 핸드폰 줄 헤어 핀 이용 하다 사랑스럽다 기품 있다 비즈 쥬얼리 만들다 있다 기본 아이...</td></tr>\n",
       "<tr><td>서울문화사 편집부</td><td>155380</td><td>비즈/구슬공예</td><td>1648449267000</td><td>3천원으로 제작하는 명품 스타일 비즈 액세서리 이 책은 비즈로 팔찌 발찌 반지 브로치 등의 액세서리를 포함해서 핸드폰줄과 키홀더 등도 제작할 수 있도록 구성되었다 종류별로 구...</td><td>https://bookthumb-phinf.pstatic.net/cover/001/553/00155380.jpg?type=m5</td><td>35</td><td>3천원으로 명품 스타일 비즈 액세서리</td><td>[제작, 하다, 명품, 스타일, 비즈, 액세서리, 이, 책, 비즈, 팔찌, 발찌, 반지, 브로치, 등, 액세서리, 포함, 하다, 핸드폰, 줄, 키홀, 더, 등, 제작, 하다,...</td><td>제작 하다 명품 스타일 비즈 액세서리 책 비즈 팔찌 발찌 반지 브로치 액세서리 포함 하다 핸드폰 줄 키홀 제작 하다 있다 구성 되어다 종류 별로 구별 하다 놓다 찾기 쉬다 해...</td></tr>\n",
       "<tr><td>서울문화사 편집부</td><td>155381</td><td>비즈/구슬공예</td><td>1648449267000</td><td>탄생석 목걸이 · 귀고리 96가지 이 책은 비즈로 목걸이와 귀고리를 제작할 수 있도록 구성되었다 목걸이 귀고리 목걸이  귀고리 세트로 구별해 놓아 찾기 쉽게 해 놓았으며 작품...</td><td>https://bookthumb-phinf.pstatic.net/cover/001/553/00155381.jpg?type=m5</td><td>36</td><td>행운 부르는 비즈</td><td>[탄생석, 목걸이, 귀고리, 가지, 이, 책, 비즈, 목걸이, 귀고리, 제작, 하다, 수, 있다, 구성, 되어다, 목걸이, 귀고리, 목걸이, 귀고리, 세트, 구별, 하다, 놓...</td><td>탄생석 목걸이 귀고리 책 비즈 목걸이 귀고리 제작 하다 있다 구성 되어다 목걸이 귀고리 목걸이 귀고리 세트 구별 하다 놓다 찾기 쉬다 해 놓다 작품 난이도 제작 하다 표시 하...</td></tr>\n",
       "<tr><td>조재교</td><td>157947</td><td>비즈/구슬공예</td><td>1648449257000</td><td>다채로운 색상과 소재의 63가지 비즈 액세서리 만드는 법을 소개한 책 blue green pnk red black white의 여섯 가지 색상을 이용한 비즈 컬러 매치 방법을...</td><td>https://bookthumb-phinf.pstatic.net/cover/001/579/00157947.jpg?type=m5</td><td>22</td><td>6가지 컬러로 즐기는 비즈파티</td><td>[채, 색상, 소재, 가지, 비즈, 액세서리, 만들다, 법, 소개, 책, 의, 여섯, 가지, 색상, 이용, 비즈, 컬러, 매치, 방법, 제시, 있다, 또한, 비즈, 숍, 오픈...</td><td>채 색상 소재 비즈 액세서리 만들다 법 소개 책 의 여섯 색상 이용 비즈 컬러 매치 방법 제시 있다 또한 비즈 숍 오픈 다양하다 케이스 오픈 전 꼭 따지다 보아 하다 꼼꼼하다...</td></tr>\n",
       "<tr><td>배효숙</td><td>158126</td><td>가구/DIY</td><td>1648449400000</td><td>엄마가 직접 만들어주는 아이옷 DIY 소개서 주부인 저자가 주부의 시점에서 원피스나 멜빵바지 셔츠와 같이 간편하고 멋있게 만들 수 있는 아이옷을 만드는 방법을 사진과 함께 소...</td><td>https://bookthumb-phinf.pstatic.net/cover/001/581/00158126.jpg?type=m5</td><td>35</td><td>내 손으로 만드는 명품 아이옷 DIY</td><td>[엄마, 직접, 만들다, 아이, 옷, 소개, 주부, 저자, 주부, 시점, 원피스, 멜빵, 바지, 셔츠, 간편하다, 멋있다, 만들다, 수, 있다, 아이, 옷, 만들다, 방법, ...</td><td>엄마 직접 만들다 아이 옷 소개 주부 저자 주부 시점 원피스 멜빵 바지 셔츠 간편하다 멋있다 만들다 있다 아이 옷 만들다 방법 사진 소개 옷 만들기 위 노하우 패션 용어 풀이...</td></tr>\n",
       "<tr><td>편집부</td><td>158881</td><td>비즈/구슬공예</td><td>1648449266000</td><td>개성있는 비즈 인테리어 소품을 통해 집안 분위기를 로맨틱하게 꾸미는 방법을 소개한 책 꽃병 전등 갓 커튼 발 샹들리에 등 총 55개의 비즈 공예 만드는 법을 상세히 설명했다 ...</td><td>https://bookthumb-phinf.pstatic.net/cover/001/588/00158881.jpg?type=m5</td><td>34</td><td>비즈 인테리어 소품 55</td><td>[개성, 있다, 비즈, 인테리어, 소품, 통해, 집안, 분위기, 로맨틱, 하다, 꾸미다, 방법, 소개, 책, 꽃병, 전등, 갓, 커튼, 발, 샹들리, 등, 총, 개, 비즈, ...</td><td>개성 있다 비즈 인테리어 소품 통해 집안 분위기 로맨틱 하다 꾸미다 방법 소개 책 꽃병 전등 갓 커튼 발 샹들리 총 비즈 공예 만들다 법 상세 설명 하다 또한 비즈 종류 도구...</td></tr>\n",
       "<tr><td>박완서</td><td>180589</td><td>null</td><td>null</td><td>소설가 박완서의 단편동화 모음집 전기 용품 도매상의 꼬마 점원인 수남이가 도둑질도 나쁘지만 사람의 마음 속에 도사리고 있는 부도덕성이 얼마나 무서운지를 깨닫는 이야기인 표제작...</td><td>https://bookthumb-phinf.pstatic.net/cover/001/805/00180589.jpg?type=m5</td><td>63</td><td>자전거 도둑</td><td>[소설가, 박완서, 단편, 동화, 모음, 집, 전기, 용품, 도매, 상의, 꼬마, 점원, 남, 도둑질, 나쁘다, 사람, 마음, 속, 도, 사리, 있다, 부도덕, 얼마나, 무섭...</td><td>소설가 박완서 단편 동화 모음 전기 용품 도매 상의 꼬마 점원 남 도둑질 나쁘다 마음 도 사리 있다 부도덕 얼마나 무섭다 깨닫다 이야기 표 제작 자전거 도둑 비롯 하다 총 편...</td></tr>\n",
       "<tr><td>존 버거, 장 모르</td><td>185808</td><td>그림/포토 에세이</td><td>1647913248000</td><td>소설가 이자 극작가 그리고 다큐멘터리 작가인 존 버거가 유럽 이민노동자들의 대하여 이야기 하였다 그는 이민노동자의 경험의 윤곽 그리고 그것을 그 노동자를 둘러싸고 있는 물리적...</td><td>https://bookthumb-phinf.pstatic.net/cover/001/858/00185808.jpg?type=m5</td><td>23</td><td>제7의 인간</td><td>[소설가, 이자, 극작가, 다큐멘터리, 작가, 존, 버거, 유럽, 이민, 노동자, 대하, 이야기, 하다, 그, 이민, 노동자, 경험, 윤곽, 그것, 그, 노동자, 둘러싸다, ...</td><td>소설가 이자 극작가 다큐멘터리 작가 존 버거 유럽 이민 노동자 이야기 하다 이민 노동자 경험 윤곽 노동자 둘러싸다 있다 물리 역사 상황 관련 시키다 세계 정치 현실 파악 하다...</td></tr>\n",
       "<tr><td>이신화</td><td>191927</td><td>연극/영화</td><td>1648448151000</td><td>매회 최고 시청률 갱신 『스토브리그』 무삭제판 대본집 출간2020년 세상을 향해 통쾌한 한방을 날리다 모두의 편견을 깬 웰 메이드 야구 드라마 대한민국은 지금 〈스토브리그〉 ...</td><td>https://bookthumb-phinf.pstatic.net/cover/001/919/00191927.jpg?type=m5</td><td>31</td><td>스토브리그 대본집 1</td><td>[최고, 시청률, 갱신, 스토브, 리그, 무, 삭제, 판, 본집, 추다, 간, 세상, 향, 하다, 통쾌하다, 방, 날리다, 모두, 편견, 깨다, 웰, 메이드, 야구, 드라마,...</td><td>최고 시청률 갱신 스토브 리그 무 삭제 판 본집 추다 간 세상 향 하다 통쾌하다 방 날리다 모두 편견 깨다 웰 메이드 야구 드라마 대한민국 스토브 리그 신드롬 만년 꼴찌 팀 ...</td></tr>\n",
       "<tr><td>이신화</td><td>191928</td><td>테마소설</td><td>1647913042000</td><td>매회 최고 시청률 갱신 『스토브리그』 무삭제판 대본집 출간2020년 세상을 향해 통쾌한 한방을 날리다 모두의 편견을 깬 웰 메이드 야구 드라마 대한민국은 지금 〈스토브리그〉 ...</td><td>https://bookthumb-phinf.pstatic.net/cover/001/919/00191928.jpg?type=m5</td><td>34</td><td>스토브리그 대본집 2</td><td>[최고, 시청률, 갱신, 스토브, 리그, 무, 삭제, 판, 본집, 추다, 간, 세상, 향, 하다, 통쾌하다, 방, 날리다, 모두, 편견, 깨다, 웰, 메이드, 야구, 드라마,...</td><td>최고 시청률 갱신 스토브 리그 무 삭제 판 본집 추다 간 세상 향 하다 통쾌하다 방 날리다 모두 편견 깨다 웰 메이드 야구 드라마 대한민국 스토브 리그 신드롬 만년 꼴찌 팀 ...</td></tr>\n",
       "<tr><td>보먼트 뉴홀</td><td>273605</td><td>사진</td><td>1648448097000</td><td>수백 명의 유명작가들의 사진을 꼽아 가며 사진의 조류 및 그 전개상에 대한 총괄적인 연구를 제시하고 있는 책 세계 사진사에서 중요한 사진으로 평가받는 작품 삼백장이 실려 있으...</td><td>https://bookthumb-phinf.pstatic.net/cover/002/736/00273605.jpg?type=m5</td><td>8</td><td>사진의 역사</td><td>[수백, 명의, 유명, 작가, 사진, 꼽, 가다, 사진, 조류, 및, 그, 전개, 대한, 총괄, 연구, 제시, 있다, 책, 세계, 사진사, 중요하다, 사진, 평가, 받다, 작...</td><td>수백 명의 유명 작가 사진 꼽 가다 사진 조류 및 전개 대한 총괄 연구 제시 있다 책 세계 사진사 중요하다 사진 평가 받다 작품 삼백 실리다 있다 사진 탄생 세기 후반 전개 ...</td></tr>\n",
       "<tr><td>이복숙</td><td>1467782</td><td>비즈/구슬공예</td><td>1648449265000</td><td>나만의 개성을 연출하는 비즈를 기본기부터 고급 테크닉까지 난이도에 따라 누구나 손쉽게 배울 수 있는 책 소개된 내용에 따라 비즈를 한 알 한 알 골라 줄에 꿰어 귀엽고 사랑스...</td><td>https://bookthumb-phinf.pstatic.net/cover/014/677/01467782.jpg?type=m5</td><td>33</td><td>비즈 배우기</td><td>[나, 개성, 연출, 하다, 비즈, 본기, 고급, 테크닉, 난이도, 따르다, 누구, 손쉽다, 배우다, 수, 있다, 책, 소개, 되다, 내용, 따르다, 비즈, 하다, 알, 하다...</td><td>개성 연출 하다 비즈 본기 고급 테크닉 난이도 따르다 누구 손쉽다 배우다 있다 책 소개 되다 내용 따르다 비즈 하다 하다 고르다 줄 꿰어 귀엽다 사랑스럽다 액세서리 만들다 있...</td></tr>\n",
       "<tr><td>편집부</td><td>1487856</td><td>비즈/구슬공예</td><td>1648449264000</td><td>브라이덜 주얼리 동물 입체 모티브 고저스 액세서리 등의 비즈 액세서리를 만드는 법이 소개되어 있는 비즈 컬렉션 3 생생한 사진과 함께 비즈 작품을 만드는 법이 상세하게 설명되...</td><td>https://bookthumb-phinf.pstatic.net/cover/014/878/01487856.jpg?type=m5</td><td>32</td><td>비즈 컬렉션 3</td><td>[브라, 덜, 주얼리, 동물, 입체, 모티브, 스, 액세서리, 등, 비즈, 액세서리, 만들다, 법, 소개, 되어다, 있다, 비즈, 컬렉션, 생생하다, 사진, 비즈, 작품, 만...</td><td>브라 덜 주얼리 동물 입체 모티브 스 액세서리 비즈 액세서리 만들다 법 소개 되어다 있다 비즈 컬렉션 생생하다 사진 비즈 작품 만들다 법 상세 하다 설명 되어다 있다</td></tr>\n",
       "</table>\n",
       "only showing top 20 rows\n"
      ],
      "text/plain": [
       "+-----------------+-------+----------------+-------------+-------------------------------------------------------------------------------------------------------------------------------------------------------------------------------+----------------------------------------------------------------------+-------+-----------------------------------+----------------------------------------------------------------------------------------------------------------------------------------------------------+-------------------------------------------------------------------------------------------------------------------------------------------------------------------------+\n",
       "|           author|book_id|        category|         date|                                                                                                                                                                    description|                                                                 image|ranking|                              title|                                                                                                                                              preprocessed|                                                                                                                                                                    final|\n",
       "+-----------------+-------+----------------+-------------+-------------------------------------------------------------------------------------------------------------------------------------------------------------------------------+----------------------------------------------------------------------+-------+-----------------------------------+----------------------------------------------------------------------------------------------------------------------------------------------------------+-------------------------------------------------------------------------------------------------------------------------------------------------------------------------+\n",
       "|    토마스 불핀치|   2855|            신화|1648447114000|    중학생 독후감 필독선 시리즈 제13권 토마스 불핀치의 명작 그리스 로마 신화를 작품 알고 들어가기 내용 훑어보기 작품 분석하기 작가 들여다보기 시대와 연관짓기 작품 토론하기 ...|https://bookthumb-phinf.pstatic.net/cover/000/028/00002855.jpg?type=m5|     34|     중학생이 보는 그리스 로마 신화|    [중학생, 독후감, 필, 독선, 시리즈, 제, 권, 토마스, 불, 핀치, 명작, 그리스, 로마, 신화, 작품, 알, 들어가다, 내용, 훑어보기, 작품, 분석, 하다, 작가, ...| 중학생 독후감 필 독선 시리즈 제 권 토마스 불 핀치 명작 그리스 로마 신화 작품 들어가다 내용 훑어보기 작품 분석 하다 작가 들여다보다 시대 연관 짓다 작품 토론 하다 독후...|\n",
       "|효성출판사 편집부|  40565|        가구/DIY|1648449401000|                                                                        분위기기능에 따른 가구선택과 배치 주문가구 정보전국 5대 가구시장을 컬러화보 위주로 엮은 인테리어 무크지|https://bookthumb-phinf.pstatic.net/cover/000/405/00040565.jpg?type=m5|     37|                  소가구 & 수납가구|                                  [분위기, 기능, 따르다, 가구, 선택, 배치, 주문, 가구, 정보, 전국, 대다, 가구, 시장, 컬러, 화보, 위주, 엮, 인테리어, 무크]|                                                                     분위기 기능 따르다 가구 선택 배치 주문 가구 정보 전국 대다 가구 시장 컬러 화보 위주 엮 인테리어 무크|\n",
       "|   중앙M&B 편집부|  66769|        가구/DIY|1648449401000| 실내 벽에서 소품가구까지 활용 가능한 페인팅 기법 을 컬러사진과 함께 설명한 생활무크 페인팅에 필요 한 도구와 재료설명을 비롯해 색다르게 칠하는 페인팅기법리폼 및 장식 아이디...|https://bookthumb-phinf.pstatic.net/cover/000/667/00066769.jpg?type=m5|     36|     내 손으로 더 예쁘게 페인팅 DIY|    [실내, 벽, 소품, 가구, 활용, 가능하다, 페인, 팅, 기법, 컬러, 사진, 설명, 생활, 무크, 페인팅, 필요, 하다, 도구, 재료, 설명, 비롯, 하다, 색다르다, 칠...|  실내 벽 소품 가구 활용 가능하다 페인 팅 기법 컬러 사진 설명 생활 무크 페인팅 필요 하다 도구 재료 설명 비롯 하다 색다르다 칠하다 페인 팅기다 법리 폼 및 장식 아이디어...|\n",
       "|    제레미 리프킨| 118837|       경제/경영|         null|  산업 시대 초기에 석탄과 증기 기관이 새로운 경제 패러다임을 마련했듯이 이제 수소 에너지가 기존의 경제 정치 사회를 근본적으로 바꿀 것이라고 예견하는 경제서 노동의 종말 소유...|https://bookthumb-phinf.pstatic.net/cover/001/188/00118837.jpg?type=m5|     27|                          수소 혁명|    [산업, 시대, 초기, 석탄, 증기, 기관, 새롭다, 경제, 패러다임, 마련, 하다, 이제, 수소, 에너지, 기존, 경제, 정치, 사회, 근본, 바꾸다, 것, 예견, 하다, ...|  산업 시대 초기 석탄 증기 기관 새롭다 경제 패러다임 마련 하다 이제 수소 에너지 기존 경제 정치 근본 바꾸다 예견 하다 경제 노동 종말 소유 종말 저자 러미 리프킨 최신 작...|\n",
       "|           편집부| 149663|   비즈/구슬공예|1648449269000|  스와롭스키 비즈로 귀엽고 깜찍한 동물들을 만든다 꿰는 방법을 쉽게 이해하도록 평면도로 그려 놓았으며 완성된 크기와 사용할 비즈 낚싯줄 길이 공정도 꿰는 방법 등을 세세하게 기...|https://bookthumb-phinf.pstatic.net/cover/001/496/00149663.jpg?type=m5|     39|                        비즈 캐릭터|    [스, 롭스, 키, 비즈, 귀엽다, 깜찍하다, 동물, 만들다, 꿰, 방법, 쉬다, 이해, 하다, 평면도, 그리다, 놓다, 완성, 되다, 크기, 사용, 하다, 비즈, 낚싯줄, ...|   스 롭스 키 비즈 귀엽다 깜찍하다 동물 만들다 꿰 방법 쉬다 이해 하다 평면도 그리다 놓다 완성 되다 크기 사용 하다 비즈 낚싯줄 길이 공정 꿰 방법 세다 기록 하다 놓다 누...|\n",
       "|           노경민| 149664|   비즈/구슬공예|1648449268000|                비즈 공예 입문서이자 전문서 PART 1에서는 시작 마무리 규칙적인 기법 비즈의 기본적인 종류와 명칭 간단한 도구들에 대해 알아보며 PART 2에서는 진주 PART 3에서는 ...|https://bookthumb-phinf.pstatic.net/cover/001/496/00149664.jpg?type=m5|     38|                        비즈 주얼리|  [비즈, 공예, 입문, 이자, 전문, 시작, 마무리, 규칙, 기법, 비즈, 기본, 종류, 명칭, 간단하다, 도구, 대해, 알아보다, 진주, 크리스털, 이용, 하다, 기본, 기...| 비즈 공예 입문 이자 전문 시작 마무리 규칙 기법 비즈 기본 종류 명칭 간단하다 도구 대해 알아보다 진주 크리스털 이용 하다 기본 기법 비즈 공예 하다 법 대해 진주 크리스털...|\n",
       "|           편집부| 150897|   비즈/구슬공예|1648449270000|     비즈 만드는 법 303가지를 모아 엮었다 반지 목걸이 팔찌 귀걸이 등 다양한 악세사리 제작 방법과 비즈의 종류 등에 대하여 일목요연하게 기술하고 있으며 부재료 사용법과 게재작...|https://bookthumb-phinf.pstatic.net/cover/001/508/00150897.jpg?type=m5|     40|                   토탈 비즈 컬렉션|[비즈, 만들다, 법, 가지, 모으다, 엮었다, 반지, 목걸이, 팔찌, 귀걸이, 등, 다양하다, 악세사리, 제작, 방법, 비즈, 종류, 등, 대하, 일목요연하다, 기술, 있다...|비즈 만들다 법 모으다 엮었다 반지 목걸이 팔찌 귀걸이 다양하다 악세사리 제작 방법 비즈 종류 일목요연하다 기술 있다 부 재료 용법 게재 작품 제작 방법 대해 서도 상세 하다...|\n",
       "|  사메지마 다카코| 150950|   비즈/구슬공예|1648449268000|  세상에서 단 하나뿐인 나만의 보석 만들기 로맨틱한 디자인부터 귀엽고 깜찍한 디자인까지 반지 초커 피어스 목걸이 핸드폰 줄 헤어 핀 등을 이용하여 사랑스럽고 기품있는 비즈 쥬얼...|https://bookthumb-phinf.pstatic.net/cover/001/509/00150950.jpg?type=m5|     37|                      프린세스 비즈|    [세상, 단, 하나, 나, 보석, 만들기, 로맨틱, 디자인, 귀엽다, 깜찍하다, 디자인, 반지, 초, 크다, 피어스, 목걸이, 핸드폰, 줄, 헤어, 핀, 등, 이용, 하다, ...|세상 단 보석 만들기 로맨틱 디자인 귀엽다 깜찍하다 디자인 반지 초 크다 피어스 목걸이 핸드폰 줄 헤어 핀 이용 하다 사랑스럽다 기품 있다 비즈 쥬얼리 만들다 있다 기본 아이...|\n",
       "|서울문화사 편집부| 155380|   비즈/구슬공예|1648449267000|   3천원으로 제작하는 명품 스타일 비즈 액세서리 이 책은 비즈로 팔찌 발찌 반지 브로치 등의 액세서리를 포함해서 핸드폰줄과 키홀더 등도 제작할 수 있도록 구성되었다 종류별로 구...|https://bookthumb-phinf.pstatic.net/cover/001/553/00155380.jpg?type=m5|     35|3천원으로 명품 스타일 비즈 액세서리|     [제작, 하다, 명품, 스타일, 비즈, 액세서리, 이, 책, 비즈, 팔찌, 발찌, 반지, 브로치, 등, 액세서리, 포함, 하다, 핸드폰, 줄, 키홀, 더, 등, 제작, 하다,...|  제작 하다 명품 스타일 비즈 액세서리 책 비즈 팔찌 발찌 반지 브로치 액세서리 포함 하다 핸드폰 줄 키홀 제작 하다 있다 구성 되어다 종류 별로 구별 하다 놓다 찾기 쉬다 해...|\n",
       "|서울문화사 편집부| 155381|   비즈/구슬공예|1648449267000|       탄생석 목걸이 · 귀고리 96가지 이 책은 비즈로 목걸이와 귀고리를 제작할 수 있도록 구성되었다 목걸이 귀고리 목걸이  귀고리 세트로 구별해 놓아 찾기 쉽게 해 놓았으며 작품...|https://bookthumb-phinf.pstatic.net/cover/001/553/00155381.jpg?type=m5|     36|                   행운 부르는 비즈|  [탄생석, 목걸이, 귀고리, 가지, 이, 책, 비즈, 목걸이, 귀고리, 제작, 하다, 수, 있다, 구성, 되어다, 목걸이, 귀고리, 목걸이, 귀고리, 세트, 구별, 하다, 놓...| 탄생석 목걸이 귀고리 책 비즈 목걸이 귀고리 제작 하다 있다 구성 되어다 목걸이 귀고리 목걸이 귀고리 세트 구별 하다 놓다 찾기 쉬다 해 놓다 작품 난이도 제작 하다 표시 하...|\n",
       "|           조재교| 157947|   비즈/구슬공예|1648449257000|                            다채로운 색상과 소재의 63가지 비즈 액세서리 만드는 법을 소개한 책 blue green pnk red black white의 여섯 가지 색상을 이용한 비즈 컬러 매치 방법을...|https://bookthumb-phinf.pstatic.net/cover/001/579/00157947.jpg?type=m5|     22|       6가지 컬러로 즐기는 비즈파티|      [채, 색상, 소재, 가지, 비즈, 액세서리, 만들다, 법, 소개, 책, 의, 여섯, 가지, 색상, 이용, 비즈, 컬러, 매치, 방법, 제시, 있다, 또한, 비즈, 숍, 오픈...|   채 색상 소재 비즈 액세서리 만들다 법 소개 책 의 여섯 색상 이용 비즈 컬러 매치 방법 제시 있다 또한 비즈 숍 오픈 다양하다 케이스 오픈 전 꼭 따지다 보아 하다 꼼꼼하다...|\n",
       "|           배효숙| 158126|        가구/DIY|1648449400000|     엄마가 직접 만들어주는 아이옷 DIY 소개서 주부인 저자가 주부의 시점에서 원피스나 멜빵바지 셔츠와 같이 간편하고 멋있게 만들 수 있는 아이옷을 만드는 방법을 사진과 함께 소...|https://bookthumb-phinf.pstatic.net/cover/001/581/00158126.jpg?type=m5|     35|   내 손으로 만드는 명품 아이옷 DIY|    [엄마, 직접, 만들다, 아이, 옷, 소개, 주부, 저자, 주부, 시점, 원피스, 멜빵, 바지, 셔츠, 간편하다, 멋있다, 만들다, 수, 있다, 아이, 옷, 만들다, 방법, ...|  엄마 직접 만들다 아이 옷 소개 주부 저자 주부 시점 원피스 멜빵 바지 셔츠 간편하다 멋있다 만들다 있다 아이 옷 만들다 방법 사진 소개 옷 만들기 위 노하우 패션 용어 풀이...|\n",
       "|           편집부| 158881|   비즈/구슬공예|1648449266000|       개성있는 비즈 인테리어 소품을 통해 집안 분위기를 로맨틱하게 꾸미는 방법을 소개한 책 꽃병 전등 갓 커튼 발 샹들리에 등 총 55개의 비즈 공예 만드는 법을 상세히 설명했다 ...|https://bookthumb-phinf.pstatic.net/cover/001/588/00158881.jpg?type=m5|     34|              비즈 인테리어 소품 55|      [개성, 있다, 비즈, 인테리어, 소품, 통해, 집안, 분위기, 로맨틱, 하다, 꾸미다, 방법, 소개, 책, 꽃병, 전등, 갓, 커튼, 발, 샹들리, 등, 총, 개, 비즈, ...|   개성 있다 비즈 인테리어 소품 통해 집안 분위기 로맨틱 하다 꾸미다 방법 소개 책 꽃병 전등 갓 커튼 발 샹들리 총 비즈 공예 만들다 법 상세 설명 하다 또한 비즈 종류 도구...|\n",
       "|           박완서| 180589|            null|         null|소설가 박완서의 단편동화 모음집 전기 용품 도매상의 꼬마 점원인 수남이가 도둑질도 나쁘지만 사람의 마음 속에 도사리고 있는 부도덕성이 얼마나 무서운지를 깨닫는 이야기인 표제작...|https://bookthumb-phinf.pstatic.net/cover/001/805/00180589.jpg?type=m5|     63|                        자전거 도둑|    [소설가, 박완서, 단편, 동화, 모음, 집, 전기, 용품, 도매, 상의, 꼬마, 점원, 남, 도둑질, 나쁘다, 사람, 마음, 속, 도, 사리, 있다, 부도덕, 얼마나, 무섭...|  소설가 박완서 단편 동화 모음 전기 용품 도매 상의 꼬마 점원 남 도둑질 나쁘다 마음 도 사리 있다 부도덕 얼마나 무섭다 깨닫다 이야기 표 제작 자전거 도둑 비롯 하다 총 편...|\n",
       "| 존 버거, 장 모르| 185808|그림/포토 에세이|1647913248000| 소설가 이자 극작가 그리고 다큐멘터리 작가인 존 버거가 유럽 이민노동자들의 대하여 이야기 하였다 그는 이민노동자의 경험의 윤곽 그리고 그것을 그 노동자를 둘러싸고 있는 물리적...|https://bookthumb-phinf.pstatic.net/cover/001/858/00185808.jpg?type=m5|     23|                         제7의 인간|  [소설가, 이자, 극작가, 다큐멘터리, 작가, 존, 버거, 유럽, 이민, 노동자, 대하, 이야기, 하다, 그, 이민, 노동자, 경험, 윤곽, 그것, 그, 노동자, 둘러싸다, ...|소설가 이자 극작가 다큐멘터리 작가 존 버거 유럽 이민 노동자 이야기 하다 이민 노동자 경험 윤곽 노동자 둘러싸다 있다 물리 역사 상황 관련 시키다 세계 정치 현실 파악 하다...|\n",
       "|           이신화| 191927|       연극/영화|1648448151000|     매회 최고 시청률 갱신 『스토브리그』 무삭제판 대본집 출간2020년 세상을 향해 통쾌한 한방을 날리다 모두의 편견을 깬 웰 메이드 야구 드라마 대한민국은 지금 〈스토브리그〉 ...|https://bookthumb-phinf.pstatic.net/cover/001/919/00191927.jpg?type=m5|     31|                스토브리그 대본집 1|     [최고, 시청률, 갱신, 스토브, 리그, 무, 삭제, 판, 본집, 추다, 간, 세상, 향, 하다, 통쾌하다, 방, 날리다, 모두, 편견, 깨다, 웰, 메이드, 야구, 드라마,...|   최고 시청률 갱신 스토브 리그 무 삭제 판 본집 추다 간 세상 향 하다 통쾌하다 방 날리다 모두 편견 깨다 웰 메이드 야구 드라마 대한민국 스토브 리그 신드롬 만년 꼴찌 팀 ...|\n",
       "|           이신화| 191928|        테마소설|1647913042000|     매회 최고 시청률 갱신 『스토브리그』 무삭제판 대본집 출간2020년 세상을 향해 통쾌한 한방을 날리다 모두의 편견을 깬 웰 메이드 야구 드라마 대한민국은 지금 〈스토브리그〉 ...|https://bookthumb-phinf.pstatic.net/cover/001/919/00191928.jpg?type=m5|     34|                스토브리그 대본집 2|     [최고, 시청률, 갱신, 스토브, 리그, 무, 삭제, 판, 본집, 추다, 간, 세상, 향, 하다, 통쾌하다, 방, 날리다, 모두, 편견, 깨다, 웰, 메이드, 야구, 드라마,...|   최고 시청률 갱신 스토브 리그 무 삭제 판 본집 추다 간 세상 향 하다 통쾌하다 방 날리다 모두 편견 깨다 웰 메이드 야구 드라마 대한민국 스토브 리그 신드롬 만년 꼴찌 팀 ...|\n",
       "|      보먼트 뉴홀| 273605|            사진|1648448097000|   수백 명의 유명작가들의 사진을 꼽아 가며 사진의 조류 및 그 전개상에 대한 총괄적인 연구를 제시하고 있는 책 세계 사진사에서 중요한 사진으로 평가받는 작품 삼백장이 실려 있으...|https://bookthumb-phinf.pstatic.net/cover/002/736/00273605.jpg?type=m5|      8|                        사진의 역사|      [수백, 명의, 유명, 작가, 사진, 꼽, 가다, 사진, 조류, 및, 그, 전개, 대한, 총괄, 연구, 제시, 있다, 책, 세계, 사진사, 중요하다, 사진, 평가, 받다, 작...|    수백 명의 유명 작가 사진 꼽 가다 사진 조류 및 전개 대한 총괄 연구 제시 있다 책 세계 사진사 중요하다 사진 평가 받다 작품 삼백 실리다 있다 사진 탄생 세기 후반 전개 ...|\n",
       "|           이복숙|1467782|   비즈/구슬공예|1648449265000|     나만의 개성을 연출하는 비즈를 기본기부터 고급 테크닉까지 난이도에 따라 누구나 손쉽게 배울 수 있는 책 소개된 내용에 따라 비즈를 한 알 한 알 골라 줄에 꿰어 귀엽고 사랑스...|https://bookthumb-phinf.pstatic.net/cover/014/677/01467782.jpg?type=m5|     33|                        비즈 배우기|    [나, 개성, 연출, 하다, 비즈, 본기, 고급, 테크닉, 난이도, 따르다, 누구, 손쉽다, 배우다, 수, 있다, 책, 소개, 되다, 내용, 따르다, 비즈, 하다, 알, 하다...|개성 연출 하다 비즈 본기 고급 테크닉 난이도 따르다 누구 손쉽다 배우다 있다 책 소개 되다 내용 따르다 비즈 하다 하다 고르다 줄 꿰어 귀엽다 사랑스럽다 액세서리 만들다 있...|\n",
       "|           편집부|1487856|   비즈/구슬공예|1648449264000|    브라이덜 주얼리 동물 입체 모티브 고저스 액세서리 등의 비즈 액세서리를 만드는 법이 소개되어 있는 비즈 컬렉션 3 생생한 사진과 함께 비즈 작품을 만드는 법이 상세하게 설명되...|https://bookthumb-phinf.pstatic.net/cover/014/878/01487856.jpg?type=m5|     32|                      비즈 컬렉션 3|  [브라, 덜, 주얼리, 동물, 입체, 모티브, 스, 액세서리, 등, 비즈, 액세서리, 만들다, 법, 소개, 되어다, 있다, 비즈, 컬렉션, 생생하다, 사진, 비즈, 작품, 만...|            브라 덜 주얼리 동물 입체 모티브 스 액세서리 비즈 액세서리 만들다 법 소개 되어다 있다 비즈 컬렉션 생생하다 사진 비즈 작품 만들다 법 상세 하다 설명 되어다 있다|\n",
       "+-----------------+-------+----------------+-------------+-------------------------------------------------------------------------------------------------------------------------------------------------------------------------------+----------------------------------------------------------------------+-------+-----------------------------------+----------------------------------------------------------------------------------------------------------------------------------------------------------+-------------------------------------------------------------------------------------------------------------------------------------------------------------------------+\n",
       "only showing top 20 rows"
      ]
     },
     "execution_count": 35,
     "metadata": {},
     "output_type": "execute_result"
    }
   ],
   "source": [
    "tmp2"
   ]
  },
  {
   "cell_type": "code",
   "execution_count": 39,
   "id": "7a539681-1f55-47e5-8076-f44c1339e850",
   "metadata": {
    "scrolled": true,
    "tags": []
   },
   "outputs": [
    {
     "name": "stderr",
     "output_type": "stream",
     "text": [
      "                                                                                \r"
     ]
    },
    {
     "data": {
      "text/html": [
       "<table border='1'>\n",
       "<tr><th>final</th></tr>\n",
       "<tr><td>중학생 독후감 필 독선 시리즈 권 토마스 불 핀치 명작 그리스 로마 신화 작품 들어가다 내용 훑어보기 작품 분석 작가 들여다보다 시대 연관 짓다 작품 토론 독후감 예시 독후감...</td></tr>\n",
       "<tr><td>분위기 기능 따르다 가구 선택 배치 주문 가구 정보 전국 대다 가구 시장 컬러 화보 위주 엮 인테리어 무크</td></tr>\n",
       "<tr><td>실내 벽 소품 가구 활용 가능하다 페인 팅 기법 컬러 사진 설명 생활 무크 페인팅 필요 도구 재료 설명 비롯 색다르다 칠하다 페인 팅기다 법리 폼 장식 아이디어 소개</td></tr>\n",
       "<tr><td>산업 시대 초기 석탄 증기 기관 새롭다 경제 패러다임 마련 이제 수소 에너지 기존 경제 정치 근본 바꾸다 예견 경제 노동 종말 소유 종말 저자 러미 리프킨 최신 작 작가 책 ...</td></tr>\n",
       "<tr><td>스 롭스 키 비즈 귀엽다 깜찍하다 동물 만들다 꿰 방법 쉬다 이해 평면도 그리다 놓다 완성 크기 사용 비즈 낚싯줄 길이 공정 꿰 방법 세다 기록 놓다 쉬다 작품 만들다</td></tr>\n",
       "<tr><td>비즈 공예 입문 이자 전문 시작 마무리 규칙 기법 비즈 기본 종류 명칭 간단하다 도구 알아보다 진주 크리스털 이용 기본 기법 비즈 공예 법 진주 크리스털 재료 매치 작품 만들...</td></tr>\n",
       "<tr><td>비즈 만들다 법 모으다 엮었다 반지 목걸이 팔찌 귀걸이 다양하다 악세사리 제작 방법 비즈 종류 일목요연하다 기술 부 재료 용법 게재 작품 제작 방법 서도 상세 서술</td></tr>\n",
       "<tr><td>세상 단 보석 만들기 로맨틱 디자인 귀엽다 깜찍하다 디자인 반지 초 크다 피어스 목걸이 핸드폰 헤어 핀 이용 사랑스럽다 기품 비즈 쥬얼리 만들다 기본 아이템 중심 다양하다 액...</td></tr>\n",
       "<tr><td>제작 명품 스타일 비즈 액세서리 책 비즈 팔찌 발찌 반지 브로치 액세서리 포함 핸드폰 키홀 제작 구성 되어다 종류 별로 구별 놓다 찾기 쉬다 해 놓다 작품 난이도 제작 표시 ...</td></tr>\n",
       "<tr><td>탄생석 목걸이 귀고리 책 비즈 목걸이 귀고리 제작 구성 되어다 목걸이 귀고리 목걸이 귀고리 세트 구별 놓다 찾기 쉬다 해 놓다 작품 난이도 제작 표시 관련 그림 사진 풍부하다 수록</td></tr>\n",
       "<tr><td>채 색상 소재 비즈 액세서리 만들다 법 소개 책 색상 이용 비즈 컬러 매치 방법 제시 비즈 숍 오픈 다양하다 케이스 오픈 꼭 따지다 꼼꼼하다 정보 실었다</td></tr>\n",
       "<tr><td>엄마 직접 만들다 옷 소개 주부 저자 주부 시점 원피스 멜빵 바지 셔츠 간편하다 멋있다 만들다 옷 만들다 방법 사진 소개 옷 만들기 위 노하우 패션 용어 풀이 시접 처리 법 ...</td></tr>\n",
       "<tr><td>개성 비즈 인테리어 소품 통해 집안 분위기 로맨틱 꾸미다 방법 소개 책 꽃병 전등 갓 커튼 발 샹들리 총 비즈 공예 만들다 법 상세 설명 비즈 종류 도구 비즈 사용 어울리다 ...</td></tr>\n",
       "<tr><td>소설가 박완서 단편 동화 모음 전기 용품 도매 상의 꼬마 점원 남 도둑질 나쁘다 마음 도 사리 부도덕 무섭다 깨닫다 이야기 표 제작 자전거 도둑 비롯 총 편의 단편 화가 실리...</td></tr>\n",
       "<tr><td>소설가 이자 극작가 다큐멘터리 작가 존 버거 유럽 이민 노동자 이야기 이민 노동자 경험 윤곽 노동자 둘러싸다 물리 역사 상황 관련 세계 정치 현실 파악 부자유 다루다 부자유 ...</td></tr>\n",
       "<tr><td>최고 시청률 갱신 스토브 리그 무 삭제 판 본집 추다 간 세상 향 통쾌하다 방 날리다 편견 깨다 웰 메이드 야구 드라마 대한민국 스토브 리그 신드롬 만년 꼴찌 팀 드림 부임 ...</td></tr>\n",
       "<tr><td>최고 시청률 갱신 스토브 리그 무 삭제 판 본집 추다 간 세상 향 통쾌하다 방 날리다 편견 깨다 웰 메이드 야구 드라마 대한민국 스토브 리그 신드롬 만년 꼴찌 팀 드림 부임 ...</td></tr>\n",
       "<tr><td>수백 명의 유명 작가 사진 꼽 가다 사진 조류 전개 대한 총괄 연구 제시 책 세계 사진사 중요하다 사진 평가 받다 작품 삼백 실리다 사진 탄생 세기 후반 전개 과정 망 저자 ...</td></tr>\n",
       "<tr><td>개성 연출 비즈 본기 고급 테크닉 난이도 따르다 손쉽다 배우다 책 소개 내용 따르다 비즈 고르다 꿰어 귀엽다 사랑스럽다 액세서리 만들다 책 초보자 쉬다 빠르다 따르다 본기 차...</td></tr>\n",
       "<tr><td>브라 덜 주얼리 동물 입체 모티브 스 액세서리 비즈 액세서리 만들다 법 소개 되어다 비즈 컬렉션 생생하다 사진 비즈 작품 만들다 법 상세 설명 되어다</td></tr>\n",
       "</table>\n",
       "only showing top 20 rows\n"
      ],
      "text/plain": [
       "+---------------------------------------------------------------------------------------------------------------------------------------------------------------------------+\n",
       "|                                                                                                                                                                      final|\n",
       "+---------------------------------------------------------------------------------------------------------------------------------------------------------------------------+\n",
       "|  중학생 독후감 필 독선 시리즈 권 토마스 불 핀치 명작 그리스 로마 신화 작품 들어가다 내용 훑어보기 작품 분석 작가 들여다보다 시대 연관 짓다 작품 토론 독후감 예시 독후감...|\n",
       "|                                                                       분위기 기능 따르다 가구 선택 배치 주문 가구 정보 전국 대다 가구 시장 컬러 화보 위주 엮 인테리어 무크|\n",
       "|               실내 벽 소품 가구 활용 가능하다 페인 팅 기법 컬러 사진 설명 생활 무크 페인팅 필요 도구 재료 설명 비롯 색다르다 칠하다 페인 팅기다 법리 폼 장식 아이디어 소개|\n",
       "|     산업 시대 초기 석탄 증기 기관 새롭다 경제 패러다임 마련 이제 수소 에너지 기존 경제 정치 근본 바꾸다 예견 경제 노동 종말 소유 종말 저자 러미 리프킨 최신 작 작가 책 ...|\n",
       "|              스 롭스 키 비즈 귀엽다 깜찍하다 동물 만들다 꿰 방법 쉬다 이해 평면도 그리다 놓다 완성 크기 사용 비즈 낚싯줄 길이 공정 꿰 방법 세다 기록 놓다 쉬다 작품 만들다|\n",
       "|   비즈 공예 입문 이자 전문 시작 마무리 규칙 기법 비즈 기본 종류 명칭 간단하다 도구 알아보다 진주 크리스털 이용 기본 기법 비즈 공예 법 진주 크리스털 재료 매치 작품 만들...|\n",
       "|               비즈 만들다 법 모으다 엮었다 반지 목걸이 팔찌 귀걸이 다양하다 악세사리 제작 방법 비즈 종류 일목요연하다 기술 부 재료 용법 게재 작품 제작 방법 서도 상세 서술|\n",
       "| 세상 단 보석 만들기 로맨틱 디자인 귀엽다 깜찍하다 디자인 반지 초 크다 피어스 목걸이 핸드폰 헤어 핀 이용 사랑스럽다 기품 비즈 쥬얼리 만들다 기본 아이템 중심 다양하다 액...|\n",
       "|    제작 명품 스타일 비즈 액세서리 책 비즈 팔찌 발찌 반지 브로치 액세서리 포함 핸드폰 키홀 제작 구성 되어다 종류 별로 구별 놓다 찾기 쉬다 해 놓다 작품 난이도 제작 표시 ...|\n",
       "|탄생석 목걸이 귀고리 책 비즈 목걸이 귀고리 제작 구성 되어다 목걸이 귀고리 목걸이 귀고리 세트 구별 놓다 찾기 쉬다 해 놓다 작품 난이도 제작 표시 관련 그림 사진 풍부하다 수록|\n",
       "|                           채 색상 소재 비즈 액세서리 만들다 법 소개 책 색상 이용 비즈 컬러 매치 방법 제시 비즈 숍 오픈 다양하다 케이스 오픈 꼭 따지다 꼼꼼하다 정보 실었다|\n",
       "|     엄마 직접 만들다 옷 소개 주부 저자 주부 시점 원피스 멜빵 바지 셔츠 간편하다 멋있다 만들다 옷 만들다 방법 사진 소개 옷 만들기 위 노하우 패션 용어 풀이 시접 처리 법 ...|\n",
       "|     개성 비즈 인테리어 소품 통해 집안 분위기 로맨틱 꾸미다 방법 소개 책 꽃병 전등 갓 커튼 발 샹들리 총 비즈 공예 만들다 법 상세 설명 비즈 종류 도구 비즈 사용 어울리다 ...|\n",
       "|    소설가 박완서 단편 동화 모음 전기 용품 도매 상의 꼬마 점원 남 도둑질 나쁘다 마음 도 사리 부도덕 무섭다 깨닫다 이야기 표 제작 자전거 도둑 비롯 총 편의 단편 화가 실리...|\n",
       "|  소설가 이자 극작가 다큐멘터리 작가 존 버거 유럽 이민 노동자 이야기 이민 노동자 경험 윤곽 노동자 둘러싸다 물리 역사 상황 관련 세계 정치 현실 파악 부자유 다루다 부자유 ...|\n",
       "|     최고 시청률 갱신 스토브 리그 무 삭제 판 본집 추다 간 세상 향 통쾌하다 방 날리다 편견 깨다 웰 메이드 야구 드라마 대한민국 스토브 리그 신드롬 만년 꼴찌 팀 드림 부임 ...|\n",
       "|     최고 시청률 갱신 스토브 리그 무 삭제 판 본집 추다 간 세상 향 통쾌하다 방 날리다 편견 깨다 웰 메이드 야구 드라마 대한민국 스토브 리그 신드롬 만년 꼴찌 팀 드림 부임 ...|\n",
       "|      수백 명의 유명 작가 사진 꼽 가다 사진 조류 전개 대한 총괄 연구 제시 책 세계 사진사 중요하다 사진 평가 받다 작품 삼백 실리다 사진 탄생 세기 후반 전개 과정 망 저자 ...|\n",
       "| 개성 연출 비즈 본기 고급 테크닉 난이도 따르다 손쉽다 배우다 책 소개 내용 따르다 비즈 고르다 꿰어 귀엽다 사랑스럽다 액세서리 만들다 책 초보자 쉬다 빠르다 따르다 본기 차...|\n",
       "|                             브라 덜 주얼리 동물 입체 모티브 스 액세서리 비즈 액세서리 만들다 법 소개 되어다 비즈 컬렉션 생생하다 사진 비즈 작품 만들다 법 상세 설명 되어다|\n",
       "+---------------------------------------------------------------------------------------------------------------------------------------------------------------------------+\n",
       "only showing top 20 rows"
      ]
     },
     "execution_count": 39,
     "metadata": {},
     "output_type": "execute_result"
    }
   ],
   "source": [
    "tmp2.select('final')"
   ]
  },
  {
   "cell_type": "code",
   "execution_count": null,
   "id": "bbb0d70d-b453-47e8-8aff-7ed600be3b5c",
   "metadata": {
    "scrolled": true,
    "tags": []
   },
   "outputs": [],
   "source": [
    "tmp2.select('preprocessed').collect()"
   ]
  },
  {
   "cell_type": "markdown",
   "id": "5988beed-2c79-4c25-8c6c-5ecfb8e6341e",
   "metadata": {},
   "source": [
    "#### 조사, 어간, 불용어 모두 제거"
   ]
  },
  {
   "cell_type": "code",
   "execution_count": 40,
   "id": "847b31d2-3419-400c-bd99-56aabd2ab57c",
   "metadata": {},
   "outputs": [],
   "source": [
    "from nltk.corpus import stopwords\n",
    "from nltk.tokenize import word_tokenize \n",
    "from konlpy.tag import Okt\n",
    "from pyspark.sql.types import StringType\n",
    "from pyspark.sql.functions import udf\n",
    "import numpy"
   ]
  },
  {
   "cell_type": "code",
   "execution_count": 67,
   "id": "897f8ef9-1842-4c5d-ac81-4bfaa538f686",
   "metadata": {},
   "outputs": [
    {
     "name": "stderr",
     "output_type": "stream",
     "text": [
      "22/04/23 09:35:17 WARN SimpleFunctionRegistry: The function colsclean replaced a previously registered function.\n"
     ]
    }
   ],
   "source": [
    "colsClean = udf(lambda z : clean(z), ArrayType(StringType()))\n",
    "spark.udf.register(\"colsClean\", colsClean)\n",
    "\n",
    "def clean(s):\n",
    "    okt = Okt()\n",
    "    clean_words = []\n",
    "    for word in okt.pos(s, stem=True):\n",
    "        if word[1] in ['Noun', 'Verb', 'Adjective']:\n",
    "            if word[0] not in stopwords:\n",
    "                clean_words.append(word[0])\n",
    "    return clean_words\n",
    "   \n",
    "with open(\"stopwords_kor.txt\", 'r') as f:\n",
    "    stopwords = f.readlines()\n",
    "stopwords = str(stopwords[0]).split(\" \")\n",
    "stopwords = numpy.array(stopwords)\n",
    "processed_book = book.withColumn('preprocessed', colsClean('description'))"
   ]
  },
  {
   "cell_type": "code",
   "execution_count": 68,
   "id": "18271751-341d-4ef6-b1d5-660495645dc7",
   "metadata": {
    "scrolled": true,
    "tags": []
   },
   "outputs": [
    {
     "name": "stderr",
     "output_type": "stream",
     "text": [
      "                                                                                \r"
     ]
    },
    {
     "data": {
      "text/html": [
       "<table border='1'>\n",
       "<tr><th>author</th><th>book_id</th><th>category</th><th>date</th><th>description</th><th>image</th><th>ranking</th><th>title</th><th>preprocessed</th></tr>\n",
       "<tr><td>토마스 불핀치</td><td>2855</td><td>신화</td><td>1648447114000</td><td>중학생 독후감 필독선 시리즈 제13권 토마스 불핀치의 명작 그리스 로마 신화를 작품 알고 들어가기 내용 훑어보기 작품 분석하기 작가 들여다보기 시대와 연관짓기 작품 토론하기 ...</td><td>https://bookthumb-phinf.pstatic.net/cover/000/028/00002855.jpg?type=m5</td><td>34</td><td>중학생이 보는 그리스 로마 신화</td><td>[중학생, 독후감, 필, 독선, 시리즈, 권, 토마스, 불, 핀치, 명작, 그리스, 로마, 신화, 작품, 들어가다, 내용, 훑어보기, 작품, 분석, 작가, 들여다보다, 시대,...</td></tr>\n",
       "<tr><td>효성출판사 편집부</td><td>40565</td><td>가구/DIY</td><td>1648449401000</td><td>분위기기능에 따른 가구선택과 배치 주문가구 정보전국 5대 가구시장을 컬러화보 위주로 엮은 인테리어 무크지</td><td>https://bookthumb-phinf.pstatic.net/cover/000/405/00040565.jpg?type=m5</td><td>37</td><td>소가구 &amp; 수납가구</td><td>[분위기, 기능, 따르다, 가구, 선택, 배치, 주문, 가구, 정보, 전국, 대다, 가구, 시장, 컬러, 화보, 위주, 엮, 인테리어, 무크]</td></tr>\n",
       "<tr><td>중앙M&amp;B 편집부</td><td>66769</td><td>가구/DIY</td><td>1648449401000</td><td>실내 벽에서 소품가구까지 활용 가능한 페인팅 기법 을 컬러사진과 함께 설명한 생활무크 페인팅에 필요 한 도구와 재료설명을 비롯해 색다르게 칠하는 페인팅기법리폼 및 장식 아이디...</td><td>https://bookthumb-phinf.pstatic.net/cover/000/667/00066769.jpg?type=m5</td><td>36</td><td>내 손으로 더 예쁘게 페인팅 DIY</td><td>[실내, 벽, 소품, 가구, 활용, 가능하다, 페인, 팅, 기법, 컬러, 사진, 설명, 생활, 무크, 페인팅, 필요, 도구, 재료, 설명, 비롯, 색다르다, 칠하다, 페인, ...</td></tr>\n",
       "<tr><td>제레미 리프킨</td><td>118837</td><td>경제/경영</td><td>null</td><td>산업 시대 초기에 석탄과 증기 기관이 새로운 경제 패러다임을 마련했듯이 이제 수소 에너지가 기존의 경제 정치 사회를 근본적으로 바꿀 것이라고 예견하는 경제서 노동의 종말 소유...</td><td>https://bookthumb-phinf.pstatic.net/cover/001/188/00118837.jpg?type=m5</td><td>27</td><td>수소 혁명</td><td>[산업, 시대, 초기, 석탄, 증기, 기관, 새롭다, 경제, 패러다임, 마련, 이제, 수소, 에너지, 기존, 경제, 정치, 근본, 바꾸다, 예견, 경제, 노동, 종말, 소유,...</td></tr>\n",
       "<tr><td>편집부</td><td>149663</td><td>비즈/구슬공예</td><td>1648449269000</td><td>스와롭스키 비즈로 귀엽고 깜찍한 동물들을 만든다 꿰는 방법을 쉽게 이해하도록 평면도로 그려 놓았으며 완성된 크기와 사용할 비즈 낚싯줄 길이 공정도 꿰는 방법 등을 세세하게 기...</td><td>https://bookthumb-phinf.pstatic.net/cover/001/496/00149663.jpg?type=m5</td><td>39</td><td>비즈 캐릭터</td><td>[스, 롭스, 키, 비즈, 귀엽다, 깜찍하다, 동물, 만들다, 꿰, 방법, 쉬다, 이해, 평면도, 그리다, 놓다, 완성, 크기, 사용, 비즈, 낚싯줄, 길이, 공정, 꿰, 방...</td></tr>\n",
       "<tr><td>노경민</td><td>149664</td><td>비즈/구슬공예</td><td>1648449268000</td><td>비즈 공예 입문서이자 전문서 PART 1에서는 시작 마무리 규칙적인 기법 비즈의 기본적인 종류와 명칭 간단한 도구들에 대해 알아보며 PART 2에서는 진주 PART 3에서는 ...</td><td>https://bookthumb-phinf.pstatic.net/cover/001/496/00149664.jpg?type=m5</td><td>38</td><td>비즈 주얼리</td><td>[비즈, 공예, 입문, 이자, 전문, 시작, 마무리, 규칙, 기법, 비즈, 기본, 종류, 명칭, 간단하다, 도구, 알아보다, 진주, 크리스털, 이용, 기본, 기법, 비즈, 공...</td></tr>\n",
       "<tr><td>편집부</td><td>150897</td><td>비즈/구슬공예</td><td>1648449270000</td><td>비즈 만드는 법 303가지를 모아 엮었다 반지 목걸이 팔찌 귀걸이 등 다양한 악세사리 제작 방법과 비즈의 종류 등에 대하여 일목요연하게 기술하고 있으며 부재료 사용법과 게재작...</td><td>https://bookthumb-phinf.pstatic.net/cover/001/508/00150897.jpg?type=m5</td><td>40</td><td>토탈 비즈 컬렉션</td><td>[비즈, 만들다, 법, 모으다, 엮었다, 반지, 목걸이, 팔찌, 귀걸이, 다양하다, 악세사리, 제작, 방법, 비즈, 종류, 일목요연하다, 기술, 부, 재료, 용법, 게재, 작...</td></tr>\n",
       "<tr><td>사메지마 다카코</td><td>150950</td><td>비즈/구슬공예</td><td>1648449268000</td><td>세상에서 단 하나뿐인 나만의 보석 만들기 로맨틱한 디자인부터 귀엽고 깜찍한 디자인까지 반지 초커 피어스 목걸이 핸드폰 줄 헤어 핀 등을 이용하여 사랑스럽고 기품있는 비즈 쥬얼...</td><td>https://bookthumb-phinf.pstatic.net/cover/001/509/00150950.jpg?type=m5</td><td>37</td><td>프린세스 비즈</td><td>[세상, 단, 보석, 만들기, 로맨틱, 디자인, 귀엽다, 깜찍하다, 디자인, 반지, 초, 크다, 피어스, 목걸이, 핸드폰, 헤어, 핀, 이용, 사랑스럽다, 기품, 비즈, 쥬얼...</td></tr>\n",
       "<tr><td>서울문화사 편집부</td><td>155380</td><td>비즈/구슬공예</td><td>1648449267000</td><td>3천원으로 제작하는 명품 스타일 비즈 액세서리 이 책은 비즈로 팔찌 발찌 반지 브로치 등의 액세서리를 포함해서 핸드폰줄과 키홀더 등도 제작할 수 있도록 구성되었다 종류별로 구...</td><td>https://bookthumb-phinf.pstatic.net/cover/001/553/00155380.jpg?type=m5</td><td>35</td><td>3천원으로 명품 스타일 비즈 액세서리</td><td>[제작, 명품, 스타일, 비즈, 액세서리, 책, 비즈, 팔찌, 발찌, 반지, 브로치, 액세서리, 포함, 핸드폰, 키홀, 제작, 구성, 되어다, 종류, 별로, 구별, 놓다, 찾...</td></tr>\n",
       "<tr><td>서울문화사 편집부</td><td>155381</td><td>비즈/구슬공예</td><td>1648449267000</td><td>탄생석 목걸이 · 귀고리 96가지 이 책은 비즈로 목걸이와 귀고리를 제작할 수 있도록 구성되었다 목걸이 귀고리 목걸이  귀고리 세트로 구별해 놓아 찾기 쉽게 해 놓았으며 작품...</td><td>https://bookthumb-phinf.pstatic.net/cover/001/553/00155381.jpg?type=m5</td><td>36</td><td>행운 부르는 비즈</td><td>[탄생석, 목걸이, 귀고리, 책, 비즈, 목걸이, 귀고리, 제작, 구성, 되어다, 목걸이, 귀고리, 목걸이, 귀고리, 세트, 구별, 놓다, 찾기, 쉬다, 해, 놓다, 작품, ...</td></tr>\n",
       "<tr><td>조재교</td><td>157947</td><td>비즈/구슬공예</td><td>1648449257000</td><td>다채로운 색상과 소재의 63가지 비즈 액세서리 만드는 법을 소개한 책 blue green pnk red black white의 여섯 가지 색상을 이용한 비즈 컬러 매치 방법을...</td><td>https://bookthumb-phinf.pstatic.net/cover/001/579/00157947.jpg?type=m5</td><td>22</td><td>6가지 컬러로 즐기는 비즈파티</td><td>[채, 색상, 소재, 비즈, 액세서리, 만들다, 법, 소개, 책, 색상, 이용, 비즈, 컬러, 매치, 방법, 제시, 비즈, 숍, 오픈, 다양하다, 케이스, 오픈, 꼭, 따지다...</td></tr>\n",
       "<tr><td>배효숙</td><td>158126</td><td>가구/DIY</td><td>1648449400000</td><td>엄마가 직접 만들어주는 아이옷 DIY 소개서 주부인 저자가 주부의 시점에서 원피스나 멜빵바지 셔츠와 같이 간편하고 멋있게 만들 수 있는 아이옷을 만드는 방법을 사진과 함께 소...</td><td>https://bookthumb-phinf.pstatic.net/cover/001/581/00158126.jpg?type=m5</td><td>35</td><td>내 손으로 만드는 명품 아이옷 DIY</td><td>[엄마, 직접, 만들다, 옷, 소개, 주부, 저자, 주부, 시점, 원피스, 멜빵, 바지, 셔츠, 간편하다, 멋있다, 만들다, 옷, 만들다, 방법, 사진, 소개, 옷, 만들기,...</td></tr>\n",
       "<tr><td>편집부</td><td>158881</td><td>비즈/구슬공예</td><td>1648449266000</td><td>개성있는 비즈 인테리어 소품을 통해 집안 분위기를 로맨틱하게 꾸미는 방법을 소개한 책 꽃병 전등 갓 커튼 발 샹들리에 등 총 55개의 비즈 공예 만드는 법을 상세히 설명했다 ...</td><td>https://bookthumb-phinf.pstatic.net/cover/001/588/00158881.jpg?type=m5</td><td>34</td><td>비즈 인테리어 소품 55</td><td>[개성, 비즈, 인테리어, 소품, 통해, 집안, 분위기, 로맨틱, 꾸미다, 방법, 소개, 책, 꽃병, 전등, 갓, 커튼, 발, 샹들리, 총, 비즈, 공예, 만들다, 법, 상세...</td></tr>\n",
       "<tr><td>박완서</td><td>180589</td><td>null</td><td>null</td><td>소설가 박완서의 단편동화 모음집 전기 용품 도매상의 꼬마 점원인 수남이가 도둑질도 나쁘지만 사람의 마음 속에 도사리고 있는 부도덕성이 얼마나 무서운지를 깨닫는 이야기인 표제작...</td><td>https://bookthumb-phinf.pstatic.net/cover/001/805/00180589.jpg?type=m5</td><td>63</td><td>자전거 도둑</td><td>[소설가, 박완서, 단편, 동화, 모음, 전기, 용품, 도매, 상의, 꼬마, 점원, 남, 도둑질, 나쁘다, 마음, 도, 사리, 부도덕, 무섭다, 깨닫다, 이야기, 표, 제작,...</td></tr>\n",
       "<tr><td>존 버거, 장 모르</td><td>185808</td><td>그림/포토 에세이</td><td>1647913248000</td><td>소설가 이자 극작가 그리고 다큐멘터리 작가인 존 버거가 유럽 이민노동자들의 대하여 이야기 하였다 그는 이민노동자의 경험의 윤곽 그리고 그것을 그 노동자를 둘러싸고 있는 물리적...</td><td>https://bookthumb-phinf.pstatic.net/cover/001/858/00185808.jpg?type=m5</td><td>23</td><td>제7의 인간</td><td>[소설가, 이자, 극작가, 다큐멘터리, 작가, 존, 버거, 유럽, 이민, 노동자, 이야기, 이민, 노동자, 경험, 윤곽, 노동자, 둘러싸다, 물리, 역사, 상황, 관련, 세계...</td></tr>\n",
       "<tr><td>이신화</td><td>191927</td><td>연극/영화</td><td>1648448151000</td><td>매회 최고 시청률 갱신 『스토브리그』 무삭제판 대본집 출간2020년 세상을 향해 통쾌한 한방을 날리다 모두의 편견을 깬 웰 메이드 야구 드라마 대한민국은 지금 〈스토브리그〉 ...</td><td>https://bookthumb-phinf.pstatic.net/cover/001/919/00191927.jpg?type=m5</td><td>31</td><td>스토브리그 대본집 1</td><td>[최고, 시청률, 갱신, 스토브, 리그, 무, 삭제, 판, 본집, 추다, 간, 세상, 향, 통쾌하다, 방, 날리다, 편견, 깨다, 웰, 메이드, 야구, 드라마, 대한민국, 스...</td></tr>\n",
       "<tr><td>이신화</td><td>191928</td><td>테마소설</td><td>1647913042000</td><td>매회 최고 시청률 갱신 『스토브리그』 무삭제판 대본집 출간2020년 세상을 향해 통쾌한 한방을 날리다 모두의 편견을 깬 웰 메이드 야구 드라마 대한민국은 지금 〈스토브리그〉 ...</td><td>https://bookthumb-phinf.pstatic.net/cover/001/919/00191928.jpg?type=m5</td><td>34</td><td>스토브리그 대본집 2</td><td>[최고, 시청률, 갱신, 스토브, 리그, 무, 삭제, 판, 본집, 추다, 간, 세상, 향, 통쾌하다, 방, 날리다, 편견, 깨다, 웰, 메이드, 야구, 드라마, 대한민국, 스...</td></tr>\n",
       "<tr><td>보먼트 뉴홀</td><td>273605</td><td>사진</td><td>1648448097000</td><td>수백 명의 유명작가들의 사진을 꼽아 가며 사진의 조류 및 그 전개상에 대한 총괄적인 연구를 제시하고 있는 책 세계 사진사에서 중요한 사진으로 평가받는 작품 삼백장이 실려 있으...</td><td>https://bookthumb-phinf.pstatic.net/cover/002/736/00273605.jpg?type=m5</td><td>8</td><td>사진의 역사</td><td>[수백, 명의, 유명, 작가, 사진, 꼽, 가다, 사진, 조류, 전개, 대한, 총괄, 연구, 제시, 책, 세계, 사진사, 중요하다, 사진, 평가, 받다, 작품, 삼백, 실리다...</td></tr>\n",
       "<tr><td>이복숙</td><td>1467782</td><td>비즈/구슬공예</td><td>1648449265000</td><td>나만의 개성을 연출하는 비즈를 기본기부터 고급 테크닉까지 난이도에 따라 누구나 손쉽게 배울 수 있는 책 소개된 내용에 따라 비즈를 한 알 한 알 골라 줄에 꿰어 귀엽고 사랑스...</td><td>https://bookthumb-phinf.pstatic.net/cover/014/677/01467782.jpg?type=m5</td><td>33</td><td>비즈 배우기</td><td>[개성, 연출, 비즈, 본기, 고급, 테크닉, 난이도, 따르다, 손쉽다, 배우다, 책, 소개, 내용, 따르다, 비즈, 고르다, 꿰어, 귀엽다, 사랑스럽다, 액세서리, 만들다,...</td></tr>\n",
       "<tr><td>편집부</td><td>1487856</td><td>비즈/구슬공예</td><td>1648449264000</td><td>브라이덜 주얼리 동물 입체 모티브 고저스 액세서리 등의 비즈 액세서리를 만드는 법이 소개되어 있는 비즈 컬렉션 3 생생한 사진과 함께 비즈 작품을 만드는 법이 상세하게 설명되...</td><td>https://bookthumb-phinf.pstatic.net/cover/014/878/01487856.jpg?type=m5</td><td>32</td><td>비즈 컬렉션 3</td><td>[브라, 덜, 주얼리, 동물, 입체, 모티브, 스, 액세서리, 비즈, 액세서리, 만들다, 법, 소개, 되어다, 비즈, 컬렉션, 생생하다, 사진, 비즈, 작품, 만들다, 법, ...</td></tr>\n",
       "</table>\n",
       "only showing top 20 rows\n"
      ],
      "text/plain": [
       "+-----------------+-------+----------------+-------------+-------------------------------------------------------------------------------------------------------------------------------------------------------------------------------+----------------------------------------------------------------------+-------+-----------------------------------+-----------------------------------------------------------------------------------------------------------------------------------------------------------+\n",
       "|           author|book_id|        category|         date|                                                                                                                                                                    description|                                                                 image|ranking|                              title|                                                                                                                                               preprocessed|\n",
       "+-----------------+-------+----------------+-------------+-------------------------------------------------------------------------------------------------------------------------------------------------------------------------------+----------------------------------------------------------------------+-------+-----------------------------------+-----------------------------------------------------------------------------------------------------------------------------------------------------------+\n",
       "|    토마스 불핀치|   2855|            신화|1648447114000|    중학생 독후감 필독선 시리즈 제13권 토마스 불핀치의 명작 그리스 로마 신화를 작품 알고 들어가기 내용 훑어보기 작품 분석하기 작가 들여다보기 시대와 연관짓기 작품 토론하기 ...|https://bookthumb-phinf.pstatic.net/cover/000/028/00002855.jpg?type=m5|     34|     중학생이 보는 그리스 로마 신화|  [중학생, 독후감, 필, 독선, 시리즈, 권, 토마스, 불, 핀치, 명작, 그리스, 로마, 신화, 작품, 들어가다, 내용, 훑어보기, 작품, 분석, 작가, 들여다보다, 시대,...|\n",
       "|효성출판사 편집부|  40565|        가구/DIY|1648449401000|                                                                        분위기기능에 따른 가구선택과 배치 주문가구 정보전국 5대 가구시장을 컬러화보 위주로 엮은 인테리어 무크지|https://bookthumb-phinf.pstatic.net/cover/000/405/00040565.jpg?type=m5|     37|                  소가구 & 수납가구|                                   [분위기, 기능, 따르다, 가구, 선택, 배치, 주문, 가구, 정보, 전국, 대다, 가구, 시장, 컬러, 화보, 위주, 엮, 인테리어, 무크]|\n",
       "|   중앙M&B 편집부|  66769|        가구/DIY|1648449401000| 실내 벽에서 소품가구까지 활용 가능한 페인팅 기법 을 컬러사진과 함께 설명한 생활무크 페인팅에 필요 한 도구와 재료설명을 비롯해 색다르게 칠하는 페인팅기법리폼 및 장식 아이디...|https://bookthumb-phinf.pstatic.net/cover/000/667/00066769.jpg?type=m5|     36|     내 손으로 더 예쁘게 페인팅 DIY|     [실내, 벽, 소품, 가구, 활용, 가능하다, 페인, 팅, 기법, 컬러, 사진, 설명, 생활, 무크, 페인팅, 필요, 도구, 재료, 설명, 비롯, 색다르다, 칠하다, 페인, ...|\n",
       "|    제레미 리프킨| 118837|       경제/경영|         null|  산업 시대 초기에 석탄과 증기 기관이 새로운 경제 패러다임을 마련했듯이 이제 수소 에너지가 기존의 경제 정치 사회를 근본적으로 바꿀 것이라고 예견하는 경제서 노동의 종말 소유...|https://bookthumb-phinf.pstatic.net/cover/001/188/00118837.jpg?type=m5|     27|                          수소 혁명|    [산업, 시대, 초기, 석탄, 증기, 기관, 새롭다, 경제, 패러다임, 마련, 이제, 수소, 에너지, 기존, 경제, 정치, 근본, 바꾸다, 예견, 경제, 노동, 종말, 소유,...|\n",
       "|           편집부| 149663|   비즈/구슬공예|1648449269000|  스와롭스키 비즈로 귀엽고 깜찍한 동물들을 만든다 꿰는 방법을 쉽게 이해하도록 평면도로 그려 놓았으며 완성된 크기와 사용할 비즈 낚싯줄 길이 공정도 꿰는 방법 등을 세세하게 기...|https://bookthumb-phinf.pstatic.net/cover/001/496/00149663.jpg?type=m5|     39|                        비즈 캐릭터|     [스, 롭스, 키, 비즈, 귀엽다, 깜찍하다, 동물, 만들다, 꿰, 방법, 쉬다, 이해, 평면도, 그리다, 놓다, 완성, 크기, 사용, 비즈, 낚싯줄, 길이, 공정, 꿰, 방...|\n",
       "|           노경민| 149664|   비즈/구슬공예|1648449268000|                비즈 공예 입문서이자 전문서 PART 1에서는 시작 마무리 규칙적인 기법 비즈의 기본적인 종류와 명칭 간단한 도구들에 대해 알아보며 PART 2에서는 진주 PART 3에서는 ...|https://bookthumb-phinf.pstatic.net/cover/001/496/00149664.jpg?type=m5|     38|                        비즈 주얼리|   [비즈, 공예, 입문, 이자, 전문, 시작, 마무리, 규칙, 기법, 비즈, 기본, 종류, 명칭, 간단하다, 도구, 알아보다, 진주, 크리스털, 이용, 기본, 기법, 비즈, 공...|\n",
       "|           편집부| 150897|   비즈/구슬공예|1648449270000|     비즈 만드는 법 303가지를 모아 엮었다 반지 목걸이 팔찌 귀걸이 등 다양한 악세사리 제작 방법과 비즈의 종류 등에 대하여 일목요연하게 기술하고 있으며 부재료 사용법과 게재작...|https://bookthumb-phinf.pstatic.net/cover/001/508/00150897.jpg?type=m5|     40|                   토탈 비즈 컬렉션| [비즈, 만들다, 법, 모으다, 엮었다, 반지, 목걸이, 팔찌, 귀걸이, 다양하다, 악세사리, 제작, 방법, 비즈, 종류, 일목요연하다, 기술, 부, 재료, 용법, 게재, 작...|\n",
       "|  사메지마 다카코| 150950|   비즈/구슬공예|1648449268000|  세상에서 단 하나뿐인 나만의 보석 만들기 로맨틱한 디자인부터 귀엽고 깜찍한 디자인까지 반지 초커 피어스 목걸이 핸드폰 줄 헤어 핀 등을 이용하여 사랑스럽고 기품있는 비즈 쥬얼...|https://bookthumb-phinf.pstatic.net/cover/001/509/00150950.jpg?type=m5|     37|                      프린세스 비즈| [세상, 단, 보석, 만들기, 로맨틱, 디자인, 귀엽다, 깜찍하다, 디자인, 반지, 초, 크다, 피어스, 목걸이, 핸드폰, 헤어, 핀, 이용, 사랑스럽다, 기품, 비즈, 쥬얼...|\n",
       "|서울문화사 편집부| 155380|   비즈/구슬공예|1648449267000|   3천원으로 제작하는 명품 스타일 비즈 액세서리 이 책은 비즈로 팔찌 발찌 반지 브로치 등의 액세서리를 포함해서 핸드폰줄과 키홀더 등도 제작할 수 있도록 구성되었다 종류별로 구...|https://bookthumb-phinf.pstatic.net/cover/001/553/00155380.jpg?type=m5|     35|3천원으로 명품 스타일 비즈 액세서리|   [제작, 명품, 스타일, 비즈, 액세서리, 책, 비즈, 팔찌, 발찌, 반지, 브로치, 액세서리, 포함, 핸드폰, 키홀, 제작, 구성, 되어다, 종류, 별로, 구별, 놓다, 찾...|\n",
       "|서울문화사 편집부| 155381|   비즈/구슬공예|1648449267000|       탄생석 목걸이 · 귀고리 96가지 이 책은 비즈로 목걸이와 귀고리를 제작할 수 있도록 구성되었다 목걸이 귀고리 목걸이  귀고리 세트로 구별해 놓아 찾기 쉽게 해 놓았으며 작품...|https://bookthumb-phinf.pstatic.net/cover/001/553/00155381.jpg?type=m5|     36|                   행운 부르는 비즈|   [탄생석, 목걸이, 귀고리, 책, 비즈, 목걸이, 귀고리, 제작, 구성, 되어다, 목걸이, 귀고리, 목걸이, 귀고리, 세트, 구별, 놓다, 찾기, 쉬다, 해, 놓다, 작품, ...|\n",
       "|           조재교| 157947|   비즈/구슬공예|1648449257000|                            다채로운 색상과 소재의 63가지 비즈 액세서리 만드는 법을 소개한 책 blue green pnk red black white의 여섯 가지 색상을 이용한 비즈 컬러 매치 방법을...|https://bookthumb-phinf.pstatic.net/cover/001/579/00157947.jpg?type=m5|     22|       6가지 컬러로 즐기는 비즈파티|     [채, 색상, 소재, 비즈, 액세서리, 만들다, 법, 소개, 책, 색상, 이용, 비즈, 컬러, 매치, 방법, 제시, 비즈, 숍, 오픈, 다양하다, 케이스, 오픈, 꼭, 따지다...|\n",
       "|           배효숙| 158126|        가구/DIY|1648449400000|     엄마가 직접 만들어주는 아이옷 DIY 소개서 주부인 저자가 주부의 시점에서 원피스나 멜빵바지 셔츠와 같이 간편하고 멋있게 만들 수 있는 아이옷을 만드는 방법을 사진과 함께 소...|https://bookthumb-phinf.pstatic.net/cover/001/581/00158126.jpg?type=m5|     35|   내 손으로 만드는 명품 아이옷 DIY|    [엄마, 직접, 만들다, 옷, 소개, 주부, 저자, 주부, 시점, 원피스, 멜빵, 바지, 셔츠, 간편하다, 멋있다, 만들다, 옷, 만들다, 방법, 사진, 소개, 옷, 만들기,...|\n",
       "|           편집부| 158881|   비즈/구슬공예|1648449266000|       개성있는 비즈 인테리어 소품을 통해 집안 분위기를 로맨틱하게 꾸미는 방법을 소개한 책 꽃병 전등 갓 커튼 발 샹들리에 등 총 55개의 비즈 공예 만드는 법을 상세히 설명했다 ...|https://bookthumb-phinf.pstatic.net/cover/001/588/00158881.jpg?type=m5|     34|              비즈 인테리어 소품 55|     [개성, 비즈, 인테리어, 소품, 통해, 집안, 분위기, 로맨틱, 꾸미다, 방법, 소개, 책, 꽃병, 전등, 갓, 커튼, 발, 샹들리, 총, 비즈, 공예, 만들다, 법, 상세...|\n",
       "|           박완서| 180589|            null|         null|소설가 박완서의 단편동화 모음집 전기 용품 도매상의 꼬마 점원인 수남이가 도둑질도 나쁘지만 사람의 마음 속에 도사리고 있는 부도덕성이 얼마나 무서운지를 깨닫는 이야기인 표제작...|https://bookthumb-phinf.pstatic.net/cover/001/805/00180589.jpg?type=m5|     63|                        자전거 도둑|    [소설가, 박완서, 단편, 동화, 모음, 전기, 용품, 도매, 상의, 꼬마, 점원, 남, 도둑질, 나쁘다, 마음, 도, 사리, 부도덕, 무섭다, 깨닫다, 이야기, 표, 제작,...|\n",
       "| 존 버거, 장 모르| 185808|그림/포토 에세이|1647913248000| 소설가 이자 극작가 그리고 다큐멘터리 작가인 존 버거가 유럽 이민노동자들의 대하여 이야기 하였다 그는 이민노동자의 경험의 윤곽 그리고 그것을 그 노동자를 둘러싸고 있는 물리적...|https://bookthumb-phinf.pstatic.net/cover/001/858/00185808.jpg?type=m5|     23|                         제7의 인간| [소설가, 이자, 극작가, 다큐멘터리, 작가, 존, 버거, 유럽, 이민, 노동자, 이야기, 이민, 노동자, 경험, 윤곽, 노동자, 둘러싸다, 물리, 역사, 상황, 관련, 세계...|\n",
       "|           이신화| 191927|       연극/영화|1648448151000|     매회 최고 시청률 갱신 『스토브리그』 무삭제판 대본집 출간2020년 세상을 향해 통쾌한 한방을 날리다 모두의 편견을 깬 웰 메이드 야구 드라마 대한민국은 지금 〈스토브리그〉 ...|https://bookthumb-phinf.pstatic.net/cover/001/919/00191927.jpg?type=m5|     31|                스토브리그 대본집 1|     [최고, 시청률, 갱신, 스토브, 리그, 무, 삭제, 판, 본집, 추다, 간, 세상, 향, 통쾌하다, 방, 날리다, 편견, 깨다, 웰, 메이드, 야구, 드라마, 대한민국, 스...|\n",
       "|           이신화| 191928|        테마소설|1647913042000|     매회 최고 시청률 갱신 『스토브리그』 무삭제판 대본집 출간2020년 세상을 향해 통쾌한 한방을 날리다 모두의 편견을 깬 웰 메이드 야구 드라마 대한민국은 지금 〈스토브리그〉 ...|https://bookthumb-phinf.pstatic.net/cover/001/919/00191928.jpg?type=m5|     34|                스토브리그 대본집 2|     [최고, 시청률, 갱신, 스토브, 리그, 무, 삭제, 판, 본집, 추다, 간, 세상, 향, 통쾌하다, 방, 날리다, 편견, 깨다, 웰, 메이드, 야구, 드라마, 대한민국, 스...|\n",
       "|      보먼트 뉴홀| 273605|            사진|1648448097000|   수백 명의 유명작가들의 사진을 꼽아 가며 사진의 조류 및 그 전개상에 대한 총괄적인 연구를 제시하고 있는 책 세계 사진사에서 중요한 사진으로 평가받는 작품 삼백장이 실려 있으...|https://bookthumb-phinf.pstatic.net/cover/002/736/00273605.jpg?type=m5|      8|                        사진의 역사|     [수백, 명의, 유명, 작가, 사진, 꼽, 가다, 사진, 조류, 전개, 대한, 총괄, 연구, 제시, 책, 세계, 사진사, 중요하다, 사진, 평가, 받다, 작품, 삼백, 실리다...|\n",
       "|           이복숙|1467782|   비즈/구슬공예|1648449265000|     나만의 개성을 연출하는 비즈를 기본기부터 고급 테크닉까지 난이도에 따라 누구나 손쉽게 배울 수 있는 책 소개된 내용에 따라 비즈를 한 알 한 알 골라 줄에 꿰어 귀엽고 사랑스...|https://bookthumb-phinf.pstatic.net/cover/014/677/01467782.jpg?type=m5|     33|                        비즈 배우기|[개성, 연출, 비즈, 본기, 고급, 테크닉, 난이도, 따르다, 손쉽다, 배우다, 책, 소개, 내용, 따르다, 비즈, 고르다, 꿰어, 귀엽다, 사랑스럽다, 액세서리, 만들다,...|\n",
       "|           편집부|1487856|   비즈/구슬공예|1648449264000|    브라이덜 주얼리 동물 입체 모티브 고저스 액세서리 등의 비즈 액세서리를 만드는 법이 소개되어 있는 비즈 컬렉션 3 생생한 사진과 함께 비즈 작품을 만드는 법이 상세하게 설명되...|https://bookthumb-phinf.pstatic.net/cover/014/878/01487856.jpg?type=m5|     32|                      비즈 컬렉션 3|   [브라, 덜, 주얼리, 동물, 입체, 모티브, 스, 액세서리, 비즈, 액세서리, 만들다, 법, 소개, 되어다, 비즈, 컬렉션, 생생하다, 사진, 비즈, 작품, 만들다, 법, ...|\n",
       "+-----------------+-------+----------------+-------------+-------------------------------------------------------------------------------------------------------------------------------------------------------------------------------+----------------------------------------------------------------------+-------+-----------------------------------+-----------------------------------------------------------------------------------------------------------------------------------------------------------+\n",
       "only showing top 20 rows"
      ]
     },
     "execution_count": 68,
     "metadata": {},
     "output_type": "execute_result"
    }
   ],
   "source": [
    "processed_book"
   ]
  },
  {
   "cell_type": "markdown",
   "id": "c5efe641-800d-4c89-ab3c-eee7c3a3c2eb",
   "metadata": {},
   "source": [
    "## 한계\n",
    "불용어가 제대로 제거되지 않았다. (불용어 제거 전과 후의 차이가 별로 없는 것 확인)\n",
    "\n",
    "한국어는 따로 정해진 불용어는 없고(nltk 한국어 불용어 리스트 없음) 토큰화 단계에서 조사.접속사를 제거하면 됨\n",
    "\n",
    "필요없는 명사/형용사 제거하고 싶을 경우 직접 불용어 리스트 정의 후 한국어 불용어 제거하면 됨\n",
    "\n",
    "## Modeling - Word2Vec"
   ]
  },
  {
   "cell_type": "code",
   "execution_count": 45,
   "id": "08a8d2e9-e7e1-4676-8c64-a9e07314774a",
   "metadata": {},
   "outputs": [
    {
     "name": "stderr",
     "output_type": "stream",
     "text": [
      "22/04/23 07:23:40 WARN BLAS: Failed to load implementation from: com.github.fommil.netlib.NativeSystemBLAS\n",
      "22/04/23 07:23:40 WARN BLAS: Failed to load implementation from: com.github.fommil.netlib.NativeRefBLAS\n",
      "                                                                                \r"
     ]
    },
    {
     "name": "stdout",
     "output_type": "stream",
     "text": [
      "+------+--------------------+\n",
      "|  word|              vector|\n",
      "+------+--------------------+\n",
      "|되어다|[0.14157755672931...|\n",
      "|호흡기|[-0.0178339071571...|\n",
      "|  근교|[0.03318461403250...|\n",
      "|  사진|[-0.1910458207130...|\n",
      "|  암시|[-0.0020179634448...|\n",
      "|    스|[-0.0755680501461...|\n",
      "|정재승|[-0.0371369421482...|\n",
      "|파닉스|[0.35975518822669...|\n",
      "|  마이|[-0.0909896194934...|\n",
      "|신격호|[-0.0291027352213...|\n",
      "|  권태|[-0.0436461940407...|\n",
      "|  당국|[-0.0199533216655...|\n",
      "|처지다|[-0.0562741532921...|\n",
      "|십자가|[0.00179836456663...|\n",
      "|  가드|[-0.0462693795561...|\n",
      "|  한강|[0.00678041158244...|\n",
      "|집주인|[-0.0311028826981...|\n",
      "|  오기|[-0.0295059010386...|\n",
      "|  관리|[-0.1665522903203...|\n",
      "|  부사|[-0.0046996907331...|\n",
      "+------+--------------------+\n",
      "only showing top 20 rows\n",
      "\n"
     ]
    }
   ],
   "source": [
    "from pyspark.ml.feature import Word2Vec\n",
    "from pyspark.ml.feature import Word2VecModel\n",
    "\n",
    "# inputCol=input Column name \n",
    "w2v = Word2Vec(vectorSize=100, seed=42, inputCol=\"preprocessed\", outputCol=\"model\")\n",
    "model = w2v.fit(processed_book)\n",
    "model.setInputCol(\"preprocessed\")\n",
    "model.getVectors().show()"
   ]
  },
  {
   "cell_type": "code",
   "execution_count": 46,
   "id": "9d722935-46ac-463f-bc27-574da7ac90dd",
   "metadata": {},
   "outputs": [
    {
     "name": "stdout",
     "output_type": "stream",
     "text": [
      "100\n",
      "Row(word='되어다', vector=DenseVector([0.1416, -0.1855, 0.0128, 0.1544, -0.0692, -0.161, 0.112, 0.0796, 0.0164, 0.1209, -0.0454, -0.1715, -0.0782, 0.087, -0.2373, -0.1492, 0.2244, 0.0239, -0.0116, 0.0445, -0.0817, 0.0563, -0.072, 0.0617, 0.0488, -0.0626, -0.0186, 0.0382, 0.007, 0.3066, 0.1254, -0.0451, -0.0256, -0.1121, 0.1641, 0.0327, 0.0582, -0.0666, 0.1545, 0.0628, -0.0281, -0.1011, -0.076, -0.0542, 0.1039, 0.0312, -0.0848, -0.0952, -0.1522, 0.0395, 0.0347, -0.0062, -0.0424, -0.1733, 0.122, -0.1255, -0.1013, 0.0329, -0.0842, 0.1696, -0.1153, 0.2334, 0.1803, 0.07, -0.1411, 0.1331, -0.0246, -0.0425, -0.0826, -0.0242, -0.0332, 0.004, 0.1072, 0.1858, 0.0182, 0.1269, -0.0324, 0.2249, 0.1156, -0.0055, -0.0203, -0.0407, 0.0583, 0.0787, -0.2156, -0.2723, 0.1715, -0.0292, -0.0741, -0.0522, 0.1224, 0.1654, 0.1319, -0.1055, 0.0876, 0.1065, 0.0029, 0.1119, 0.0342, -0.1222]))\n"
     ]
    }
   ],
   "source": [
    "print(model.getVectorSize())\n",
    "print(model.getVectors().first())"
   ]
  },
  {
   "cell_type": "markdown",
   "id": "995c35f0-69f1-4859-a249-3f1bcccc1873",
   "metadata": {},
   "source": [
    "#### 결과 확인"
   ]
  },
  {
   "cell_type": "code",
   "execution_count": 53,
   "id": "11930b7d-22cf-4f82-b6ca-38279b7244e0",
   "metadata": {},
   "outputs": [
    {
     "data": {
      "text/plain": [
       "Word2VecModel: uid=Word2Vec_d15e86781822, numWords=11359, vectorSize=100"
      ]
     },
     "execution_count": 53,
     "metadata": {},
     "output_type": "execute_result"
    }
   ],
   "source": [
    "model"
   ]
  },
  {
   "cell_type": "code",
   "execution_count": 47,
   "id": "294c9e54-8339-48eb-98b8-60acdcf97036",
   "metadata": {},
   "outputs": [
    {
     "data": {
      "text/html": [
       "<table border='1'>\n",
       "<tr><th>word</th><th>similarity</th></tr>\n",
       "<tr><td>촬영</td><td>0.83778</td></tr>\n",
       "<tr><td>카메라</td><td>0.77204</td></tr>\n",
       "</table>\n"
      ],
      "text/plain": [
       "+------+----------+\n",
       "|  word|similarity|\n",
       "+------+----------+\n",
       "|  촬영|   0.83778|\n",
       "|카메라|   0.77204|\n",
       "+------+----------+"
      ]
     },
     "execution_count": 47,
     "metadata": {},
     "output_type": "execute_result"
    }
   ],
   "source": [
    "from pyspark.sql.functions import format_number as fmt\n",
    "\n",
    "model.findSynonyms(\"사진\", 2).select(\"word\", fmt(\"similarity\", 5).alias(\"similarity\"))"
   ]
  },
  {
   "cell_type": "markdown",
   "id": "8c419e48-7805-4bf8-9b56-b031057898c6",
   "metadata": {},
   "source": [
    "### 모델 저장"
   ]
  },
  {
   "cell_type": "code",
   "execution_count": 49,
   "id": "b61b915a-89db-4b3b-8b1e-429a06bd16a7",
   "metadata": {},
   "outputs": [
    {
     "name": "stderr",
     "output_type": "stream",
     "text": [
      "                                                                                \r"
     ]
    }
   ],
   "source": [
    "temp_path = \"./\"\n",
    "# model metadata\n",
    "w2vPath = temp_path + \"/word2vec\"\n",
    "w2v.save(w2vPath)\n",
    "\n",
    "# metadata, weight in parquet form\n",
    "modelPath = temp_path + \"/word2vec-model\"\n",
    "model.save(modelPath)"
   ]
  },
  {
   "cell_type": "code",
   "execution_count": 72,
   "id": "1db13e5b-bc8f-465c-95ba-335c8fd1e536",
   "metadata": {},
   "outputs": [
    {
     "name": "stderr",
     "output_type": "stream",
     "text": [
      "22/04/23 09:43:55 WARN SimpleFunctionRegistry: The function veccols replaced a previously registered function.\n"
     ]
    },
    {
     "ename": "AssertionError",
     "evalue": "col should be Column",
     "output_type": "error",
     "traceback": [
      "\u001b[0;31m---------------------------------------------------------------------------\u001b[0m",
      "\u001b[0;31mAssertionError\u001b[0m                            Traceback (most recent call last)",
      "\u001b[0;32m/tmp/ipykernel_52/633882763.py\u001b[0m in \u001b[0;36m<module>\u001b[0;34m\u001b[0m\n\u001b[1;32m     21\u001b[0m \u001b[0;34m\u001b[0m\u001b[0m\n\u001b[1;32m     22\u001b[0m \u001b[0mw2v_words\u001b[0m \u001b[0;34m=\u001b[0m \u001b[0;34m[\u001b[0m\u001b[0mrow\u001b[0m\u001b[0;34m[\u001b[0m\u001b[0;34m\"word\"\u001b[0m\u001b[0;34m]\u001b[0m \u001b[0;32mfor\u001b[0m \u001b[0mrow\u001b[0m \u001b[0;32min\u001b[0m \u001b[0mmodel\u001b[0m\u001b[0;34m.\u001b[0m\u001b[0mgetVectors\u001b[0m\u001b[0;34m(\u001b[0m\u001b[0;34m)\u001b[0m\u001b[0;34m.\u001b[0m\u001b[0mcollect\u001b[0m\u001b[0;34m(\u001b[0m\u001b[0;34m)\u001b[0m\u001b[0;34m]\u001b[0m\u001b[0;34m\u001b[0m\u001b[0;34m\u001b[0m\u001b[0m\n\u001b[0;32m---> 23\u001b[0;31m \u001b[0mvectorize_book\u001b[0m \u001b[0;34m=\u001b[0m \u001b[0mprocessed_book\u001b[0m\u001b[0;34m.\u001b[0m\u001b[0mwithColumn\u001b[0m\u001b[0;34m(\u001b[0m\u001b[0;34m'description_to_vec'\u001b[0m\u001b[0;34m,\u001b[0m \u001b[0mget_document_vectors\u001b[0m\u001b[0;34m(\u001b[0m\u001b[0;34m'preprocessed'\u001b[0m\u001b[0;34m)\u001b[0m\u001b[0;34m)\u001b[0m\u001b[0;34m\u001b[0m\u001b[0;34m\u001b[0m\u001b[0m\n\u001b[0m",
      "\u001b[0;32m/opt/conda/lib/python3.9/site-packages/pyspark/sql/dataframe.py\u001b[0m in \u001b[0;36mwithColumn\u001b[0;34m(self, colName, col)\u001b[0m\n\u001b[1;32m   2452\u001b[0m \u001b[0;34m\u001b[0m\u001b[0m\n\u001b[1;32m   2453\u001b[0m         \"\"\"\n\u001b[0;32m-> 2454\u001b[0;31m         \u001b[0;32massert\u001b[0m \u001b[0misinstance\u001b[0m\u001b[0;34m(\u001b[0m\u001b[0mcol\u001b[0m\u001b[0;34m,\u001b[0m \u001b[0mColumn\u001b[0m\u001b[0;34m)\u001b[0m\u001b[0;34m,\u001b[0m \u001b[0;34m\"col should be Column\"\u001b[0m\u001b[0;34m\u001b[0m\u001b[0;34m\u001b[0m\u001b[0m\n\u001b[0m\u001b[1;32m   2455\u001b[0m         \u001b[0;32mreturn\u001b[0m \u001b[0mDataFrame\u001b[0m\u001b[0;34m(\u001b[0m\u001b[0mself\u001b[0m\u001b[0;34m.\u001b[0m\u001b[0m_jdf\u001b[0m\u001b[0;34m.\u001b[0m\u001b[0mwithColumn\u001b[0m\u001b[0;34m(\u001b[0m\u001b[0mcolName\u001b[0m\u001b[0;34m,\u001b[0m \u001b[0mcol\u001b[0m\u001b[0;34m.\u001b[0m\u001b[0m_jc\u001b[0m\u001b[0;34m)\u001b[0m\u001b[0;34m,\u001b[0m \u001b[0mself\u001b[0m\u001b[0;34m.\u001b[0m\u001b[0msql_ctx\u001b[0m\u001b[0;34m)\u001b[0m\u001b[0;34m\u001b[0m\u001b[0;34m\u001b[0m\u001b[0m\n\u001b[1;32m   2456\u001b[0m \u001b[0;34m\u001b[0m\u001b[0m\n",
      "\u001b[0;31mAssertionError\u001b[0m: col should be Column"
     ]
    }
   ],
   "source": [
    "vecCols = udf(lambda x : get_document_vectors(x), DoubleType())\n",
    "spark.udf.register(\"vecCols\", vecCols)\n",
    "\n",
    "def get_document_vectors(document_list):\n",
    "    doc2vec = None; count = 0\n",
    "    for word in document_list:\n",
    "        if word in w2v_words:\n",
    "            count += 1\n",
    "            # 해당 문서에 있는 모든 단어들의 벡터값을 더한다.\n",
    "            if doc2vec is None:\n",
    "                doc2vec = word2vec_model[word]\n",
    "            else:\n",
    "                doc2vec = doc2vec + word2vec_model[word]\n",
    "\n",
    "    if doc2vec is not None:\n",
    "        # 단어 벡터를 모두 더한 벡터의 값을 문서 길이로 나눠준다.\n",
    "        doc2vec = doc2vec / count\n",
    "\n",
    "    # 각 문서에 대한 문서 벡터 리스트를 리턴\n",
    "    return doc2vec\n",
    "\n",
    "w2v_words = [row[\"word\"] for row in model.getVectors().collect()]\n",
    "vectorize_book = processed_book.withColumn('description_to_vec', get_document_vectors('preprocessed'))\n"
   ]
  },
  {
   "cell_type": "code",
   "execution_count": 71,
   "id": "e4a0bf8a-315a-4df0-bb73-d2ec067a6fda",
   "metadata": {},
   "outputs": [
    {
     "name": "stderr",
     "output_type": "stream",
     "text": [
      "[Stage 57:>                                                         (0 + 1) / 1]\r"
     ]
    },
    {
     "name": "stdout",
     "output_type": "stream",
     "text": [
      "+-----------------+-------+----------------+-------------+----------------------------------+--------------------+-------+-----------------------------------+------------------------------+\n",
      "|           author|book_id|        category|         date|                       description|               image|ranking|                              title|                  preprocessed|\n",
      "+-----------------+-------+----------------+-------------+----------------------------------+--------------------+-------+-----------------------------------+------------------------------+\n",
      "|    토마스 불핀치|   2855|            신화|1648447114000| 중학생 독후감 필독선 시리즈 제...|https://bookthumb...|     34|     중학생이 보는 그리스 로마 신화| [중학생, 독후감, 필, 독선,...|\n",
      "|효성출판사 편집부|  40565|        가구/DIY|1648449401000|분위기기능에 따른 가구선택과 배...|https://bookthumb...|     37|                  소가구 & 수납가구|[분위기, 기능, 따르다, 가구...|\n",
      "|   중앙M&B 편집부|  66769|        가구/DIY|1648449401000| 실내 벽에서 소품가구까지 활용 ...|https://bookthumb...|     36|     내 손으로 더 예쁘게 페인팅 DIY|  [실내, 벽, 소품, 가구, 활...|\n",
      "|    제레미 리프킨| 118837|       경제/경영|         null|  산업 시대 초기에 석탄과 증기 ...|https://bookthumb...|     27|                          수소 혁명|  [산업, 시대, 초기, 석탄, ...|\n",
      "|           편집부| 149663|   비즈/구슬공예|1648449269000|스와롭스키 비즈로 귀엽고 깜찍한...|https://bookthumb...|     39|                        비즈 캐릭터|  [스, 롭스, 키, 비즈, 귀엽...|\n",
      "|           노경민| 149664|   비즈/구슬공예|1648449268000|  비즈 공예 입문서이자 전문서 P...|https://bookthumb...|     38|                        비즈 주얼리|  [비즈, 공예, 입문, 이자, ...|\n",
      "|           편집부| 150897|   비즈/구슬공예|1648449270000|    비즈 만드는 법 303가지를 모...|https://bookthumb...|     40|                   토탈 비즈 컬렉션| [비즈, 만들다, 법, 모으다,...|\n",
      "|  사메지마 다카코| 150950|   비즈/구슬공예|1648449268000| 세상에서 단 하나뿐인 나만의 보...|https://bookthumb...|     37|                      프린세스 비즈|  [세상, 단, 보석, 만들기, ...|\n",
      "|서울문화사 편집부| 155380|   비즈/구슬공예|1648449267000| 3천원으로 제작하는 명품 스타일...|https://bookthumb...|     35|3천원으로 명품 스타일 비즈 액세서리| [제작, 명품, 스타일, 비즈,...|\n",
      "|서울문화사 편집부| 155381|   비즈/구슬공예|1648449267000|    탄생석 목걸이 · 귀고리 96가...|https://bookthumb...|     36|                   행운 부르는 비즈|[탄생석, 목걸이, 귀고리, 책...|\n",
      "|           조재교| 157947|   비즈/구슬공예|1648449257000|  다채로운 색상과 소재의 63가지...|https://bookthumb...|     22|       6가지 컬러로 즐기는 비즈파티|  [채, 색상, 소재, 비즈, 액...|\n",
      "|           배효숙| 158126|        가구/DIY|1648449400000| 엄마가 직접 만들어주는 아이옷 ...|https://bookthumb...|     35|   내 손으로 만드는 명품 아이옷 DIY|  [엄마, 직접, 만들다, 옷, ...|\n",
      "|           편집부| 158881|   비즈/구슬공예|1648449266000| 개성있는 비즈 인테리어 소품을 ...|https://bookthumb...|     34|              비즈 인테리어 소품 55|[개성, 비즈, 인테리어, 소품...|\n",
      "|           박완서| 180589|            null|         null|소설가 박완서의 단편동화 모음집...|https://bookthumb...|     63|                        자전거 도둑|[소설가, 박완서, 단편, 동화...|\n",
      "| 존 버거, 장 모르| 185808|그림/포토 에세이|1647913248000| 소설가 이자 극작가 그리고 다큐...|https://bookthumb...|     23|                         제7의 인간|[소설가, 이자, 극작가, 다큐...|\n",
      "|           이신화| 191927|       연극/영화|1648448151000| 매회 최고 시청률 갱신 『스토브...|https://bookthumb...|     31|                스토브리그 대본집 1|[최고, 시청률, 갱신, 스토브...|\n",
      "|           이신화| 191928|        테마소설|1647913042000| 매회 최고 시청률 갱신 『스토브...|https://bookthumb...|     34|                스토브리그 대본집 2|[최고, 시청률, 갱신, 스토브...|\n",
      "|      보먼트 뉴홀| 273605|            사진|1648448097000| 수백 명의 유명작가들의 사진을 ...|https://bookthumb...|      8|                        사진의 역사|  [수백, 명의, 유명, 작가, ...|\n",
      "|           이복숙|1467782|   비즈/구슬공예|1648449265000| 나만의 개성을 연출하는 비즈를 ...|https://bookthumb...|     33|                        비즈 배우기|  [개성, 연출, 비즈, 본기, ...|\n",
      "|           편집부|1487856|   비즈/구슬공예|1648449264000| 브라이덜 주얼리 동물 입체 모티...|https://bookthumb...|     32|                      비즈 컬렉션 3|  [브라, 덜, 주얼리, 동물, ...|\n",
      "+-----------------+-------+----------------+-------------+----------------------------------+--------------------+-------+-----------------------------------+------------------------------+\n",
      "only showing top 20 rows\n",
      "\n"
     ]
    },
    {
     "name": "stderr",
     "output_type": "stream",
     "text": [
      "                                                                                \r"
     ]
    }
   ],
   "source": [
    "processed_book.show()"
   ]
  },
  {
   "cell_type": "code",
   "execution_count": null,
   "id": "6e2c147c-fcdf-49bb-80c4-bc54a87d6ba9",
   "metadata": {},
   "outputs": [],
   "source": []
  },
  {
   "cell_type": "code",
   "execution_count": null,
   "id": "520f3505-414e-4138-aa19-da7100a7a044",
   "metadata": {},
   "outputs": [],
   "source": []
  },
  {
   "cell_type": "code",
   "execution_count": null,
   "id": "bcfaf239-39e7-4249-9eef-ae7e3f6e878a",
   "metadata": {},
   "outputs": [],
   "source": []
  },
  {
   "cell_type": "code",
   "execution_count": null,
   "id": "9cfe15d4-73a9-4469-9946-f8847c430060",
   "metadata": {},
   "outputs": [],
   "source": []
  },
  {
   "cell_type": "code",
   "execution_count": null,
   "id": "1298f70a-4fce-4c68-8078-0f78bf035880",
   "metadata": {},
   "outputs": [],
   "source": []
  },
  {
   "cell_type": "code",
   "execution_count": null,
   "id": "f7ed98e0-3733-470b-879e-4c1a41c279da",
   "metadata": {},
   "outputs": [],
   "source": []
  }
 ],
 "metadata": {
  "kernelspec": {
   "display_name": "Python 3 (ipykernel)",
   "language": "python",
   "name": "python3"
  },
  "language_info": {
   "codemirror_mode": {
    "name": "ipython",
    "version": 3
   },
   "file_extension": ".py",
   "mimetype": "text/x-python",
   "name": "python",
   "nbconvert_exporter": "python",
   "pygments_lexer": "ipython3",
   "version": "3.9.6"
  }
 },
 "nbformat": 4,
 "nbformat_minor": 5
}
